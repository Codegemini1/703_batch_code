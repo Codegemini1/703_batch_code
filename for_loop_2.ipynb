{
 "cells": [
  {
   "cell_type": "code",
   "execution_count": 1,
   "id": "4845c04c-c095-4aef-9609-dad0477f8778",
   "metadata": {},
   "outputs": [],
   "source": [
    "l = [1,2,3,4]"
   ]
  },
  {
   "cell_type": "code",
   "execution_count": 2,
   "id": "2498a605-5dbb-486e-ba34-8fa7e8620449",
   "metadata": {},
   "outputs": [
    {
     "data": {
      "text/plain": [
       "4"
      ]
     },
     "execution_count": 2,
     "metadata": {},
     "output_type": "execute_result"
    }
   ],
   "source": [
    "len(l)"
   ]
  },
  {
   "cell_type": "code",
   "execution_count": 3,
   "id": "668be113-879b-484a-95c8-e2e1a395dc1c",
   "metadata": {},
   "outputs": [
    {
     "name": "stdout",
     "output_type": "stream",
     "text": [
      "Hello\n",
      "Hello\n",
      "Hello\n",
      "Hello\n"
     ]
    }
   ],
   "source": [
    "for num in l:\n",
    "    print('Hello')"
   ]
  },
  {
   "cell_type": "code",
   "execution_count": 4,
   "id": "5cc3c67b-0cf6-4d19-9d43-cf9e92e76f1c",
   "metadata": {},
   "outputs": [
    {
     "name": "stdout",
     "output_type": "stream",
     "text": [
      "[1, 2, 3, 4]\n",
      "[1, 2, 3, 4]\n",
      "[1, 2, 3, 4]\n",
      "[1, 2, 3, 4]\n"
     ]
    }
   ],
   "source": [
    "for i in l:\n",
    "    print(l)"
   ]
  },
  {
   "cell_type": "code",
   "execution_count": 5,
   "id": "1bdbf4c8-b3a4-443a-bbfd-9866ba62da14",
   "metadata": {},
   "outputs": [
    {
     "ename": "TypeError",
     "evalue": "'int' object is not iterable",
     "output_type": "error",
     "traceback": [
      "\u001b[1;31m---------------------------------------------------------------------------\u001b[0m",
      "\u001b[1;31mTypeError\u001b[0m                                 Traceback (most recent call last)",
      "Cell \u001b[1;32mIn[5], line 1\u001b[0m\n\u001b[1;32m----> 1\u001b[0m \u001b[38;5;28;01mfor\u001b[39;00m i \u001b[38;5;129;01min\u001b[39;00m \u001b[38;5;28mlen\u001b[39m(l):\n\u001b[0;32m      2\u001b[0m     \u001b[38;5;28mprint\u001b[39m(i)\n",
      "\u001b[1;31mTypeError\u001b[0m: 'int' object is not iterable"
     ]
    }
   ],
   "source": [
    "for i in len(l):\n",
    "    print(i)"
   ]
  },
  {
   "cell_type": "code",
   "execution_count": 6,
   "id": "9ea9d950-9ea6-4d2f-b9b5-ab6ddf48581f",
   "metadata": {},
   "outputs": [],
   "source": [
    "# Range of dataset"
   ]
  },
  {
   "cell_type": "code",
   "execution_count": 7,
   "id": "fc52eefe-3cef-497b-865f-70bab9cfdf17",
   "metadata": {},
   "outputs": [
    {
     "data": {
      "text/plain": [
       "range(0, 5)"
      ]
     },
     "execution_count": 7,
     "metadata": {},
     "output_type": "execute_result"
    }
   ],
   "source": [
    "range(5)"
   ]
  },
  {
   "cell_type": "code",
   "execution_count": 8,
   "id": "0b092384-9975-493c-93f0-c472337f9e10",
   "metadata": {},
   "outputs": [
    {
     "name": "stdout",
     "output_type": "stream",
     "text": [
      "0\n",
      "1\n",
      "2\n",
      "3\n",
      "4\n"
     ]
    }
   ],
   "source": [
    "for i in range(5):\n",
    "    print(i)"
   ]
  },
  {
   "cell_type": "code",
   "execution_count": 9,
   "id": "1fa17c75-9b64-4474-8493-38eb206b855f",
   "metadata": {},
   "outputs": [
    {
     "name": "stdout",
     "output_type": "stream",
     "text": [
      "1\n",
      "2\n",
      "3\n",
      "4\n",
      "5\n",
      "6\n",
      "7\n",
      "8\n",
      "9\n",
      "10\n"
     ]
    }
   ],
   "source": [
    "for i in range(1,11): # Starting num : End num\n",
    "    print(i)\n",
    "    "
   ]
  },
  {
   "cell_type": "code",
   "execution_count": 11,
   "id": "f6ea4cfb-0350-417e-bb7c-1b1c7f1f69e3",
   "metadata": {},
   "outputs": [
    {
     "name": "stdout",
     "output_type": "stream",
     "text": [
      "2\n",
      "4\n",
      "6\n",
      "8\n",
      "10\n",
      "12\n",
      "14\n",
      "16\n",
      "18\n",
      "20\n"
     ]
    }
   ],
   "source": [
    "for i in range(2,21,2):\n",
    "    print(i)"
   ]
  },
  {
   "cell_type": "code",
   "execution_count": 12,
   "id": "069858df-1917-41e3-a032-e28d38e0e0c6",
   "metadata": {},
   "outputs": [
    {
     "name": "stdout",
     "output_type": "stream",
     "text": [
      "3\n",
      "6\n",
      "9\n",
      "12\n",
      "15\n",
      "18\n",
      "21\n",
      "24\n",
      "27\n",
      "30\n"
     ]
    }
   ],
   "source": [
    "for i in range(3,31,3):\n",
    "    print(i)"
   ]
  },
  {
   "cell_type": "code",
   "execution_count": 13,
   "id": "07140cc0-d167-40be-89e0-3b508e0507ee",
   "metadata": {},
   "outputs": [
    {
     "name": "stdout",
     "output_type": "stream",
     "text": [
      "0\n",
      "1\n",
      "2\n",
      "3\n",
      "4\n",
      "5\n",
      "6\n",
      "7\n",
      "8\n",
      "9\n"
     ]
    }
   ],
   "source": [
    "for i in range(10):\n",
    "    print(i)\n",
    "    "
   ]
  },
  {
   "cell_type": "code",
   "execution_count": 14,
   "id": "9cfd8212-d040-4ff9-b4c6-0cef0b3af0d3",
   "metadata": {},
   "outputs": [
    {
     "name": "stdout",
     "output_type": "stream",
     "text": [
      "Hello\n",
      "Hello\n",
      "Hello\n",
      "Hello\n",
      "Hello\n"
     ]
    }
   ],
   "source": [
    "for i in range(5):\n",
    "    print('Hello')"
   ]
  },
  {
   "cell_type": "code",
   "execution_count": 15,
   "id": "2abc0ad3-de85-4de2-9e9c-06dc54eb5cbd",
   "metadata": {},
   "outputs": [
    {
     "name": "stdout",
     "output_type": "stream",
     "text": [
      "1\n",
      "2\n",
      "3\n",
      "4\n",
      "5\n"
     ]
    }
   ],
   "source": [
    "for i in range(1,6):\n",
    "    print(i)"
   ]
  },
  {
   "cell_type": "code",
   "execution_count": 16,
   "id": "df640502-2689-4687-a7c2-14c874bcde20",
   "metadata": {},
   "outputs": [
    {
     "name": "stdout",
     "output_type": "stream",
     "text": [
      ".\n",
      "..\n",
      "...\n",
      "....\n",
      ".....\n"
     ]
    }
   ],
   "source": [
    "for i in range(1,6):\n",
    "    print('.' * i)"
   ]
  },
  {
   "cell_type": "code",
   "execution_count": 17,
   "id": "1cec4ecc-e8b8-48ce-bdd5-adbfc0e1a85e",
   "metadata": {},
   "outputs": [
    {
     "name": "stdout",
     "output_type": "stream",
     "text": [
      "$\n",
      "$$\n",
      "$$$\n",
      "$$$$\n",
      "$$$$$\n",
      "$$$$$$\n",
      "$$$$$$$\n",
      "$$$$$$$$\n",
      "$$$$$$$$$\n",
      "$$$$$$$$$$\n"
     ]
    }
   ],
   "source": [
    "for i in range(1,11):\n",
    "    print('$' * i)"
   ]
  },
  {
   "cell_type": "code",
   "execution_count": 19,
   "id": "1365d65b-5eec-4be7-b7aa-b9e527774897",
   "metadata": {},
   "outputs": [
    {
     "name": "stdout",
     "output_type": "stream",
     "text": [
      "5\n",
      "4\n",
      "3\n",
      "2\n",
      "1\n"
     ]
    }
   ],
   "source": [
    "for i in range(5,0,-1):\n",
    "    print(i)"
   ]
  },
  {
   "cell_type": "code",
   "execution_count": 20,
   "id": "12b083a7-674c-40a8-9e1f-46738ede1f72",
   "metadata": {},
   "outputs": [
    {
     "name": "stdout",
     "output_type": "stream",
     "text": [
      ".....\n",
      "....\n",
      "...\n",
      "..\n",
      ".\n"
     ]
    }
   ],
   "source": [
    "for i in range(5,0,-1):\n",
    "    print('.' * i)"
   ]
  },
  {
   "cell_type": "code",
   "execution_count": 21,
   "id": "572ae2a3-6e71-40a2-874c-a174082d07b0",
   "metadata": {},
   "outputs": [
    {
     "name": "stdout",
     "output_type": "stream",
     "text": [
      "Python\n",
      "Python\n",
      "Python\n",
      "Python\n",
      "Python\n"
     ]
    }
   ],
   "source": [
    "for i in 'Hello':\n",
    "    print('Python')"
   ]
  },
  {
   "cell_type": "code",
   "execution_count": 22,
   "id": "e4232d00-d19f-4d75-a4bd-39e57039a7fb",
   "metadata": {},
   "outputs": [],
   "source": [
    "# Nested Loop"
   ]
  },
  {
   "cell_type": "code",
   "execution_count": 23,
   "id": "b6458323-3f4a-48ed-a095-fc76754a5a3f",
   "metadata": {},
   "outputs": [],
   "source": [
    "l = [1,2,3,4,[10,20,30],5,6]"
   ]
  },
  {
   "cell_type": "code",
   "execution_count": 24,
   "id": "0951f174-de14-4dcf-9176-a437356f8a5b",
   "metadata": {},
   "outputs": [
    {
     "name": "stdout",
     "output_type": "stream",
     "text": [
      "1\n",
      "2\n",
      "3\n",
      "4\n",
      "[10, 20, 30]\n",
      "5\n",
      "6\n"
     ]
    }
   ],
   "source": [
    "for i in l:\n",
    "    print(i)"
   ]
  },
  {
   "cell_type": "code",
   "execution_count": 25,
   "id": "989576a7-858e-4c1f-a2b4-9845fa4e81d9",
   "metadata": {},
   "outputs": [],
   "source": [
    "# Check data types"
   ]
  },
  {
   "cell_type": "code",
   "execution_count": 26,
   "id": "34078efd-6ad1-4369-b330-6a969be35415",
   "metadata": {},
   "outputs": [],
   "source": [
    "d = [1,1.5,10+5j,'Hello',True]"
   ]
  },
  {
   "cell_type": "code",
   "execution_count": 28,
   "id": "572a407a-1332-44ed-876f-ffc21ea89a1b",
   "metadata": {},
   "outputs": [
    {
     "name": "stdout",
     "output_type": "stream",
     "text": [
      "<class 'int'> 1\n",
      "<class 'float'> 1.5\n",
      "<class 'complex'> (10+5j)\n",
      "<class 'str'> Hello\n",
      "<class 'bool'> True\n"
     ]
    }
   ],
   "source": [
    "for i in d:\n",
    "    print(type(i), i)"
   ]
  },
  {
   "cell_type": "code",
   "execution_count": 29,
   "id": "baa8ca43-e9e9-43de-907d-33db4482aee5",
   "metadata": {},
   "outputs": [],
   "source": [
    "# Filter out only int type data"
   ]
  },
  {
   "cell_type": "code",
   "execution_count": 30,
   "id": "5c0fff73-019f-4bf6-8ec7-b91c685ce88e",
   "metadata": {},
   "outputs": [],
   "source": [
    "f = [10,15.3,4,'H',True]"
   ]
  },
  {
   "cell_type": "code",
   "execution_count": null,
   "id": "933bafec-1905-4a48-ade7-c45b385a2b9c",
   "metadata": {},
   "outputs": [],
   "source": [
    "10\n",
    "4"
   ]
  },
  {
   "cell_type": "code",
   "execution_count": 31,
   "id": "a5efb1be-28c8-4b8b-b5a4-105637a1abc9",
   "metadata": {},
   "outputs": [
    {
     "name": "stdout",
     "output_type": "stream",
     "text": [
      "10\n",
      "15.3\n",
      "4\n",
      "H\n",
      "True\n"
     ]
    }
   ],
   "source": [
    "for i in f:\n",
    "    print(i)"
   ]
  },
  {
   "cell_type": "code",
   "execution_count": 34,
   "id": "ae2e06c1-68ba-4b9a-981b-e34d1798616a",
   "metadata": {},
   "outputs": [
    {
     "name": "stdout",
     "output_type": "stream",
     "text": [
      "10\n",
      "4\n"
     ]
    }
   ],
   "source": [
    "for i in f:\n",
    "    if type(i) == int:\n",
    "        print(i)"
   ]
  },
  {
   "cell_type": "code",
   "execution_count": 32,
   "id": "14f20c26-89e6-4815-bd97-d2ce94bd088d",
   "metadata": {},
   "outputs": [
    {
     "data": {
      "text/plain": [
       "int"
      ]
     },
     "execution_count": 32,
     "metadata": {},
     "output_type": "execute_result"
    }
   ],
   "source": [
    "type(10)"
   ]
  },
  {
   "cell_type": "code",
   "execution_count": 33,
   "id": "2d03abed-e3e7-474b-bfac-cf5c2caea201",
   "metadata": {},
   "outputs": [
    {
     "data": {
      "text/plain": [
       "True"
      ]
     },
     "execution_count": 33,
     "metadata": {},
     "output_type": "execute_result"
    }
   ],
   "source": [
    "'int' == 'int'"
   ]
  },
  {
   "cell_type": "code",
   "execution_count": 35,
   "id": "5825689f-3d86-4fd6-a6bf-51c0f986e7ba",
   "metadata": {},
   "outputs": [
    {
     "data": {
      "text/plain": [
       "float"
      ]
     },
     "execution_count": 35,
     "metadata": {},
     "output_type": "execute_result"
    }
   ],
   "source": [
    "type(15.3)"
   ]
  },
  {
   "cell_type": "code",
   "execution_count": 36,
   "id": "0941ffb5-605a-4276-b2c3-499d91211c4c",
   "metadata": {},
   "outputs": [
    {
     "name": "stdout",
     "output_type": "stream",
     "text": [
      "1.5\n"
     ]
    }
   ],
   "source": [
    "for i in d:\n",
    "    if type(i) == float:\n",
    "        print(i)"
   ]
  },
  {
   "cell_type": "code",
   "execution_count": 37,
   "id": "a2ea907a-4b79-40cf-aade-5e660d47d764",
   "metadata": {},
   "outputs": [],
   "source": [
    "# Int and float"
   ]
  },
  {
   "cell_type": "code",
   "execution_count": 39,
   "id": "525ba612-da66-48b9-a879-5b507d46aecd",
   "metadata": {},
   "outputs": [
    {
     "name": "stdout",
     "output_type": "stream",
     "text": [
      "10\n",
      "15.3\n",
      "4\n"
     ]
    }
   ],
   "source": [
    "for i in f:\n",
    "    if type(i) == int:\n",
    "        print(i)\n",
    "    elif type(i) == float:\n",
    "        print(i)"
   ]
  },
  {
   "cell_type": "code",
   "execution_count": 40,
   "id": "ea456414-4867-41bd-9f0a-f0898932865d",
   "metadata": {},
   "outputs": [
    {
     "data": {
      "text/plain": [
       "[10, 15.3, 4, 'H', True]"
      ]
     },
     "execution_count": 40,
     "metadata": {},
     "output_type": "execute_result"
    }
   ],
   "source": [
    "f"
   ]
  },
  {
   "cell_type": "code",
   "execution_count": 41,
   "id": "015f51bc-7f29-490e-b7b3-c6a4a1661162",
   "metadata": {},
   "outputs": [],
   "source": [
    "mix_list = [[1,2,3,4], (10,20,30), {12,13,14}]"
   ]
  },
  {
   "cell_type": "code",
   "execution_count": 42,
   "id": "9ee35151-a932-48b0-9434-8d366208762b",
   "metadata": {},
   "outputs": [
    {
     "name": "stdout",
     "output_type": "stream",
     "text": [
      "[1, 2, 3, 4]\n",
      "(10, 20, 30)\n",
      "{12, 13, 14}\n"
     ]
    }
   ],
   "source": [
    "for i in mix_list:\n",
    "    print(i)"
   ]
  },
  {
   "cell_type": "code",
   "execution_count": 43,
   "id": "28462b97-a2e2-4e14-9e28-c8d13f83d68e",
   "metadata": {},
   "outputs": [
    {
     "name": "stdout",
     "output_type": "stream",
     "text": [
      "[1, 2, 3, 4] <class 'list'>\n",
      "(10, 20, 30) <class 'tuple'>\n",
      "{12, 13, 14} <class 'set'>\n"
     ]
    }
   ],
   "source": [
    "for i in mix_list:\n",
    "    print(i, type(i))"
   ]
  },
  {
   "cell_type": "code",
   "execution_count": 44,
   "id": "1e38fcde-fa6e-4469-bd3c-7ae9e12fb80d",
   "metadata": {},
   "outputs": [
    {
     "name": "stdout",
     "output_type": "stream",
     "text": [
      "(10, 20, 30)\n"
     ]
    }
   ],
   "source": [
    "for i in mix_list:\n",
    "    if type(i) == tuple:\n",
    "        print(i)"
   ]
  },
  {
   "cell_type": "code",
   "execution_count": 45,
   "id": "d976ba44-1d0b-48dd-90fa-98c8355ba520",
   "metadata": {},
   "outputs": [
    {
     "name": "stdout",
     "output_type": "stream",
     "text": [
      "[1, 2, 3, 4]\n"
     ]
    }
   ],
   "source": [
    "for i in mix_list:\n",
    "    if type(i) == list:\n",
    "        print(i)"
   ]
  },
  {
   "cell_type": "code",
   "execution_count": 46,
   "id": "dae238a9-31c3-4b24-964a-b0d1b7ef262f",
   "metadata": {},
   "outputs": [
    {
     "data": {
      "text/plain": [
       "[[1, 2, 3, 4], (10, 20, 30), {12, 13, 14}]"
      ]
     },
     "execution_count": 46,
     "metadata": {},
     "output_type": "execute_result"
    }
   ],
   "source": [
    "mix_list"
   ]
  },
  {
   "cell_type": "code",
   "execution_count": 48,
   "id": "c32ddf1b-7d37-4b3f-94b6-c1981e97d354",
   "metadata": {},
   "outputs": [
    {
     "name": "stdout",
     "output_type": "stream",
     "text": [
      "1\n",
      "2\n",
      "3\n",
      "4\n"
     ]
    }
   ],
   "source": [
    "for i in mix_list:\n",
    "    if type(i) == list:\n",
    "        for num in i:\n",
    "            print(num)"
   ]
  },
  {
   "cell_type": "code",
   "execution_count": 49,
   "id": "5599b896-d2c5-44b0-9419-273a1ece8bce",
   "metadata": {},
   "outputs": [],
   "source": [
    "# Try to solve 5 eg"
   ]
  },
  {
   "cell_type": "code",
   "execution_count": 50,
   "id": "40449469-d43a-4a85-ad33-f3eafd8d5486",
   "metadata": {},
   "outputs": [],
   "source": [
    "l1 = [1,2,3,[10,20,30],4,5]"
   ]
  },
  {
   "cell_type": "code",
   "execution_count": 51,
   "id": "fa1d75cd-8cd6-4ab0-9bcc-b7d6b7ec0548",
   "metadata": {},
   "outputs": [
    {
     "name": "stdout",
     "output_type": "stream",
     "text": [
      "1\n",
      "2\n",
      "3\n",
      "[10, 20, 30]\n",
      "4\n",
      "5\n"
     ]
    }
   ],
   "source": [
    "for i in l1:\n",
    "    print(i)"
   ]
  },
  {
   "cell_type": "code",
   "execution_count": 52,
   "id": "d4ef7c8c-9ef8-422a-8164-eb96ad1a1952",
   "metadata": {},
   "outputs": [
    {
     "name": "stdout",
     "output_type": "stream",
     "text": [
      "1\n",
      "2\n",
      "3\n",
      "10\n",
      "20\n",
      "30\n",
      "4\n",
      "5\n"
     ]
    }
   ],
   "source": [
    "for i in l1:\n",
    "    if type(i) == int:\n",
    "        print(i)\n",
    "    elif type(i) == list:\n",
    "        for num in i:\n",
    "            print(num)"
   ]
  },
  {
   "cell_type": "code",
   "execution_count": null,
   "id": "7b2264aa-360b-4113-9a21-e0f6ce5d5079",
   "metadata": {},
   "outputs": [],
   "source": []
  }
 ],
 "metadata": {
  "kernelspec": {
   "display_name": "Python 3 (ipykernel)",
   "language": "python",
   "name": "python3"
  },
  "language_info": {
   "codemirror_mode": {
    "name": "ipython",
    "version": 3
   },
   "file_extension": ".py",
   "mimetype": "text/x-python",
   "name": "python",
   "nbconvert_exporter": "python",
   "pygments_lexer": "ipython3",
   "version": "3.12.4"
  }
 },
 "nbformat": 4,
 "nbformat_minor": 5
}
