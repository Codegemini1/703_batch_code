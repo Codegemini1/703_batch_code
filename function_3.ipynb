{
 "cells": [
  {
   "cell_type": "code",
   "execution_count": 5,
   "id": "ac1005a1-688b-45ac-9eee-2294f03f7525",
   "metadata": {},
   "outputs": [],
   "source": [
    "def even_Odd(*args):\n",
    "    odd = []\n",
    "    even = []\n",
    "    for i in args:\n",
    "        if i % 2 == 0:\n",
    "            even.append(i)\n",
    "        else:\n",
    "            odd.append(i)\n",
    "    return 'Even data:', even , 'Odd Data:', odd\n",
    "            "
   ]
  },
  {
   "cell_type": "code",
   "execution_count": 6,
   "id": "ab3ccf8a-1590-46f2-83c3-93c79a19b7ab",
   "metadata": {},
   "outputs": [
    {
     "data": {
      "text/plain": [
       "('Even data:', [74, 6, 46, 2, 4, 8], 'Odd Data:', [3, 7, 3, 7])"
      ]
     },
     "execution_count": 6,
     "metadata": {},
     "output_type": "execute_result"
    }
   ],
   "source": [
    "even_Odd(74,6,3,7,46,3,2,7,4,8)"
   ]
  },
  {
   "cell_type": "code",
   "execution_count": 8,
   "id": "0849592a-a441-4ce8-9083-a64b12d201d4",
   "metadata": {},
   "outputs": [],
   "source": [
    " l = [1,2,3,1.6,'Hello', [3,7,2.5,True]]"
   ]
  },
  {
   "cell_type": "code",
   "execution_count": 9,
   "id": "103a83e0-60be-41be-86cc-682a8a7fe746",
   "metadata": {},
   "outputs": [
    {
     "name": "stdout",
     "output_type": "stream",
     "text": [
      "1\n",
      "2\n",
      "3\n",
      "1.6\n",
      "Hello\n",
      "[3, 7, 2.5, True]\n"
     ]
    }
   ],
   "source": [
    "for i in l:\n",
    "    print(i)"
   ]
  },
  {
   "cell_type": "code",
   "execution_count": 10,
   "id": "9f795aa4-9dcb-4599-9a3d-7e5ef84e34ab",
   "metadata": {},
   "outputs": [],
   "source": [
    "l1 = []\n",
    "for i in l:\n",
    "    if type(i) == int:\n",
    "        l1.append(i)\n",
    "    if type(i) == list:\n",
    "        for num in i:\n",
    "            if type(num) == int:\n",
    "                l1.append(num)"
   ]
  },
  {
   "cell_type": "code",
   "execution_count": 11,
   "id": "34b76094-cae2-4454-bb6a-04d932817e63",
   "metadata": {},
   "outputs": [
    {
     "data": {
      "text/plain": [
       "[1, 2, 3, 3, 7]"
      ]
     },
     "execution_count": 11,
     "metadata": {},
     "output_type": "execute_result"
    }
   ],
   "source": [
    "l1"
   ]
  },
  {
   "cell_type": "code",
   "execution_count": 46,
   "id": "a941a1eb-fd6d-4da8-be3f-8b71b1bb13a0",
   "metadata": {},
   "outputs": [],
   "source": [
    "def string_filter(*args):\n",
    "    l = []\n",
    "    for i in args:\n",
    "        if type(i) == str:\n",
    "            l.append(i)\n",
    "    return l"
   ]
  },
  {
   "cell_type": "code",
   "execution_count": 47,
   "id": "2a9ac368-f17c-4a8c-935c-d625994b978a",
   "metadata": {},
   "outputs": [
    {
     "data": {
      "text/plain": [
       "['hello', 'code', 'data', 'science']"
      ]
     },
     "execution_count": 47,
     "metadata": {},
     "output_type": "execute_result"
    }
   ],
   "source": [
    "string_filter(1,3,'hello', 'code', 7.5, 'data', 'science')"
   ]
  },
  {
   "cell_type": "code",
   "execution_count": 49,
   "id": "f25baf58-f6bb-4ca2-9a8c-78e47bbdf933",
   "metadata": {},
   "outputs": [
    {
     "name": "stdout",
     "output_type": "stream",
     "text": [
      "h\n",
      "e\n",
      "l\n",
      "l\n",
      "o\n"
     ]
    }
   ],
   "source": [
    "for i in 'hello':\n",
    "    print(i)"
   ]
  },
  {
   "cell_type": "code",
   "execution_count": 51,
   "id": "acc6c310-71b9-43f4-bdf5-b9aab7685744",
   "metadata": {},
   "outputs": [],
   "source": [
    "def string_filter_char(*args):\n",
    "    l = []\n",
    "    for i in args:\n",
    "        if type(i) == str:\n",
    "            for char in i:\n",
    "                l.append(char)\n",
    "    return l"
   ]
  },
  {
   "cell_type": "code",
   "execution_count": 52,
   "id": "14da6e6a-7a8c-43ca-8049-c761cf957c66",
   "metadata": {},
   "outputs": [
    {
     "data": {
      "text/plain": [
       "['h',\n",
       " 'e',\n",
       " 'l',\n",
       " 'l',\n",
       " 'o',\n",
       " 'c',\n",
       " 'o',\n",
       " 'd',\n",
       " 'e',\n",
       " 'd',\n",
       " 'a',\n",
       " 't',\n",
       " 'a',\n",
       " 's',\n",
       " 'c',\n",
       " 'i',\n",
       " 'e',\n",
       " 'n',\n",
       " 'c',\n",
       " 'e']"
      ]
     },
     "execution_count": 52,
     "metadata": {},
     "output_type": "execute_result"
    }
   ],
   "source": [
    "string_filter(1,3,'hello', 'code', 7.5, 'data', 'science')"
   ]
  },
  {
   "cell_type": "code",
   "execution_count": 53,
   "id": "ad0bd2cd-3f2b-4330-a425-0570b4c167c6",
   "metadata": {},
   "outputs": [],
   "source": [
    "def sum_data(*args):\n",
    "    sum = 0\n",
    "    for i in args:\n",
    "        sum = sum + i\n",
    "    return sum"
   ]
  },
  {
   "cell_type": "code",
   "execution_count": 54,
   "id": "ab32aec3-563b-4368-adbb-a6f06596d7a9",
   "metadata": {},
   "outputs": [
    {
     "data": {
      "text/plain": [
       "15"
      ]
     },
     "execution_count": 54,
     "metadata": {},
     "output_type": "execute_result"
    }
   ],
   "source": [
    "sum_data(1,2,3,4,5)"
   ]
  },
  {
   "cell_type": "code",
   "execution_count": 12,
   "id": "ddf0d553-ca1c-4999-8126-23202b91cbea",
   "metadata": {},
   "outputs": [],
   "source": [
    "# Inbuild Functions"
   ]
  },
  {
   "cell_type": "code",
   "execution_count": 13,
   "id": "2c2eb159-d41b-4294-a99a-595d85ae97e8",
   "metadata": {},
   "outputs": [],
   "source": [
    "a = 'hello'"
   ]
  },
  {
   "cell_type": "code",
   "execution_count": 14,
   "id": "04b6df54-c902-431e-a5b6-e87881aeb784",
   "metadata": {},
   "outputs": [
    {
     "data": {
      "text/plain": [
       "'Hello'"
      ]
     },
     "execution_count": 14,
     "metadata": {},
     "output_type": "execute_result"
    }
   ],
   "source": [
    "'hello'.capitalize()"
   ]
  },
  {
   "cell_type": "code",
   "execution_count": 15,
   "id": "dd2d62b1-0e63-4b4a-938f-dbdb164f5249",
   "metadata": {},
   "outputs": [
    {
     "data": {
      "text/plain": [
       "'Hello'"
      ]
     },
     "execution_count": 15,
     "metadata": {},
     "output_type": "execute_result"
    }
   ],
   "source": [
    "a.capitalize()"
   ]
  },
  {
   "cell_type": "code",
   "execution_count": 18,
   "id": "28b3df2f-e858-4c8e-b561-2129c2357b29",
   "metadata": {},
   "outputs": [
    {
     "data": {
      "text/plain": [
       "False"
      ]
     },
     "execution_count": 18,
     "metadata": {},
     "output_type": "execute_result"
    }
   ],
   "source": [
    "a.isnumeric()"
   ]
  },
  {
   "cell_type": "code",
   "execution_count": 17,
   "id": "a5f27f56-8451-4fb0-a3bf-c119465603ee",
   "metadata": {},
   "outputs": [
    {
     "data": {
      "text/plain": [
       "True"
      ]
     },
     "execution_count": 17,
     "metadata": {},
     "output_type": "execute_result"
    }
   ],
   "source": [
    "'10'.isnumeric()"
   ]
  },
  {
   "cell_type": "code",
   "execution_count": 19,
   "id": "3754b92c-95c6-4a08-ab19-5754c8bacd23",
   "metadata": {},
   "outputs": [
    {
     "data": {
      "text/plain": [
       "True"
      ]
     },
     "execution_count": 19,
     "metadata": {},
     "output_type": "execute_result"
    }
   ],
   "source": [
    "a.islower()"
   ]
  },
  {
   "cell_type": "code",
   "execution_count": 20,
   "id": "8a0a6cc5-e5ac-4718-9ae9-54709a1f4a7e",
   "metadata": {},
   "outputs": [
    {
     "data": {
      "text/plain": [
       "False"
      ]
     },
     "execution_count": 20,
     "metadata": {},
     "output_type": "execute_result"
    }
   ],
   "source": [
    "'Hello'.islower()"
   ]
  },
  {
   "cell_type": "code",
   "execution_count": 21,
   "id": "d1ef8727-1535-4604-8d40-7c5b5b727ee7",
   "metadata": {},
   "outputs": [
    {
     "data": {
      "text/plain": [
       "'**Hello***'"
      ]
     },
     "execution_count": 21,
     "metadata": {},
     "output_type": "execute_result"
    }
   ],
   "source": [
    "'Hello'.center(10, '*')"
   ]
  },
  {
   "cell_type": "code",
   "execution_count": 22,
   "id": "aa3822c6-53fd-4eea-bc42-2ae9b98c3053",
   "metadata": {},
   "outputs": [
    {
     "data": {
      "text/plain": [
       "'$$$$$$$$code$$$$$$$$'"
      ]
     },
     "execution_count": 22,
     "metadata": {},
     "output_type": "execute_result"
    }
   ],
   "source": [
    "'code'.center(20,'$')"
   ]
  },
  {
   "cell_type": "code",
   "execution_count": 23,
   "id": "75a9eec4-63c1-4af9-9cc1-d2a30ae7fe9a",
   "metadata": {},
   "outputs": [
    {
     "data": {
      "text/plain": [
       "['10', '02', '2025']"
      ]
     },
     "execution_count": 23,
     "metadata": {},
     "output_type": "execute_result"
    }
   ],
   "source": [
    "'10-02-2025'.split('-')"
   ]
  },
  {
   "cell_type": "code",
   "execution_count": 24,
   "id": "cb682241-c083-48ef-93a5-3b5d7039bf4e",
   "metadata": {},
   "outputs": [],
   "source": [
    "x = '10-02-2025'.split('-')"
   ]
  },
  {
   "cell_type": "code",
   "execution_count": 25,
   "id": "9837cf89-7fd1-4d04-8177-3951e2938af3",
   "metadata": {},
   "outputs": [
    {
     "data": {
      "text/plain": [
       "['10', '02', '2025']"
      ]
     },
     "execution_count": 25,
     "metadata": {},
     "output_type": "execute_result"
    }
   ],
   "source": [
    "x"
   ]
  },
  {
   "cell_type": "code",
   "execution_count": 26,
   "id": "e22c0cbc-ea9c-451e-88ec-b58398cc1f71",
   "metadata": {},
   "outputs": [
    {
     "data": {
      "text/plain": [
       "'02'"
      ]
     },
     "execution_count": 26,
     "metadata": {},
     "output_type": "execute_result"
    }
   ],
   "source": [
    "x[1]"
   ]
  },
  {
   "cell_type": "code",
   "execution_count": 27,
   "id": "22d7639f-883c-454b-8d24-c11a958a0abd",
   "metadata": {},
   "outputs": [
    {
     "data": {
      "text/plain": [
       "['Hello', 'we', 'are', 'learning', 'python', 'functions']"
      ]
     },
     "execution_count": 27,
     "metadata": {},
     "output_type": "execute_result"
    }
   ],
   "source": [
    "'Hello we are learning python functions'.split(' ')"
   ]
  },
  {
   "cell_type": "code",
   "execution_count": 28,
   "id": "15cd4a40-0022-458a-86f5-74efeabba60d",
   "metadata": {},
   "outputs": [],
   "source": [
    "sentence = \"\"\"Hello.\n",
    "How are you?.\n",
    "Today I am fine.\n",
    "See you leter.\"\"\""
   ]
  },
  {
   "cell_type": "code",
   "execution_count": 29,
   "id": "997e575d-9405-4767-9e97-54d14a7c9071",
   "metadata": {},
   "outputs": [
    {
     "data": {
      "text/plain": [
       "'Hello.\\nHow are you?.\\nToday I am fine.\\nSee you leter.'"
      ]
     },
     "execution_count": 29,
     "metadata": {},
     "output_type": "execute_result"
    }
   ],
   "source": [
    "sentence"
   ]
  },
  {
   "cell_type": "code",
   "execution_count": 30,
   "id": "892fb3e0-c441-417e-87b5-f4b76302b162",
   "metadata": {},
   "outputs": [
    {
     "name": "stdout",
     "output_type": "stream",
     "text": [
      "Hello.\n",
      "How are you?.\n",
      "Today I am fine.\n",
      "See you leter.\n"
     ]
    }
   ],
   "source": [
    "print(sentence)"
   ]
  },
  {
   "cell_type": "code",
   "execution_count": 31,
   "id": "72c46d9d-683b-44eb-a9be-f94cf96ef659",
   "metadata": {},
   "outputs": [
    {
     "data": {
      "text/plain": [
       "['Hello', '\\nHow are you?', '\\nToday I am fine', '\\nSee you leter', '']"
      ]
     },
     "execution_count": 31,
     "metadata": {},
     "output_type": "execute_result"
    }
   ],
   "source": [
    "sentence.split('.')"
   ]
  },
  {
   "cell_type": "code",
   "execution_count": 32,
   "id": "f30a63ef-ac7f-4550-b574-b3111c357e02",
   "metadata": {},
   "outputs": [
    {
     "data": {
      "text/plain": [
       "False"
      ]
     },
     "execution_count": 32,
     "metadata": {},
     "output_type": "execute_result"
    }
   ],
   "source": [
    "'hello'.isdigit()"
   ]
  },
  {
   "cell_type": "code",
   "execution_count": 35,
   "id": "1c5804e7-07d8-49a0-afdc-ae0634366467",
   "metadata": {},
   "outputs": [
    {
     "data": {
      "text/plain": [
       "True"
      ]
     },
     "execution_count": 35,
     "metadata": {},
     "output_type": "execute_result"
    }
   ],
   "source": [
    "'1'.isdecimal()"
   ]
  },
  {
   "cell_type": "code",
   "execution_count": 37,
   "id": "9fc89a71-3a38-43d0-973f-20216fccd689",
   "metadata": {},
   "outputs": [
    {
     "data": {
      "text/plain": [
       "False"
      ]
     },
     "execution_count": 37,
     "metadata": {},
     "output_type": "execute_result"
    }
   ],
   "source": [
    "'1.5'.isalpha()"
   ]
  },
  {
   "cell_type": "code",
   "execution_count": 38,
   "id": "28360afa-42a3-40bd-a16e-a0a02a8cde14",
   "metadata": {},
   "outputs": [
    {
     "data": {
      "text/plain": [
       "True"
      ]
     },
     "execution_count": 38,
     "metadata": {},
     "output_type": "execute_result"
    }
   ],
   "source": [
    "'hello'.isalpha()"
   ]
  },
  {
   "cell_type": "code",
   "execution_count": 39,
   "id": "ffe77376-4e5f-4076-a340-c6c1fec4fba3",
   "metadata": {},
   "outputs": [
    {
     "data": {
      "text/plain": [
       "True"
      ]
     },
     "execution_count": 39,
     "metadata": {},
     "output_type": "execute_result"
    }
   ],
   "source": [
    "'Hello'.istitle()"
   ]
  },
  {
   "cell_type": "code",
   "execution_count": 43,
   "id": "e21a8e7e-386d-4c26-b14a-db6d95b1db18",
   "metadata": {},
   "outputs": [
    {
     "data": {
      "text/plain": [
       "5"
      ]
     },
     "execution_count": 43,
     "metadata": {},
     "output_type": "execute_result"
    }
   ],
   "source": [
    "'hellooooo'.count('o')"
   ]
  },
  {
   "cell_type": "code",
   "execution_count": null,
   "id": "460bcb5b-4938-4d13-b6cb-0c56b4f13da0",
   "metadata": {},
   "outputs": [],
   "source": []
  }
 ],
 "metadata": {
  "kernelspec": {
   "display_name": "Python 3 (ipykernel)",
   "language": "python",
   "name": "python3"
  },
  "language_info": {
   "codemirror_mode": {
    "name": "ipython",
    "version": 3
   },
   "file_extension": ".py",
   "mimetype": "text/x-python",
   "name": "python",
   "nbconvert_exporter": "python",
   "pygments_lexer": "ipython3",
   "version": "3.12.4"
  }
 },
 "nbformat": 4,
 "nbformat_minor": 5
}
