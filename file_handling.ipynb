{
 "cells": [
  {
   "cell_type": "code",
   "execution_count": 1,
   "id": "a050af73-e0ad-4bdb-a701-9235a83d1e73",
   "metadata": {},
   "outputs": [
    {
     "name": "stdout",
     "output_type": "stream",
     "text": [
      " Volume in drive C has no label.\n",
      " Volume Serial Number is B294-EB73\n",
      "\n",
      " Directory of C:\\Users\\Admin\\Downloads\\703_batch\\Python\\Advance\n",
      "\n",
      "02/06/2025  06:33 PM    <DIR>          .\n",
      "02/06/2025  06:33 PM    <DIR>          ..\n",
      "02/06/2025  06:33 PM    <DIR>          .ipynb_checkpoints\n",
      "02/06/2025  06:32 PM                72 file_handling.ipynb\n",
      "02/05/2025  07:00 PM            12,161 function_adv.ipynb\n",
      "02/06/2025  06:29 PM             7,101 Iterator.ipynb\n",
      "               3 File(s)         19,334 bytes\n",
      "               3 Dir(s)   4,455,006,208 bytes free\n"
     ]
    }
   ],
   "source": [
    "ls"
   ]
  },
  {
   "cell_type": "code",
   "execution_count": 2,
   "id": "e4bcb209-17dd-45cf-93ed-6484a47d5b20",
   "metadata": {},
   "outputs": [],
   "source": [
    "f = open('students.csv', mode='w')"
   ]
  },
  {
   "cell_type": "code",
   "execution_count": 3,
   "id": "6f07b678-1469-4511-8635-7e682af90e1f",
   "metadata": {},
   "outputs": [
    {
     "data": {
      "text/plain": [
       "23"
      ]
     },
     "execution_count": 3,
     "metadata": {},
     "output_type": "execute_result"
    }
   ],
   "source": [
    "f.write('This is my line no one.')"
   ]
  },
  {
   "cell_type": "code",
   "execution_count": 4,
   "id": "aa076e47-f3e3-43eb-a97f-cb77d48cc2ad",
   "metadata": {},
   "outputs": [],
   "source": [
    "f.close()"
   ]
  },
  {
   "cell_type": "code",
   "execution_count": 5,
   "id": "1e0ef4a4-b057-4382-8f78-b0dcd9866924",
   "metadata": {},
   "outputs": [],
   "source": [
    "f = open('students.csv', mode='r')"
   ]
  },
  {
   "cell_type": "code",
   "execution_count": 6,
   "id": "3ce07274-9914-4f09-bb03-a2ddceed133d",
   "metadata": {},
   "outputs": [
    {
     "data": {
      "text/plain": [
       "'This is my line no one.'"
      ]
     },
     "execution_count": 6,
     "metadata": {},
     "output_type": "execute_result"
    }
   ],
   "source": [
    "f.read()"
   ]
  },
  {
   "cell_type": "code",
   "execution_count": 7,
   "id": "3a2f1e3c-4291-4dfe-867b-d83eafec5d51",
   "metadata": {},
   "outputs": [
    {
     "data": {
      "text/plain": [
       "''"
      ]
     },
     "execution_count": 7,
     "metadata": {},
     "output_type": "execute_result"
    }
   ],
   "source": [
    "f.read()"
   ]
  },
  {
   "cell_type": "code",
   "execution_count": 8,
   "id": "d5dad581-a9f7-489b-822d-366c8329445b",
   "metadata": {},
   "outputs": [
    {
     "data": {
      "text/plain": [
       "0"
      ]
     },
     "execution_count": 8,
     "metadata": {},
     "output_type": "execute_result"
    }
   ],
   "source": [
    "f.seek(0)"
   ]
  },
  {
   "cell_type": "code",
   "execution_count": 9,
   "id": "048c51f7-a0a5-4d10-b370-5d65e5c791f6",
   "metadata": {},
   "outputs": [
    {
     "data": {
      "text/plain": [
       "'This is my line no one.'"
      ]
     },
     "execution_count": 9,
     "metadata": {},
     "output_type": "execute_result"
    }
   ],
   "source": [
    "f.read()"
   ]
  },
  {
   "cell_type": "code",
   "execution_count": 10,
   "id": "34888326-01ac-44ab-b70d-2147bdd954f1",
   "metadata": {},
   "outputs": [
    {
     "data": {
      "text/plain": [
       "5"
      ]
     },
     "execution_count": 10,
     "metadata": {},
     "output_type": "execute_result"
    }
   ],
   "source": [
    "f.seek(5)"
   ]
  },
  {
   "cell_type": "code",
   "execution_count": 11,
   "id": "e5ebe4bb-dac2-4688-9ff9-ecd318b5efbd",
   "metadata": {},
   "outputs": [
    {
     "data": {
      "text/plain": [
       "'is my line no one.'"
      ]
     },
     "execution_count": 11,
     "metadata": {},
     "output_type": "execute_result"
    }
   ],
   "source": [
    "f.read()"
   ]
  },
  {
   "cell_type": "code",
   "execution_count": 12,
   "id": "e49d7fd8-c007-4730-a616-1023246f569f",
   "metadata": {},
   "outputs": [
    {
     "ename": "UnsupportedOperation",
     "evalue": "not writable",
     "output_type": "error",
     "traceback": [
      "\u001b[1;31m---------------------------------------------------------------------------\u001b[0m",
      "\u001b[1;31mUnsupportedOperation\u001b[0m                      Traceback (most recent call last)",
      "Cell \u001b[1;32mIn[12], line 1\u001b[0m\n\u001b[1;32m----> 1\u001b[0m f\u001b[38;5;241m.\u001b[39mwrite(\u001b[38;5;124m'\u001b[39m\u001b[38;5;124mhello\u001b[39m\u001b[38;5;124m'\u001b[39m)\n",
      "\u001b[1;31mUnsupportedOperation\u001b[0m: not writable"
     ]
    }
   ],
   "source": [
    "f.write('hello')"
   ]
  },
  {
   "cell_type": "code",
   "execution_count": 13,
   "id": "55817eab-9901-476f-a970-91178fde1eff",
   "metadata": {},
   "outputs": [],
   "source": [
    "f.close()"
   ]
  },
  {
   "cell_type": "code",
   "execution_count": 14,
   "id": "ed71b664-3df7-4dc0-a9ed-19d5fc2ba9c2",
   "metadata": {},
   "outputs": [],
   "source": [
    "a = open('students.csv', mode='r+')"
   ]
  },
  {
   "cell_type": "code",
   "execution_count": 15,
   "id": "64ac2d56-dd1b-4b74-941e-ea6804f8088c",
   "metadata": {},
   "outputs": [
    {
     "data": {
      "text/plain": [
       "'This is my line no one.'"
      ]
     },
     "execution_count": 15,
     "metadata": {},
     "output_type": "execute_result"
    }
   ],
   "source": [
    "a.read()"
   ]
  },
  {
   "cell_type": "code",
   "execution_count": 16,
   "id": "ffcd53e4-58bb-4c3f-96fc-d4bc212a59ea",
   "metadata": {},
   "outputs": [
    {
     "data": {
      "text/plain": [
       "5"
      ]
     },
     "execution_count": 16,
     "metadata": {},
     "output_type": "execute_result"
    }
   ],
   "source": [
    "a.write('hello')"
   ]
  },
  {
   "cell_type": "code",
   "execution_count": 17,
   "id": "de0bfe41-fa9d-45d7-bd24-aadf49977a4d",
   "metadata": {},
   "outputs": [
    {
     "data": {
      "text/plain": [
       "0"
      ]
     },
     "execution_count": 17,
     "metadata": {},
     "output_type": "execute_result"
    }
   ],
   "source": [
    "a.seek(0)"
   ]
  },
  {
   "cell_type": "code",
   "execution_count": 18,
   "id": "2deb2047-b558-4d2e-bc5c-0e28910efefb",
   "metadata": {},
   "outputs": [
    {
     "data": {
      "text/plain": [
       "'This is my line no one.hello'"
      ]
     },
     "execution_count": 18,
     "metadata": {},
     "output_type": "execute_result"
    }
   ],
   "source": [
    "a.read()"
   ]
  },
  {
   "cell_type": "code",
   "execution_count": 19,
   "id": "5ca6036f-b41d-40cb-b475-c8b62f7a5a08",
   "metadata": {},
   "outputs": [
    {
     "data": {
      "text/plain": [
       "0"
      ]
     },
     "execution_count": 19,
     "metadata": {},
     "output_type": "execute_result"
    }
   ],
   "source": [
    "a.seek(0)"
   ]
  },
  {
   "cell_type": "code",
   "execution_count": 20,
   "id": "81c7af58-f6d6-4dea-a487-734e79bb9008",
   "metadata": {},
   "outputs": [
    {
     "data": {
      "text/plain": [
       "4"
      ]
     },
     "execution_count": 20,
     "metadata": {},
     "output_type": "execute_result"
    }
   ],
   "source": [
    "a.write('THIS')"
   ]
  },
  {
   "cell_type": "code",
   "execution_count": 21,
   "id": "3b5826b0-8117-49f1-a6ac-1635a699e19c",
   "metadata": {},
   "outputs": [
    {
     "data": {
      "text/plain": [
       "' is my line no one.hello'"
      ]
     },
     "execution_count": 21,
     "metadata": {},
     "output_type": "execute_result"
    }
   ],
   "source": [
    "a.read()"
   ]
  },
  {
   "cell_type": "code",
   "execution_count": 22,
   "id": "d10f42fe-d834-4323-9a33-dfc6cfbfefc8",
   "metadata": {},
   "outputs": [
    {
     "data": {
      "text/plain": [
       "0"
      ]
     },
     "execution_count": 22,
     "metadata": {},
     "output_type": "execute_result"
    }
   ],
   "source": [
    "a.seek(0)"
   ]
  },
  {
   "cell_type": "code",
   "execution_count": 23,
   "id": "35a653da-dea7-4d18-afed-8733974f05c9",
   "metadata": {},
   "outputs": [
    {
     "data": {
      "text/plain": [
       "'THIS is my line no one.hello'"
      ]
     },
     "execution_count": 23,
     "metadata": {},
     "output_type": "execute_result"
    }
   ],
   "source": [
    "a.read()"
   ]
  },
  {
   "cell_type": "code",
   "execution_count": 24,
   "id": "b63a87a2-a342-4c6a-8604-c1c0a4884f36",
   "metadata": {},
   "outputs": [
    {
     "data": {
      "text/plain": [
       "8"
      ]
     },
     "execution_count": 24,
     "metadata": {},
     "output_type": "execute_result"
    }
   ],
   "source": [
    "a.write('New data')"
   ]
  },
  {
   "cell_type": "code",
   "execution_count": 25,
   "id": "327d2ef1-e572-4d74-967f-70ce81b153a7",
   "metadata": {},
   "outputs": [
    {
     "data": {
      "text/plain": [
       "0"
      ]
     },
     "execution_count": 25,
     "metadata": {},
     "output_type": "execute_result"
    }
   ],
   "source": [
    "a.seek(0)"
   ]
  },
  {
   "cell_type": "code",
   "execution_count": 26,
   "id": "537476ad-5300-45ea-9081-d1a8fc64dd93",
   "metadata": {},
   "outputs": [
    {
     "data": {
      "text/plain": [
       "'THIS is my line no one.helloNew data'"
      ]
     },
     "execution_count": 26,
     "metadata": {},
     "output_type": "execute_result"
    }
   ],
   "source": [
    "a.read()"
   ]
  },
  {
   "cell_type": "code",
   "execution_count": 27,
   "id": "995e1168-5fa8-4f70-8255-a2da9048dacb",
   "metadata": {},
   "outputs": [],
   "source": [
    "f.close()"
   ]
  },
  {
   "cell_type": "code",
   "execution_count": 28,
   "id": "91f8aace-f20a-4f4b-8b6e-ef3a8b7cf79d",
   "metadata": {},
   "outputs": [],
   "source": [
    "f = open('test.csv', mode='w')"
   ]
  },
  {
   "cell_type": "code",
   "execution_count": 29,
   "id": "42bec7ce-0a9e-48d8-8f98-47917c6d2575",
   "metadata": {},
   "outputs": [
    {
     "data": {
      "text/plain": [
       "5"
      ]
     },
     "execution_count": 29,
     "metadata": {},
     "output_type": "execute_result"
    }
   ],
   "source": [
    "f.write('Hello')"
   ]
  },
  {
   "cell_type": "code",
   "execution_count": 30,
   "id": "af68a1fd-2a0c-4680-91b4-60959b5df86e",
   "metadata": {},
   "outputs": [
    {
     "ename": "UnsupportedOperation",
     "evalue": "not readable",
     "output_type": "error",
     "traceback": [
      "\u001b[1;31m---------------------------------------------------------------------------\u001b[0m",
      "\u001b[1;31mUnsupportedOperation\u001b[0m                      Traceback (most recent call last)",
      "Cell \u001b[1;32mIn[30], line 1\u001b[0m\n\u001b[1;32m----> 1\u001b[0m f\u001b[38;5;241m.\u001b[39mread()\n",
      "\u001b[1;31mUnsupportedOperation\u001b[0m: not readable"
     ]
    }
   ],
   "source": [
    "f.read()"
   ]
  },
  {
   "cell_type": "code",
   "execution_count": 31,
   "id": "92b3d9c3-bf3c-4eb6-ac48-94f9167d0fc6",
   "metadata": {},
   "outputs": [
    {
     "data": {
      "text/plain": [
       "19"
      ]
     },
     "execution_count": 31,
     "metadata": {},
     "output_type": "execute_result"
    }
   ],
   "source": [
    "f.write('This is my new line')"
   ]
  },
  {
   "cell_type": "code",
   "execution_count": 32,
   "id": "2c02540b-6848-42d9-b808-38d59aa87203",
   "metadata": {},
   "outputs": [],
   "source": [
    "f.close()"
   ]
  },
  {
   "cell_type": "code",
   "execution_count": 33,
   "id": "5684a5a9-d2b4-4b3a-884f-e994bfd11946",
   "metadata": {},
   "outputs": [],
   "source": [
    "f = open('test.csv', mode='r')"
   ]
  },
  {
   "cell_type": "code",
   "execution_count": 34,
   "id": "4afc2407-2a1a-4b4a-801b-317dca772c0c",
   "metadata": {},
   "outputs": [
    {
     "data": {
      "text/plain": [
       "'HelloThis is my new line'"
      ]
     },
     "execution_count": 34,
     "metadata": {},
     "output_type": "execute_result"
    }
   ],
   "source": [
    "f.read()"
   ]
  },
  {
   "cell_type": "code",
   "execution_count": 35,
   "id": "5b6615c1-91b5-4460-814c-dd0c8185cbc2",
   "metadata": {},
   "outputs": [
    {
     "ename": "UnsupportedOperation",
     "evalue": "not writable",
     "output_type": "error",
     "traceback": [
      "\u001b[1;31m---------------------------------------------------------------------------\u001b[0m",
      "\u001b[1;31mUnsupportedOperation\u001b[0m                      Traceback (most recent call last)",
      "Cell \u001b[1;32mIn[35], line 1\u001b[0m\n\u001b[1;32m----> 1\u001b[0m f\u001b[38;5;241m.\u001b[39mwrite(\u001b[38;5;124m'\u001b[39m\u001b[38;5;124mHello\u001b[39m\u001b[38;5;124m'\u001b[39m)\n",
      "\u001b[1;31mUnsupportedOperation\u001b[0m: not writable"
     ]
    }
   ],
   "source": [
    "f.write('Hello')"
   ]
  },
  {
   "cell_type": "code",
   "execution_count": 36,
   "id": "d1c01d5c-90a0-421d-a270-2168ad72b748",
   "metadata": {},
   "outputs": [],
   "source": [
    "f.close()"
   ]
  },
  {
   "cell_type": "code",
   "execution_count": 37,
   "id": "6dd5badd-c1f6-41f0-908f-c8cc20fe9cf1",
   "metadata": {},
   "outputs": [],
   "source": [
    "a = open('sentence-data.csv', mode= 'w')"
   ]
  },
  {
   "cell_type": "code",
   "execution_count": 38,
   "id": "0ed90705-84f8-48c6-bbe7-09f91bddec1a",
   "metadata": {},
   "outputs": [
    {
     "data": {
      "text/plain": [
       "75"
      ]
     },
     "execution_count": 38,
     "metadata": {},
     "output_type": "execute_result"
    }
   ],
   "source": [
    "a.write(\"\"\"This is my sentence one.\n",
    "This is my sentence Two.\n",
    "This is my sentence Three\"\"\")"
   ]
  },
  {
   "cell_type": "code",
   "execution_count": 40,
   "id": "f2e6b530-b63e-4a75-8d09-5b19c258d1de",
   "metadata": {},
   "outputs": [],
   "source": [
    "a.close()"
   ]
  },
  {
   "cell_type": "code",
   "execution_count": 41,
   "id": "edec961f-a754-4aba-99bc-8d49d5e1b4ca",
   "metadata": {},
   "outputs": [],
   "source": [
    "a = open('sentence-data.csv', mode='r+')"
   ]
  },
  {
   "cell_type": "code",
   "execution_count": 42,
   "id": "a6d681c3-c52b-4f1c-80db-23fd51e93d63",
   "metadata": {},
   "outputs": [
    {
     "data": {
      "text/plain": [
       "'This is my sentence one.\\nThis is my sentence Two.\\nThis is my sentence Three'"
      ]
     },
     "execution_count": 42,
     "metadata": {},
     "output_type": "execute_result"
    }
   ],
   "source": [
    "a.read()"
   ]
  },
  {
   "cell_type": "code",
   "execution_count": 43,
   "id": "9405469a-7b77-4e07-a8b2-2aac4d082064",
   "metadata": {},
   "outputs": [
    {
     "name": "stdout",
     "output_type": "stream",
     "text": [
      "This is my sentence one.\n",
      "This is my sentence Two.\n",
      "This is my sentence Three\n"
     ]
    }
   ],
   "source": [
    "print('This is my sentence one.\\nThis is my sentence Two.\\nThis is my sentence Three')"
   ]
  },
  {
   "cell_type": "code",
   "execution_count": 44,
   "id": "1aef91ef-5e85-43f1-9207-8b828ce8feb7",
   "metadata": {},
   "outputs": [
    {
     "data": {
      "text/plain": [
       "0"
      ]
     },
     "execution_count": 44,
     "metadata": {},
     "output_type": "execute_result"
    }
   ],
   "source": [
    "a.seek(0)"
   ]
  },
  {
   "cell_type": "code",
   "execution_count": 45,
   "id": "8c27975e-3486-45e9-b523-47f59ec7e78a",
   "metadata": {},
   "outputs": [
    {
     "data": {
      "text/plain": [
       "'This is my sentence one.\\n'"
      ]
     },
     "execution_count": 45,
     "metadata": {},
     "output_type": "execute_result"
    }
   ],
   "source": [
    "a.readline()"
   ]
  },
  {
   "cell_type": "code",
   "execution_count": 47,
   "id": "73af0275-0756-4b09-8028-092df7dad825",
   "metadata": {},
   "outputs": [
    {
     "data": {
      "text/plain": [
       "'This is my sentence Two.\\n'"
      ]
     },
     "execution_count": 47,
     "metadata": {},
     "output_type": "execute_result"
    }
   ],
   "source": [
    "a.readline()"
   ]
  },
  {
   "cell_type": "code",
   "execution_count": 48,
   "id": "39222965-cd3e-4fbb-8206-7519428bcbb2",
   "metadata": {},
   "outputs": [
    {
     "data": {
      "text/plain": [
       "'This is my sentence Three'"
      ]
     },
     "execution_count": 48,
     "metadata": {},
     "output_type": "execute_result"
    }
   ],
   "source": [
    "a.readline()"
   ]
  },
  {
   "cell_type": "code",
   "execution_count": 49,
   "id": "1ddd38fc-4f21-4c9b-9f92-bf62158a126b",
   "metadata": {},
   "outputs": [
    {
     "data": {
      "text/plain": [
       "0"
      ]
     },
     "execution_count": 49,
     "metadata": {},
     "output_type": "execute_result"
    }
   ],
   "source": [
    "a.seek(0)"
   ]
  },
  {
   "cell_type": "code",
   "execution_count": 50,
   "id": "337e9491-6d3a-47b6-9913-ae861c25ac62",
   "metadata": {},
   "outputs": [
    {
     "data": {
      "text/plain": [
       "['This is my sentence one.\\n',\n",
       " 'This is my sentence Two.\\n',\n",
       " 'This is my sentence Three']"
      ]
     },
     "execution_count": 50,
     "metadata": {},
     "output_type": "execute_result"
    }
   ],
   "source": [
    "a.readlines()"
   ]
  },
  {
   "cell_type": "code",
   "execution_count": null,
   "id": "a80a418d-69e6-4077-b705-10d7d6f4fa1f",
   "metadata": {},
   "outputs": [],
   "source": []
  }
 ],
 "metadata": {
  "kernelspec": {
   "display_name": "Python 3 (ipykernel)",
   "language": "python",
   "name": "python3"
  },
  "language_info": {
   "codemirror_mode": {
    "name": "ipython",
    "version": 3
   },
   "file_extension": ".py",
   "mimetype": "text/x-python",
   "name": "python",
   "nbconvert_exporter": "python",
   "pygments_lexer": "ipython3",
   "version": "3.12.4"
  }
 },
 "nbformat": 4,
 "nbformat_minor": 5
}
