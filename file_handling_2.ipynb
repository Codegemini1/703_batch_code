{
 "cells": [
  {
   "cell_type": "code",
   "execution_count": 1,
   "id": "e343d2ca-33f6-4744-b90a-fc3beeef77b9",
   "metadata": {},
   "outputs": [],
   "source": [
    "f = open('test2.csv', mode= 'w')"
   ]
  },
  {
   "cell_type": "code",
   "execution_count": 2,
   "id": "11abe01c-6316-4a8b-8201-80d554d620f4",
   "metadata": {},
   "outputs": [
    {
     "data": {
      "text/plain": [
       "672"
      ]
     },
     "execution_count": 2,
     "metadata": {},
     "output_type": "execute_result"
    }
   ],
   "source": [
    "f.write(\"\"\"India, officially the Republic of India,[j][21] is a country in South Asia.\n",
    "It is the seventh-largest country by area; the most populous country from June 2023 onwards;\n",
    "[22][23] and since its independence in 1947, the world's most populous democracy.\n",
    "[24][25][26] Bounded by the Indian Ocean on the south, the Arabian Sea on the southwest,\n",
    "and the Bay of Bengal on the southeast, it shares land borders with Pakistan to the west;\n",
    "[k] China, Nepal, and Bhutan to the north; and Bangladesh and Myanmar to the east. In the \n",
    "Indian Ocean, India is near Sri Lanka and the Maldives; its Andaman and Nicobar Islands \n",
    "share a maritime border with Thailand, Myanmar, and Indonesia.\"\"\")"
   ]
  },
  {
   "cell_type": "code",
   "execution_count": 3,
   "id": "c0ffe9ed-70d4-40a7-863d-3d5f2aec7a5b",
   "metadata": {},
   "outputs": [],
   "source": [
    "f.close()"
   ]
  },
  {
   "cell_type": "code",
   "execution_count": 4,
   "id": "3557bf30-e3f4-41a7-b829-893feeeb32de",
   "metadata": {},
   "outputs": [],
   "source": [
    "f = open('test2.csv', mode='r+')"
   ]
  },
  {
   "cell_type": "code",
   "execution_count": 5,
   "id": "c91bc3a5-756d-46f1-886a-f6252283ac26",
   "metadata": {},
   "outputs": [
    {
     "data": {
      "text/plain": [
       "\"India, officially the Republic of India,[j][21] is a country in South Asia.\\nIt is the seventh-largest country by area; the most populous country from June 2023 onwards;\\n[22][23] and since its independence in 1947, the world's most populous democracy.\\n[24][25][26] Bounded by the Indian Ocean on the south, the Arabian Sea on the southwest,\\nand the Bay of Bengal on the southeast, it shares land borders with Pakistan to the west;\\n[k] China, Nepal, and Bhutan to the north; and Bangladesh and Myanmar to the east. In the \\nIndian Ocean, India is near Sri Lanka and the Maldives; its Andaman and Nicobar Islands \\nshare a maritime border with Thailand, Myanmar, and Indonesia.\""
      ]
     },
     "execution_count": 5,
     "metadata": {},
     "output_type": "execute_result"
    }
   ],
   "source": [
    "f.read()"
   ]
  },
  {
   "cell_type": "code",
   "execution_count": 6,
   "id": "4d40dc3e-3f46-46ac-acb0-9ef7399fd6a5",
   "metadata": {},
   "outputs": [
    {
     "data": {
      "text/plain": [
       "0"
      ]
     },
     "execution_count": 6,
     "metadata": {},
     "output_type": "execute_result"
    }
   ],
   "source": [
    "f.seek(0)"
   ]
  },
  {
   "cell_type": "code",
   "execution_count": 7,
   "id": "51f6bd5b-7094-486d-b1a4-bb739ff5fcd4",
   "metadata": {},
   "outputs": [
    {
     "data": {
      "text/plain": [
       "'India, officially the Republic of India,[j][21] is a country in South Asia.\\n'"
      ]
     },
     "execution_count": 7,
     "metadata": {},
     "output_type": "execute_result"
    }
   ],
   "source": [
    "f.readline()"
   ]
  },
  {
   "cell_type": "code",
   "execution_count": 8,
   "id": "6ab8ec1c-1688-4f2f-8c42-0b74e78887ed",
   "metadata": {},
   "outputs": [
    {
     "data": {
      "text/plain": [
       "'It is the seventh-largest country by area; the most populous country from June 2023 onwards;\\n'"
      ]
     },
     "execution_count": 8,
     "metadata": {},
     "output_type": "execute_result"
    }
   ],
   "source": [
    "f.readline()"
   ]
  },
  {
   "cell_type": "code",
   "execution_count": 9,
   "id": "e7356489-428f-4ce2-b5ab-8cdb3f477014",
   "metadata": {},
   "outputs": [
    {
     "data": {
      "text/plain": [
       "0"
      ]
     },
     "execution_count": 9,
     "metadata": {},
     "output_type": "execute_result"
    }
   ],
   "source": [
    "f.seek(0)"
   ]
  },
  {
   "cell_type": "code",
   "execution_count": 10,
   "id": "ef918eb1-e6e6-4cf7-a8e2-fce2f5b8ff69",
   "metadata": {},
   "outputs": [
    {
     "data": {
      "text/plain": [
       "['India, officially the Republic of India,[j][21] is a country in South Asia.\\n',\n",
       " 'It is the seventh-largest country by area; the most populous country from June 2023 onwards;\\n',\n",
       " \"[22][23] and since its independence in 1947, the world's most populous democracy.\\n\",\n",
       " '[24][25][26] Bounded by the Indian Ocean on the south, the Arabian Sea on the southwest,\\n',\n",
       " 'and the Bay of Bengal on the southeast, it shares land borders with Pakistan to the west;\\n',\n",
       " '[k] China, Nepal, and Bhutan to the north; and Bangladesh and Myanmar to the east. In the \\n',\n",
       " 'Indian Ocean, India is near Sri Lanka and the Maldives; its Andaman and Nicobar Islands \\n',\n",
       " 'share a maritime border with Thailand, Myanmar, and Indonesia.']"
      ]
     },
     "execution_count": 10,
     "metadata": {},
     "output_type": "execute_result"
    }
   ],
   "source": [
    "f.readlines()"
   ]
  },
  {
   "cell_type": "code",
   "execution_count": 11,
   "id": "78aaf250-9362-46ea-a108-830428d2a96f",
   "metadata": {},
   "outputs": [
    {
     "data": {
      "text/plain": [
       "0"
      ]
     },
     "execution_count": 11,
     "metadata": {},
     "output_type": "execute_result"
    }
   ],
   "source": [
    "f.seek(0)"
   ]
  },
  {
   "cell_type": "code",
   "execution_count": 12,
   "id": "39373fee-b4b0-4e65-9594-b5b16457ad58",
   "metadata": {},
   "outputs": [
    {
     "name": "stdout",
     "output_type": "stream",
     "text": [
      "I\n",
      "n\n",
      "d\n",
      "i\n",
      "a\n",
      ",\n",
      " \n",
      "o\n",
      "f\n",
      "f\n",
      "i\n",
      "c\n",
      "i\n",
      "a\n",
      "l\n",
      "l\n",
      "y\n",
      " \n",
      "t\n",
      "h\n",
      "e\n",
      " \n",
      "R\n",
      "e\n",
      "p\n",
      "u\n",
      "b\n",
      "l\n",
      "i\n",
      "c\n",
      " \n",
      "o\n",
      "f\n",
      " \n",
      "I\n",
      "n\n",
      "d\n",
      "i\n",
      "a\n",
      ",\n",
      "[\n",
      "j\n",
      "]\n",
      "[\n",
      "2\n",
      "1\n",
      "]\n",
      " \n",
      "i\n",
      "s\n",
      " \n",
      "a\n",
      " \n",
      "c\n",
      "o\n",
      "u\n",
      "n\n",
      "t\n",
      "r\n",
      "y\n",
      " \n",
      "i\n",
      "n\n",
      " \n",
      "S\n",
      "o\n",
      "u\n",
      "t\n",
      "h\n",
      " \n",
      "A\n",
      "s\n",
      "i\n",
      "a\n",
      ".\n",
      "\n",
      "\n"
     ]
    }
   ],
   "source": [
    "for i in f.readline():\n",
    "    print(i)"
   ]
  },
  {
   "cell_type": "code",
   "execution_count": 13,
   "id": "474714ef-9600-472c-9c4f-fb2abab8a3f3",
   "metadata": {},
   "outputs": [
    {
     "data": {
      "text/plain": [
       "0"
      ]
     },
     "execution_count": 13,
     "metadata": {},
     "output_type": "execute_result"
    }
   ],
   "source": [
    "f.seek(0)"
   ]
  },
  {
   "cell_type": "code",
   "execution_count": 14,
   "id": "eda0a886-ea7b-4e42-88fa-2226a9e0db39",
   "metadata": {},
   "outputs": [
    {
     "name": "stdout",
     "output_type": "stream",
     "text": [
      "India, officially the Republic of India,[j][21] is a country in South Asia.\n",
      "\n",
      "It is the seventh-largest country by area; the most populous country from June 2023 onwards;\n",
      "\n",
      "[22][23] and since its independence in 1947, the world's most populous democracy.\n",
      "\n",
      "[24][25][26] Bounded by the Indian Ocean on the south, the Arabian Sea on the southwest,\n",
      "\n",
      "and the Bay of Bengal on the southeast, it shares land borders with Pakistan to the west;\n",
      "\n",
      "[k] China, Nepal, and Bhutan to the north; and Bangladesh and Myanmar to the east. In the \n",
      "\n",
      "Indian Ocean, India is near Sri Lanka and the Maldives; its Andaman and Nicobar Islands \n",
      "\n",
      "share a maritime border with Thailand, Myanmar, and Indonesia.\n"
     ]
    }
   ],
   "source": [
    "for i in f.readlines():\n",
    "    print(i)"
   ]
  },
  {
   "cell_type": "code",
   "execution_count": 15,
   "id": "315b77d1-a0ae-44ae-b112-9b28c0627039",
   "metadata": {},
   "outputs": [
    {
     "data": {
      "text/plain": [
       "0"
      ]
     },
     "execution_count": 15,
     "metadata": {},
     "output_type": "execute_result"
    }
   ],
   "source": [
    "f.seek(0)"
   ]
  },
  {
   "cell_type": "code",
   "execution_count": 16,
   "id": "440cc98a-257c-47a6-93fa-289e7ab4a50d",
   "metadata": {},
   "outputs": [],
   "source": [
    "sent = []"
   ]
  },
  {
   "cell_type": "code",
   "execution_count": 17,
   "id": "eaa720a1-59e9-4404-a15b-8c52c08f20e9",
   "metadata": {},
   "outputs": [],
   "source": [
    "for i in f.readlines():\n",
    "    sent.append(i)"
   ]
  },
  {
   "cell_type": "code",
   "execution_count": 18,
   "id": "d4bd2a24-6d67-4138-a234-b167469e3ba0",
   "metadata": {},
   "outputs": [
    {
     "data": {
      "text/plain": [
       "['India, officially the Republic of India,[j][21] is a country in South Asia.\\n',\n",
       " 'It is the seventh-largest country by area; the most populous country from June 2023 onwards;\\n',\n",
       " \"[22][23] and since its independence in 1947, the world's most populous democracy.\\n\",\n",
       " '[24][25][26] Bounded by the Indian Ocean on the south, the Arabian Sea on the southwest,\\n',\n",
       " 'and the Bay of Bengal on the southeast, it shares land borders with Pakistan to the west;\\n',\n",
       " '[k] China, Nepal, and Bhutan to the north; and Bangladesh and Myanmar to the east. In the \\n',\n",
       " 'Indian Ocean, India is near Sri Lanka and the Maldives; its Andaman and Nicobar Islands \\n',\n",
       " 'share a maritime border with Thailand, Myanmar, and Indonesia.']"
      ]
     },
     "execution_count": 18,
     "metadata": {},
     "output_type": "execute_result"
    }
   ],
   "source": [
    "sent"
   ]
  },
  {
   "cell_type": "code",
   "execution_count": 19,
   "id": "c96db5d5-5c34-4e13-bb67-9b911cb0f716",
   "metadata": {},
   "outputs": [
    {
     "name": "stdout",
     "output_type": "stream",
     "text": [
      "India, officially the Republic of India,[j][21] is a country in South Asia.\n",
      "\n",
      "It is the seventh-largest country by area; the most populous country from June 2023 onwards;\n",
      "\n",
      "[22][23] and since its independence in 1947, the world's most populous democracy.\n",
      "\n",
      "[24][25][26] Bounded by the Indian Ocean on the south, the Arabian Sea on the southwest,\n",
      "\n",
      "and the Bay of Bengal on the southeast, it shares land borders with Pakistan to the west;\n",
      "\n",
      "[k] China, Nepal, and Bhutan to the north; and Bangladesh and Myanmar to the east. In the \n",
      "\n",
      "Indian Ocean, India is near Sri Lanka and the Maldives; its Andaman and Nicobar Islands \n",
      "\n",
      "share a maritime border with Thailand, Myanmar, and Indonesia.\n"
     ]
    }
   ],
   "source": [
    "for i in sent:\n",
    "    print(i)"
   ]
  },
  {
   "cell_type": "code",
   "execution_count": 20,
   "id": "cd4aa79b-75fa-4e2d-91fb-a08ac14a0ceb",
   "metadata": {},
   "outputs": [
    {
     "data": {
      "text/plain": [
       "[\"'India, officially the Republic of India,[j][21] is a country in South Asia.\",\n",
       " \"',\",\n",
       " \" 'It is the seventh-largest country by area; the most populous country from June 2023 onwards;\",\n",
       " \"'\"]"
      ]
     },
     "execution_count": 20,
     "metadata": {},
     "output_type": "execute_result"
    }
   ],
   "source": [
    "\"\"\"'India, officially the Republic of India,[j][21] is a country in South Asia.\\n',\n",
    " 'It is the seventh-largest country by area; the most populous country from June 2023 onwards;\\n'\"\"\".split('\\n')"
   ]
  },
  {
   "cell_type": "code",
   "execution_count": 21,
   "id": "208b5719-1c02-4dd2-8a4e-bfc7126bcf92",
   "metadata": {},
   "outputs": [
    {
     "data": {
      "text/plain": [
       "['India, officially the Republic of India,[j][21] is a country in South Asia.\\n',\n",
       " 'It is the seventh-largest country by area; the most populous country from June 2023 onwards;\\n',\n",
       " \"[22][23] and since its independence in 1947, the world's most populous democracy.\\n\",\n",
       " '[24][25][26] Bounded by the Indian Ocean on the south, the Arabian Sea on the southwest,\\n',\n",
       " 'and the Bay of Bengal on the southeast, it shares land borders with Pakistan to the west;\\n',\n",
       " '[k] China, Nepal, and Bhutan to the north; and Bangladesh and Myanmar to the east. In the \\n',\n",
       " 'Indian Ocean, India is near Sri Lanka and the Maldives; its Andaman and Nicobar Islands \\n',\n",
       " 'share a maritime border with Thailand, Myanmar, and Indonesia.']"
      ]
     },
     "execution_count": 21,
     "metadata": {},
     "output_type": "execute_result"
    }
   ],
   "source": [
    "sent"
   ]
  },
  {
   "cell_type": "code",
   "execution_count": 22,
   "id": "1b670a63-de13-4494-91b5-7237b72763d6",
   "metadata": {},
   "outputs": [],
   "source": [
    "sen1 = ['India, officially the Republic of India,[j][21] is a country in South Asia.\\n']"
   ]
  },
  {
   "cell_type": "code",
   "execution_count": 23,
   "id": "39e54370-2101-4f5d-a965-f9d09b920870",
   "metadata": {},
   "outputs": [
    {
     "name": "stdout",
     "output_type": "stream",
     "text": [
      "India, officially the Republic of India,[j][21] is a country in South Asia.\n",
      "\n"
     ]
    }
   ],
   "source": [
    "for i in sen1:\n",
    "    print(i)"
   ]
  },
  {
   "cell_type": "code",
   "execution_count": 25,
   "id": "ffdba1c7-d843-445e-a65c-b3a93d0cccea",
   "metadata": {},
   "outputs": [
    {
     "name": "stdout",
     "output_type": "stream",
     "text": [
      "I\n",
      "n\n",
      "d\n",
      "i\n",
      "a\n",
      ",\n",
      " \n",
      "o\n",
      "f\n",
      "f\n",
      "i\n",
      "c\n",
      "i\n",
      "a\n",
      "l\n",
      "l\n",
      "y\n",
      " \n",
      "t\n",
      "h\n",
      "e\n",
      " \n",
      "R\n",
      "e\n",
      "p\n",
      "u\n",
      "b\n",
      "l\n",
      "i\n",
      "c\n",
      " \n",
      "o\n",
      "f\n",
      " \n",
      "I\n",
      "n\n",
      "d\n",
      "i\n",
      "a\n",
      ",\n",
      "[\n",
      "j\n",
      "]\n",
      "[\n",
      "2\n",
      "1\n",
      "]\n",
      " \n",
      "i\n",
      "s\n",
      " \n",
      "a\n",
      " \n",
      "c\n",
      "o\n",
      "u\n",
      "n\n",
      "t\n",
      "r\n",
      "y\n",
      " \n",
      "i\n",
      "n\n",
      " \n",
      "S\n",
      "o\n",
      "u\n",
      "t\n",
      "h\n",
      " \n",
      "A\n",
      "s\n",
      "i\n",
      "a\n",
      ".\n",
      "\n",
      "\n"
     ]
    }
   ],
   "source": [
    "words1 = []\n",
    "for i in sen1:\n",
    "    for words in i:\n",
    "        print(words)\n",
    "        words1.append(words)"
   ]
  },
  {
   "cell_type": "code",
   "execution_count": 26,
   "id": "baaf6980-95ed-4b2c-81e8-2438d8e353a2",
   "metadata": {},
   "outputs": [
    {
     "data": {
      "text/plain": [
       "['I',\n",
       " 'n',\n",
       " 'd',\n",
       " 'i',\n",
       " 'a',\n",
       " ',',\n",
       " ' ',\n",
       " 'o',\n",
       " 'f',\n",
       " 'f',\n",
       " 'i',\n",
       " 'c',\n",
       " 'i',\n",
       " 'a',\n",
       " 'l',\n",
       " 'l',\n",
       " 'y',\n",
       " ' ',\n",
       " 't',\n",
       " 'h',\n",
       " 'e',\n",
       " ' ',\n",
       " 'R',\n",
       " 'e',\n",
       " 'p',\n",
       " 'u',\n",
       " 'b',\n",
       " 'l',\n",
       " 'i',\n",
       " 'c',\n",
       " ' ',\n",
       " 'o',\n",
       " 'f',\n",
       " ' ',\n",
       " 'I',\n",
       " 'n',\n",
       " 'd',\n",
       " 'i',\n",
       " 'a',\n",
       " ',',\n",
       " '[',\n",
       " 'j',\n",
       " ']',\n",
       " '[',\n",
       " '2',\n",
       " '1',\n",
       " ']',\n",
       " ' ',\n",
       " 'i',\n",
       " 's',\n",
       " ' ',\n",
       " 'a',\n",
       " ' ',\n",
       " 'c',\n",
       " 'o',\n",
       " 'u',\n",
       " 'n',\n",
       " 't',\n",
       " 'r',\n",
       " 'y',\n",
       " ' ',\n",
       " 'i',\n",
       " 'n',\n",
       " ' ',\n",
       " 'S',\n",
       " 'o',\n",
       " 'u',\n",
       " 't',\n",
       " 'h',\n",
       " ' ',\n",
       " 'A',\n",
       " 's',\n",
       " 'i',\n",
       " 'a',\n",
       " '.',\n",
       " '\\n']"
      ]
     },
     "execution_count": 26,
     "metadata": {},
     "output_type": "execute_result"
    }
   ],
   "source": [
    "words1"
   ]
  },
  {
   "cell_type": "code",
   "execution_count": 27,
   "id": "337ce440-27eb-4828-8596-256106a930ec",
   "metadata": {},
   "outputs": [],
   "source": [
    "# Functions in python file"
   ]
  },
  {
   "cell_type": "raw",
   "id": "3201fd38-29c5-4a20-9276-47c0ecde2040",
   "metadata": {},
   "source": [
    "def sum(a,b):\n",
    "    return a + b"
   ]
  },
  {
   "cell_type": "code",
   "execution_count": 28,
   "id": "a577f584-d253-41e0-90cb-48be83546b28",
   "metadata": {},
   "outputs": [],
   "source": [
    "f = open('my_functions.py', mode='w')"
   ]
  },
  {
   "cell_type": "code",
   "execution_count": 29,
   "id": "4aaeb28a-653b-44ac-9a6e-00f87328089c",
   "metadata": {},
   "outputs": [
    {
     "data": {
      "text/plain": [
       "77"
      ]
     },
     "execution_count": 29,
     "metadata": {},
     "output_type": "execute_result"
    }
   ],
   "source": [
    "f.write(\"\"\"def sum(a,b):\n",
    "    return a + b\n",
    "    \n",
    "def multiplication(a,b):\n",
    "    return a * b\"\"\")"
   ]
  },
  {
   "cell_type": "code",
   "execution_count": 30,
   "id": "bd81988a-9278-451d-a588-6150bb7594cf",
   "metadata": {},
   "outputs": [],
   "source": [
    "f.close()"
   ]
  },
  {
   "cell_type": "code",
   "execution_count": null,
   "id": "9193d0e1-a38b-4d21-9831-53604164f807",
   "metadata": {},
   "outputs": [],
   "source": []
  }
 ],
 "metadata": {
  "kernelspec": {
   "display_name": "Python 3 (ipykernel)",
   "language": "python",
   "name": "python3"
  },
  "language_info": {
   "codemirror_mode": {
    "name": "ipython",
    "version": 3
   },
   "file_extension": ".py",
   "mimetype": "text/x-python",
   "name": "python",
   "nbconvert_exporter": "python",
   "pygments_lexer": "ipython3",
   "version": "3.12.4"
  }
 },
 "nbformat": 4,
 "nbformat_minor": 5
}
