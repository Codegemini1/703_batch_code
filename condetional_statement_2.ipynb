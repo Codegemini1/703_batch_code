{
 "cells": [
  {
   "cell_type": "code",
   "execution_count": 4,
   "id": "e3b766be-ce11-4517-9e4d-9e4fdb54a567",
   "metadata": {},
   "outputs": [],
   "source": [
    "marks = 3"
   ]
  },
  {
   "cell_type": "code",
   "execution_count": 5,
   "id": "d4584484-6204-45b3-85df-f1151dbdfbdb",
   "metadata": {},
   "outputs": [
    {
     "name": "stdout",
     "output_type": "stream",
     "text": [
      "Fail\n"
     ]
    }
   ],
   "source": [
    "if marks > 35:\n",
    "    print('Pass')\n",
    "else:\n",
    "    print('Fail')"
   ]
  },
  {
   "cell_type": "code",
   "execution_count": 6,
   "id": "a7d882e2-eebd-47e1-babc-9c5f47f9f6ca",
   "metadata": {},
   "outputs": [],
   "source": [
    "# Multiple Condetions"
   ]
  },
  {
   "cell_type": "code",
   "execution_count": 29,
   "id": "efc1e1cb-9061-4f19-9888-e46054b691fc",
   "metadata": {},
   "outputs": [],
   "source": [
    "age = 91"
   ]
  },
  {
   "cell_type": "code",
   "execution_count": 30,
   "id": "85aecc2f-e813-473e-9d04-5d581af54025",
   "metadata": {},
   "outputs": [
    {
     "name": "stdout",
     "output_type": "stream",
     "text": [
      "Old Person\n"
     ]
    }
   ],
   "source": [
    "if age > 90:\n",
    "    print('Old Person')\n",
    "elif age > 30:\n",
    "    print('Working Person')\n",
    "elif age > 5:\n",
    "    print('Student')\n",
    "else:\n",
    "    print('Small baby')"
   ]
  },
  {
   "cell_type": "code",
   "execution_count": 15,
   "id": "338b657c-3d8b-4200-b850-40c08cd5e4a1",
   "metadata": {},
   "outputs": [
    {
     "name": "stdout",
     "output_type": "stream",
     "text": [
      "Fail\n"
     ]
    }
   ],
   "source": [
    "marks = 8\n",
    "if marks > 90 :\n",
    "    print('A+')\n",
    "elif marks > 70:\n",
    "    print('B')\n",
    "elif marks > 50:\n",
    "    print('C')\n",
    "elif marks > 35:\n",
    "    print('Pass')\n",
    "else:\n",
    "    print('Fail')"
   ]
  },
  {
   "cell_type": "code",
   "execution_count": 20,
   "id": "a672df27-4b52-4f55-81e7-de0a2bb071db",
   "metadata": {},
   "outputs": [
    {
     "name": "stdout",
     "output_type": "stream",
     "text": [
      "Please write marks between range of 0-100\n"
     ]
    }
   ],
   "source": [
    "marks = 90\n",
    "if marks> 90 and marks < 100:\n",
    "    print('A+')\n",
    "elif marks > 70 and marks < 90:\n",
    "    print('B')\n",
    "elif marks > 50 and marks < 70:\n",
    "    print('C')\n",
    "elif marks > 35 and marks < 50:\n",
    "    print('Pass')\n",
    "elif marks > 0 and marks < 35:\n",
    "    print('Fail')\n",
    "else:\n",
    "    print('Please write marks between range of 0-100')"
   ]
  },
  {
   "cell_type": "code",
   "execution_count": 21,
   "id": "6777d6f8-1487-4fe9-9ca7-1aae3ed7b0e7",
   "metadata": {},
   "outputs": [
    {
     "name": "stdout",
     "output_type": "stream",
     "text": [
      "A+\n"
     ]
    }
   ],
   "source": [
    "marks = 90\n",
    "if marks>= 90 and marks < 100:\n",
    "    print('A+')\n",
    "elif marks >= 70 and marks < 90:\n",
    "    print('B')\n",
    "elif marks >= 50 and marks < 70:\n",
    "    print('C')\n",
    "elif marks >= 35 and marks < 50:\n",
    "    print('Pass')\n",
    "elif marks > 0 and marks < 35:\n",
    "    print('Fail')\n",
    "else:\n",
    "    print('Please write marks between range of 0-100')"
   ]
  },
  {
   "cell_type": "code",
   "execution_count": 23,
   "id": "6102f80b-387e-461b-a4c7-a093ff8ca736",
   "metadata": {},
   "outputs": [
    {
     "name": "stdout",
     "output_type": "stream",
     "text": [
      "True\n"
     ]
    }
   ],
   "source": [
    "if 10 > 60 or 10 < 20:\n",
    "    print(True)\n",
    "else:\n",
    "    print(False)"
   ]
  },
  {
   "cell_type": "code",
   "execution_count": 24,
   "id": "b40c61e6-0803-4676-a5ca-ee9bac62bccf",
   "metadata": {},
   "outputs": [],
   "source": [
    "# 5 Examples"
   ]
  },
  {
   "cell_type": "code",
   "execution_count": 31,
   "id": "b39b1607-ec69-4f56-a1dc-765ca4184cc3",
   "metadata": {},
   "outputs": [],
   "source": [
    "l = ['H', 'E', 'L', 'L', 'O', 'I']"
   ]
  },
  {
   "cell_type": "code",
   "execution_count": 32,
   "id": "f6cf13be-79d5-439a-a3c7-b6c1eb79bf85",
   "metadata": {},
   "outputs": [
    {
     "name": "stdout",
     "output_type": "stream",
     "text": [
      "H\n",
      "E\n",
      "L\n",
      "L\n",
      "O\n",
      "I\n"
     ]
    }
   ],
   "source": [
    "for char in l:\n",
    "    print(char)"
   ]
  },
  {
   "cell_type": "code",
   "execution_count": null,
   "id": "7951c9c9-82ab-40f0-90ba-8e36f9d22114",
   "metadata": {},
   "outputs": [],
   "source": [
    "for loop is going to iterate object one by one"
   ]
  },
  {
   "cell_type": "code",
   "execution_count": 37,
   "id": "b6f17c73-b58d-4f83-8cf8-54c55275573b",
   "metadata": {},
   "outputs": [],
   "source": [
    "d = [10,20,30,40,50]"
   ]
  },
  {
   "cell_type": "code",
   "execution_count": 38,
   "id": "b9235eaa-a52b-4961-83a4-f1bea6701808",
   "metadata": {},
   "outputs": [
    {
     "name": "stdout",
     "output_type": "stream",
     "text": [
      "10\n",
      "20\n",
      "30\n",
      "40\n",
      "50\n"
     ]
    }
   ],
   "source": [
    "for num in d:\n",
    "    print(num)"
   ]
  },
  {
   "cell_type": "code",
   "execution_count": 39,
   "id": "90b2350e-a4dd-4a29-bb44-d06e325a5713",
   "metadata": {},
   "outputs": [
    {
     "name": "stdout",
     "output_type": "stream",
     "text": [
      "11\n",
      "21\n",
      "31\n",
      "41\n",
      "51\n"
     ]
    }
   ],
   "source": [
    "for num in d:\n",
    "    print(num + 1)"
   ]
  },
  {
   "cell_type": "code",
   "execution_count": 40,
   "id": "3b6a426f-4ca1-407c-b148-91ec91744b83",
   "metadata": {},
   "outputs": [
    {
     "name": "stdout",
     "output_type": "stream",
     "text": [
      "D\n",
      "a\n",
      "t\n",
      "a\n"
     ]
    }
   ],
   "source": [
    "for i in 'Data':\n",
    "    print(i)"
   ]
  },
  {
   "cell_type": "code",
   "execution_count": 41,
   "id": "4b7f9d04-0a46-44a6-9c29-c08aae55f693",
   "metadata": {},
   "outputs": [
    {
     "ename": "TypeError",
     "evalue": "'int' object is not iterable",
     "output_type": "error",
     "traceback": [
      "\u001b[1;31m---------------------------------------------------------------------------\u001b[0m",
      "\u001b[1;31mTypeError\u001b[0m                                 Traceback (most recent call last)",
      "Cell \u001b[1;32mIn[41], line 1\u001b[0m\n\u001b[1;32m----> 1\u001b[0m \u001b[38;5;28;01mfor\u001b[39;00m i \u001b[38;5;129;01min\u001b[39;00m \u001b[38;5;241m150\u001b[39m:\n\u001b[0;32m      2\u001b[0m     \u001b[38;5;28mprint\u001b[39m(i)\n",
      "\u001b[1;31mTypeError\u001b[0m: 'int' object is not iterable"
     ]
    }
   ],
   "source": [
    "for i in 150:\n",
    "    print(i)"
   ]
  },
  {
   "cell_type": "code",
   "execution_count": 42,
   "id": "6293d935-06b7-4ceb-a451-e5f5db45fc09",
   "metadata": {},
   "outputs": [],
   "source": [
    "t = (1,2,3,4,5)"
   ]
  },
  {
   "cell_type": "code",
   "execution_count": 43,
   "id": "1d0461aa-c665-4417-a725-f90b31417e7e",
   "metadata": {},
   "outputs": [
    {
     "name": "stdout",
     "output_type": "stream",
     "text": [
      "1\n",
      "2\n",
      "3\n",
      "4\n",
      "5\n"
     ]
    }
   ],
   "source": [
    "for numbers in t:\n",
    "    print(numbers)"
   ]
  },
  {
   "cell_type": "code",
   "execution_count": 46,
   "id": "9a77d60b-ab26-46f0-9a99-8e515b755d03",
   "metadata": {},
   "outputs": [],
   "source": [
    "y = (100,10)"
   ]
  },
  {
   "cell_type": "code",
   "execution_count": 47,
   "id": "d2b715f2-0ce3-41fb-a506-e1f99f39c778",
   "metadata": {},
   "outputs": [
    {
     "name": "stdout",
     "output_type": "stream",
     "text": [
      "100\n",
      "10\n"
     ]
    }
   ],
   "source": [
    "for data in y:\n",
    "    print(data)"
   ]
  },
  {
   "cell_type": "code",
   "execution_count": 48,
   "id": "3048fb97-516e-4574-a564-f8be92d081ca",
   "metadata": {},
   "outputs": [
    {
     "name": "stdout",
     "output_type": "stream",
     "text": [
      "S\n",
      "c\n",
      "i\n",
      "e\n",
      "n\n",
      "c\n",
      "e\n"
     ]
    }
   ],
   "source": [
    "for i in 'Science':\n",
    "    print(i)"
   ]
  },
  {
   "cell_type": "code",
   "execution_count": 49,
   "id": "d40fea63-3dc9-44b0-a233-2f413bf625f8",
   "metadata": {},
   "outputs": [
    {
     "name": "stdout",
     "output_type": "stream",
     "text": [
      "SHello\n",
      "cHello\n",
      "iHello\n",
      "eHello\n",
      "nHello\n",
      "cHello\n",
      "eHello\n"
     ]
    }
   ],
   "source": [
    "for i in 'Science':\n",
    "    print(i + 'Hello')"
   ]
  },
  {
   "cell_type": "code",
   "execution_count": 50,
   "id": "cb17e881-e86b-4215-be50-30b5d0e0dd24",
   "metadata": {},
   "outputs": [],
   "source": [
    "names = ['Vaibhav', 'Vinit', 'Sandesh', 'Vaishnavi', 'Ankita', 'Rijuta']"
   ]
  },
  {
   "cell_type": "code",
   "execution_count": 51,
   "id": "78aa17ad-64d3-48cb-be84-b4cb5dbc7f3e",
   "metadata": {},
   "outputs": [
    {
     "name": "stdout",
     "output_type": "stream",
     "text": [
      "Hi Vaibhav\n",
      "Hi Vinit\n",
      "Hi Sandesh\n",
      "Hi Vaishnavi\n",
      "Hi Ankita\n",
      "Hi Rijuta\n"
     ]
    }
   ],
   "source": [
    "for i in names:\n",
    "    print('Hi ' + i)"
   ]
  },
  {
   "cell_type": "code",
   "execution_count": null,
   "id": "f9a08793-f390-4c1b-8c03-70693370d33b",
   "metadata": {},
   "outputs": [],
   "source": []
  }
 ],
 "metadata": {
  "kernelspec": {
   "display_name": "Python 3 (ipykernel)",
   "language": "python",
   "name": "python3"
  },
  "language_info": {
   "codemirror_mode": {
    "name": "ipython",
    "version": 3
   },
   "file_extension": ".py",
   "mimetype": "text/x-python",
   "name": "python",
   "nbconvert_exporter": "python",
   "pygments_lexer": "ipython3",
   "version": "3.12.4"
  }
 },
 "nbformat": 4,
 "nbformat_minor": 5
}
