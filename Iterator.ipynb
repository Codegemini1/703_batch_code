{
 "cells": [
  {
   "cell_type": "code",
   "execution_count": 2,
   "id": "9ad185cd-25eb-41dc-9591-d259ac12962a",
   "metadata": {},
   "outputs": [],
   "source": [
    "a = 'Hello' #str is iterable ---> Iterator"
   ]
  },
  {
   "cell_type": "code",
   "execution_count": 3,
   "id": "5cd4c0fc-ed1b-4fe5-a49c-93c6cfbcf815",
   "metadata": {},
   "outputs": [],
   "source": [
    "a = iter(a)"
   ]
  },
  {
   "cell_type": "code",
   "execution_count": 4,
   "id": "4bd47b0e-b565-4d48-80af-4e16024f77f2",
   "metadata": {},
   "outputs": [
    {
     "data": {
      "text/plain": [
       "'H'"
      ]
     },
     "execution_count": 4,
     "metadata": {},
     "output_type": "execute_result"
    }
   ],
   "source": [
    "next(a)"
   ]
  },
  {
   "cell_type": "code",
   "execution_count": 5,
   "id": "ad22556b-483e-434a-806a-91ff48a9d452",
   "metadata": {},
   "outputs": [
    {
     "data": {
      "text/plain": [
       "'e'"
      ]
     },
     "execution_count": 5,
     "metadata": {},
     "output_type": "execute_result"
    }
   ],
   "source": [
    "next(a)"
   ]
  },
  {
   "cell_type": "code",
   "execution_count": 6,
   "id": "d8261e53-eba0-405f-bee1-02e454685bd1",
   "metadata": {},
   "outputs": [
    {
     "data": {
      "text/plain": [
       "'l'"
      ]
     },
     "execution_count": 6,
     "metadata": {},
     "output_type": "execute_result"
    }
   ],
   "source": [
    "next(a)"
   ]
  },
  {
   "cell_type": "code",
   "execution_count": 7,
   "id": "392de0e6-d577-4828-9b62-30750b880ef2",
   "metadata": {},
   "outputs": [
    {
     "data": {
      "text/plain": [
       "'l'"
      ]
     },
     "execution_count": 7,
     "metadata": {},
     "output_type": "execute_result"
    }
   ],
   "source": [
    "next(a)"
   ]
  },
  {
   "cell_type": "code",
   "execution_count": 8,
   "id": "80f5613c-f870-4dfd-bf56-9b46fdc5fa2e",
   "metadata": {},
   "outputs": [
    {
     "data": {
      "text/plain": [
       "'o'"
      ]
     },
     "execution_count": 8,
     "metadata": {},
     "output_type": "execute_result"
    }
   ],
   "source": [
    "next(a)"
   ]
  },
  {
   "cell_type": "code",
   "execution_count": 9,
   "id": "5edcf7f2-f08b-46b7-b096-376a4d8dbbd3",
   "metadata": {},
   "outputs": [
    {
     "ename": "StopIteration",
     "evalue": "",
     "output_type": "error",
     "traceback": [
      "\u001b[1;31m---------------------------------------------------------------------------\u001b[0m",
      "\u001b[1;31mStopIteration\u001b[0m                             Traceback (most recent call last)",
      "Cell \u001b[1;32mIn[9], line 1\u001b[0m\n\u001b[1;32m----> 1\u001b[0m \u001b[38;5;28mnext\u001b[39m(a)\n",
      "\u001b[1;31mStopIteration\u001b[0m: "
     ]
    }
   ],
   "source": [
    "next(a)"
   ]
  },
  {
   "cell_type": "code",
   "execution_count": 10,
   "id": "6ad6e17e-01d0-4e7f-a934-9b857837e606",
   "metadata": {},
   "outputs": [],
   "source": [
    "l = [1,2,3,4]"
   ]
  },
  {
   "cell_type": "code",
   "execution_count": 11,
   "id": "61038fc4-c94b-405b-99ed-4880169e57dc",
   "metadata": {},
   "outputs": [],
   "source": [
    "l = iter(l)"
   ]
  },
  {
   "cell_type": "code",
   "execution_count": 12,
   "id": "45ab1d54-0fac-4162-a5bc-9f3321d57c5d",
   "metadata": {},
   "outputs": [
    {
     "data": {
      "text/plain": [
       "1"
      ]
     },
     "execution_count": 12,
     "metadata": {},
     "output_type": "execute_result"
    }
   ],
   "source": [
    "next(l)"
   ]
  },
  {
   "cell_type": "code",
   "execution_count": 13,
   "id": "983e6cbf-6a29-41ea-a75b-c4e93f603d0c",
   "metadata": {},
   "outputs": [
    {
     "data": {
      "text/plain": [
       "2"
      ]
     },
     "execution_count": 13,
     "metadata": {},
     "output_type": "execute_result"
    }
   ],
   "source": [
    "next(l)"
   ]
  },
  {
   "cell_type": "markdown",
   "id": "0af0e789-971f-4cb6-82bd-a1d5d814d25f",
   "metadata": {},
   "source": [
    "# Generator"
   ]
  },
  {
   "cell_type": "code",
   "execution_count": 15,
   "id": "7bcc4723-0628-43c5-92ed-4dd4bfe3e93f",
   "metadata": {},
   "outputs": [],
   "source": [
    "def square(n):\n",
    "    for i in range(n):\n",
    "        result = i * i\n",
    "    return result"
   ]
  },
  {
   "cell_type": "code",
   "execution_count": 17,
   "id": "a3d37545-47e2-4d64-98fc-211cd67f7c41",
   "metadata": {},
   "outputs": [
    {
     "data": {
      "text/plain": [
       "16"
      ]
     },
     "execution_count": 17,
     "metadata": {},
     "output_type": "execute_result"
    }
   ],
   "source": [
    "square(5)"
   ]
  },
  {
   "cell_type": "code",
   "execution_count": 22,
   "id": "4f30dec9-786e-480f-84e9-5cd04aaa9497",
   "metadata": {},
   "outputs": [],
   "source": [
    "def gen_square(n):\n",
    "    for i in range(n):\n",
    "        yield square(5)"
   ]
  },
  {
   "cell_type": "code",
   "execution_count": 23,
   "id": "7f06344a-16f8-4870-8d57-32510bfeed1b",
   "metadata": {},
   "outputs": [
    {
     "data": {
      "text/plain": [
       "<generator object gen_square at 0x0000025E0B0CFC60>"
      ]
     },
     "execution_count": 23,
     "metadata": {},
     "output_type": "execute_result"
    }
   ],
   "source": [
    "gen_square(5)"
   ]
  },
  {
   "cell_type": "code",
   "execution_count": 26,
   "id": "42cc52b4-73ad-4c5b-a150-fa92b83eec50",
   "metadata": {},
   "outputs": [],
   "source": [
    "def cube(a):\n",
    "    return a * a * a"
   ]
  },
  {
   "cell_type": "code",
   "execution_count": 27,
   "id": "f9a9d2b5-ea3e-4e8e-98e1-b83748870d03",
   "metadata": {},
   "outputs": [
    {
     "data": {
      "text/plain": [
       "125"
      ]
     },
     "execution_count": 27,
     "metadata": {},
     "output_type": "execute_result"
    }
   ],
   "source": [
    "cube(5)"
   ]
  },
  {
   "cell_type": "code",
   "execution_count": 30,
   "id": "95ce3dd1-f5a2-4e19-811e-33864f052a66",
   "metadata": {},
   "outputs": [],
   "source": [
    "def cube_gen(n):\n",
    "    for i in range(n):\n",
    "        yield i * i * i"
   ]
  },
  {
   "cell_type": "code",
   "execution_count": 31,
   "id": "89a4e6e3-aa9d-4495-868a-e41e40a95542",
   "metadata": {},
   "outputs": [
    {
     "data": {
      "text/plain": [
       "<generator object cube_gen at 0x0000025E0B0C57D0>"
      ]
     },
     "execution_count": 31,
     "metadata": {},
     "output_type": "execute_result"
    }
   ],
   "source": [
    "cube_gen(5)"
   ]
  },
  {
   "cell_type": "code",
   "execution_count": null,
   "id": "af27784d-46cf-467a-a975-b0952893abf6",
   "metadata": {},
   "outputs": [],
   "source": []
  }
 ],
 "metadata": {
  "kernelspec": {
   "display_name": "Python 3 (ipykernel)",
   "language": "python",
   "name": "python3"
  },
  "language_info": {
   "codemirror_mode": {
    "name": "ipython",
    "version": 3
   },
   "file_extension": ".py",
   "mimetype": "text/x-python",
   "name": "python",
   "nbconvert_exporter": "python",
   "pygments_lexer": "ipython3",
   "version": "3.12.4"
  }
 },
 "nbformat": 4,
 "nbformat_minor": 5
}
