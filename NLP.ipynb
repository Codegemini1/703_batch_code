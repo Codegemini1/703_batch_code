{
 "cells": [
  {
   "cell_type": "code",
   "execution_count": 4,
   "id": "2c0f9ac7-b02a-42d5-9ed1-cb9ca0f1d21a",
   "metadata": {},
   "outputs": [],
   "source": [
    "text = [ \" Amid escalating tensions in Syria following Israeli airstrikes. \", \n",
    "\"U.S. State Department spokesperson Tammy Bruce reaffirmed Washington’s.\" ,\n",
    "\"commitment to promoting calm and integration across Syria .\", \n",
    "\"Speaking at a recent briefing, Bruce emphasized ongoing U.S. engagement with all Syrian. \"\n",
    "]"
   ]
  },
  {
   "cell_type": "code",
   "execution_count": 5,
   "id": "ea8ea53d-aba8-4ab0-883a-1b454e6d63f6",
   "metadata": {},
   "outputs": [
    {
     "data": {
      "text/plain": [
       "[' Amid escalating tensions in Syria following Israeli airstrikes. ',\n",
       " 'U.S. State Department spokesperson Tammy Bruce reaffirmed Washington’s.',\n",
       " 'commitment to promoting calm and integration across Syria .',\n",
       " 'Speaking at a recent briefing, Bruce emphasized ongoing U.S. engagement with all Syrian. ']"
      ]
     },
     "execution_count": 5,
     "metadata": {},
     "output_type": "execute_result"
    }
   ],
   "source": [
    "text"
   ]
  },
  {
   "cell_type": "code",
   "execution_count": 6,
   "id": "3a9dc5e2-2b94-42c4-b6b8-6118b37faf11",
   "metadata": {},
   "outputs": [],
   "source": [
    "# Tokenization"
   ]
  },
  {
   "cell_type": "code",
   "execution_count": 7,
   "id": "8f1ea0a5-7436-4065-8694-e1a33d8dc4f4",
   "metadata": {},
   "outputs": [
    {
     "name": "stdout",
     "output_type": "stream",
     "text": [
      "Requirement already satisfied: nltk in c:\\users\\admin\\anaconda3\\lib\\site-packages (3.8.1)\n",
      "Requirement already satisfied: click in c:\\users\\admin\\anaconda3\\lib\\site-packages (from nltk) (8.1.7)\n",
      "Requirement already satisfied: joblib in c:\\users\\admin\\anaconda3\\lib\\site-packages (from nltk) (1.4.2)\n",
      "Requirement already satisfied: regex>=2021.8.3 in c:\\users\\admin\\anaconda3\\lib\\site-packages (from nltk) (2023.10.3)\n",
      "Requirement already satisfied: tqdm in c:\\users\\admin\\anaconda3\\lib\\site-packages (from nltk) (4.66.4)\n",
      "Requirement already satisfied: colorama in c:\\users\\admin\\anaconda3\\lib\\site-packages (from click->nltk) (0.4.6)\n",
      "Note: you may need to restart the kernel to use updated packages.\n"
     ]
    }
   ],
   "source": [
    "pip install nltk"
   ]
  },
  {
   "cell_type": "code",
   "execution_count": 9,
   "id": "c25e185d-db32-4e53-b8d8-b7f24be056e3",
   "metadata": {},
   "outputs": [
    {
     "name": "stdout",
     "output_type": "stream",
     "text": [
      " Amid escalating tensions in Syria following Israeli airstrikes. \n",
      "U.S. State Department spokesperson Tammy Bruce reaffirmed Washington’s.\n",
      "commitment to promoting calm and integration across Syria .\n",
      "Speaking at a recent briefing, Bruce emphasized ongoing U.S. engagement with all Syrian. \n"
     ]
    }
   ],
   "source": [
    "for i in text:\n",
    "    print(i)"
   ]
  },
  {
   "cell_type": "code",
   "execution_count": 10,
   "id": "93a7c5c4-2590-4b24-b9da-56226126317d",
   "metadata": {},
   "outputs": [],
   "source": [
    "from nltk.tokenize import word_tokenize"
   ]
  },
  {
   "cell_type": "code",
   "execution_count": 11,
   "id": "dcf5f35e-0562-4cbc-83a9-68849dd5f989",
   "metadata": {},
   "outputs": [
    {
     "name": "stdout",
     "output_type": "stream",
     "text": [
      "['Amid', 'escalating', 'tensions', 'in', 'Syria', 'following', 'Israeli', 'airstrikes', '.']\n",
      "['U.S.', 'State', 'Department', 'spokesperson', 'Tammy', 'Bruce', 'reaffirmed', 'Washington', '’', 's', '.']\n",
      "['commitment', 'to', 'promoting', 'calm', 'and', 'integration', 'across', 'Syria', '.']\n",
      "['Speaking', 'at', 'a', 'recent', 'briefing', ',', 'Bruce', 'emphasized', 'ongoing', 'U.S.', 'engagement', 'with', 'all', 'Syrian', '.']\n"
     ]
    }
   ],
   "source": [
    "for i in text:\n",
    "    print(word_tokenize(i))"
   ]
  },
  {
   "cell_type": "markdown",
   "id": "5821cd0d-cb23-4577-a72a-4705a4d0fd0c",
   "metadata": {},
   "source": [
    "# Stowords"
   ]
  },
  {
   "cell_type": "code",
   "execution_count": 19,
   "id": "7a609bf5-fd14-4b33-96e8-a91300d01ba4",
   "metadata": {},
   "outputs": [],
   "source": [
    "from nltk.corpus import stopwords"
   ]
  },
  {
   "cell_type": "code",
   "execution_count": 20,
   "id": "28f956ae-ea26-4cca-8898-9dcde378089c",
   "metadata": {},
   "outputs": [],
   "source": [
    "stop_words = set(stopwords.words('english'))"
   ]
  },
  {
   "cell_type": "code",
   "execution_count": 21,
   "id": "a9fb2e38-94c7-4cdc-ae9e-92dc9784b431",
   "metadata": {},
   "outputs": [
    {
     "data": {
      "text/plain": [
       "['a',\n",
       " 'about',\n",
       " 'above',\n",
       " 'after',\n",
       " 'again',\n",
       " 'against',\n",
       " 'ain',\n",
       " 'all',\n",
       " 'am',\n",
       " 'an',\n",
       " 'and',\n",
       " 'any',\n",
       " 'are',\n",
       " 'aren',\n",
       " \"aren't\",\n",
       " 'as',\n",
       " 'at',\n",
       " 'be',\n",
       " 'because',\n",
       " 'been',\n",
       " 'before',\n",
       " 'being',\n",
       " 'below',\n",
       " 'between',\n",
       " 'both',\n",
       " 'but',\n",
       " 'by',\n",
       " 'can',\n",
       " 'couldn',\n",
       " \"couldn't\",\n",
       " 'd',\n",
       " 'did',\n",
       " 'didn',\n",
       " \"didn't\",\n",
       " 'do',\n",
       " 'does',\n",
       " 'doesn',\n",
       " \"doesn't\",\n",
       " 'doing',\n",
       " 'don',\n",
       " \"don't\",\n",
       " 'down',\n",
       " 'during',\n",
       " 'each',\n",
       " 'few',\n",
       " 'for',\n",
       " 'from',\n",
       " 'further',\n",
       " 'had',\n",
       " 'hadn',\n",
       " \"hadn't\",\n",
       " 'has',\n",
       " 'hasn',\n",
       " \"hasn't\",\n",
       " 'have',\n",
       " 'haven',\n",
       " \"haven't\",\n",
       " 'having',\n",
       " 'he',\n",
       " \"he'd\",\n",
       " \"he'll\",\n",
       " 'her',\n",
       " 'here',\n",
       " 'hers',\n",
       " 'herself',\n",
       " \"he's\",\n",
       " 'him',\n",
       " 'himself',\n",
       " 'his',\n",
       " 'how',\n",
       " 'i',\n",
       " \"i'd\",\n",
       " 'if',\n",
       " \"i'll\",\n",
       " \"i'm\",\n",
       " 'in',\n",
       " 'into',\n",
       " 'is',\n",
       " 'isn',\n",
       " \"isn't\",\n",
       " 'it',\n",
       " \"it'd\",\n",
       " \"it'll\",\n",
       " \"it's\",\n",
       " 'its',\n",
       " 'itself',\n",
       " \"i've\",\n",
       " 'just',\n",
       " 'll',\n",
       " 'm',\n",
       " 'ma',\n",
       " 'me',\n",
       " 'mightn',\n",
       " \"mightn't\",\n",
       " 'more',\n",
       " 'most',\n",
       " 'mustn',\n",
       " \"mustn't\",\n",
       " 'my',\n",
       " 'myself',\n",
       " 'needn',\n",
       " \"needn't\",\n",
       " 'no',\n",
       " 'nor',\n",
       " 'not',\n",
       " 'now',\n",
       " 'o',\n",
       " 'of',\n",
       " 'off',\n",
       " 'on',\n",
       " 'once',\n",
       " 'only',\n",
       " 'or',\n",
       " 'other',\n",
       " 'our',\n",
       " 'ours',\n",
       " 'ourselves',\n",
       " 'out',\n",
       " 'over',\n",
       " 'own',\n",
       " 're',\n",
       " 's',\n",
       " 'same',\n",
       " 'shan',\n",
       " \"shan't\",\n",
       " 'she',\n",
       " \"she'd\",\n",
       " \"she'll\",\n",
       " \"she's\",\n",
       " 'should',\n",
       " 'shouldn',\n",
       " \"shouldn't\",\n",
       " \"should've\",\n",
       " 'so',\n",
       " 'some',\n",
       " 'such',\n",
       " 't',\n",
       " 'than',\n",
       " 'that',\n",
       " \"that'll\",\n",
       " 'the',\n",
       " 'their',\n",
       " 'theirs',\n",
       " 'them',\n",
       " 'themselves',\n",
       " 'then',\n",
       " 'there',\n",
       " 'these',\n",
       " 'they',\n",
       " \"they'd\",\n",
       " \"they'll\",\n",
       " \"they're\",\n",
       " \"they've\",\n",
       " 'this',\n",
       " 'those',\n",
       " 'through',\n",
       " 'to',\n",
       " 'too',\n",
       " 'under',\n",
       " 'until',\n",
       " 'up',\n",
       " 've',\n",
       " 'very',\n",
       " 'was',\n",
       " 'wasn',\n",
       " \"wasn't\",\n",
       " 'we',\n",
       " \"we'd\",\n",
       " \"we'll\",\n",
       " \"we're\",\n",
       " 'were',\n",
       " 'weren',\n",
       " \"weren't\",\n",
       " \"we've\",\n",
       " 'what',\n",
       " 'when',\n",
       " 'where',\n",
       " 'which',\n",
       " 'while',\n",
       " 'who',\n",
       " 'whom',\n",
       " 'why',\n",
       " 'will',\n",
       " 'with',\n",
       " 'won',\n",
       " \"won't\",\n",
       " 'wouldn',\n",
       " \"wouldn't\",\n",
       " 'y',\n",
       " 'you',\n",
       " \"you'd\",\n",
       " \"you'll\",\n",
       " 'your',\n",
       " \"you're\",\n",
       " 'yours',\n",
       " 'yourself',\n",
       " 'yourselves',\n",
       " \"you've\"]"
      ]
     },
     "execution_count": 21,
     "metadata": {},
     "output_type": "execute_result"
    }
   ],
   "source": [
    "stopwords.words('english')"
   ]
  },
  {
   "cell_type": "code",
   "execution_count": 23,
   "id": "096e3953-7712-4ea5-ba06-60bc218eae90",
   "metadata": {},
   "outputs": [
    {
     "name": "stdout",
     "output_type": "stream",
     "text": [
      "['amid', 'escalating', 'tensions', 'in', 'syria', 'following', 'israeli', 'airstrikes', '.']\n",
      "['u.s.', 'state', 'department', 'spokesperson', 'tammy', 'bruce', 'reaffirmed', 'washington', '’', 's', '.']\n",
      "['commitment', 'to', 'promoting', 'calm', 'and', 'integration', 'across', 'syria', '.']\n",
      "['speaking', 'at', 'a', 'recent', 'briefing', ',', 'bruce', 'emphasized', 'ongoing', 'u.s.', 'engagement', 'with', 'all', 'syrian', '.']\n"
     ]
    }
   ],
   "source": [
    "for i in text:\n",
    "    print(word_tokenize(i.lower()))\n",
    "    "
   ]
  },
  {
   "cell_type": "code",
   "execution_count": 22,
   "id": "8029ecce-c60e-4eb8-aa95-5412f541e16a",
   "metadata": {},
   "outputs": [
    {
     "data": {
      "text/plain": [
       "['amid',\n",
       " 'escalating',\n",
       " 'tensions',\n",
       " 'in',\n",
       " 'syria',\n",
       " 'following',\n",
       " 'israeli',\n",
       " 'airstrikes',\n",
       " '.']"
      ]
     },
     "execution_count": 22,
     "metadata": {},
     "output_type": "execute_result"
    }
   ],
   "source": [
    "word_tokenize('Amid escalating tensions in Syria following Israeli airstrikes.'.lower())"
   ]
  },
  {
   "cell_type": "code",
   "execution_count": 24,
   "id": "a215c678-a4e9-49a8-8a54-2d1624c7db76",
   "metadata": {},
   "outputs": [
    {
     "data": {
      "text/plain": [
       "'amid escalating tensions in syria following israeli airstrikes.'"
      ]
     },
     "execution_count": 24,
     "metadata": {},
     "output_type": "execute_result"
    }
   ],
   "source": [
    "'Amid escalating tensions in Syria following Israeli airstrikes.'.lower()"
   ]
  },
  {
   "cell_type": "code",
   "execution_count": 36,
   "id": "5a73efec-6a0e-4ce6-814d-07266d4c135e",
   "metadata": {},
   "outputs": [
    {
     "name": "stdout",
     "output_type": "stream",
     "text": [
      " Amid escalating tensions in Syria following Israeli airstrikes. \n",
      "U.S. State Department spokesperson Tammy Bruce reaffirmed Washington’s.\n",
      "commitment to promoting calm and integration across Syria .\n",
      "Speaking at a recent briefing, Bruce emphasized ongoing U.S. engagement with all Syrian. \n"
     ]
    }
   ],
   "source": [
    "words = []\n",
    "for i in text:\n",
    "    words.append(i.lower())"
   ]
  },
  {
   "cell_type": "code",
   "execution_count": 35,
   "id": "9ad77f86-ac33-4b0f-9a03-4bb82f97e80b",
   "metadata": {},
   "outputs": [
    {
     "data": {
      "text/plain": [
       "['speaking at a recent briefing, bruce emphasized ongoing u.s. engagement with all syrian. ']"
      ]
     },
     "execution_count": 35,
     "metadata": {},
     "output_type": "execute_result"
    }
   ],
   "source": [
    "words"
   ]
  },
  {
   "cell_type": "code",
   "execution_count": null,
   "id": "1a6affe6-7f76-4001-9ae4-f00df9a89e6a",
   "metadata": {},
   "outputs": [],
   "source": [
    "for i in words:\n",
    "    sw = []\n",
    "    if i.isalpha() and i not in stop_words:\n",
    "        sw.append(i)"
   ]
  },
  {
   "cell_type": "code",
   "execution_count": 27,
   "id": "f63ab889-622b-48b4-a171-987f6a8fab8c",
   "metadata": {},
   "outputs": [
    {
     "data": {
      "text/plain": [
       "True"
      ]
     },
     "execution_count": 27,
     "metadata": {},
     "output_type": "execute_result"
    }
   ],
   "source": [
    "'amid'.isalpha()"
   ]
  },
  {
   "cell_type": "code",
   "execution_count": 28,
   "id": "c893472c-d56d-48bd-9b59-f9484fbdd86e",
   "metadata": {},
   "outputs": [
    {
     "data": {
      "text/plain": [
       "False"
      ]
     },
     "execution_count": 28,
     "metadata": {},
     "output_type": "execute_result"
    }
   ],
   "source": [
    "'.'.isalpha()"
   ]
  },
  {
   "cell_type": "code",
   "execution_count": 29,
   "id": "5c7370f6-0d9f-45ce-9e5f-b10980557758",
   "metadata": {},
   "outputs": [
    {
     "data": {
      "text/plain": [
       "False"
      ]
     },
     "execution_count": 29,
     "metadata": {},
     "output_type": "execute_result"
    }
   ],
   "source": [
    "'and' not in stop_words"
   ]
  },
  {
   "cell_type": "code",
   "execution_count": 30,
   "id": "252d5bb3-f517-4a76-a3d0-1089279142e9",
   "metadata": {},
   "outputs": [
    {
     "data": {
      "text/plain": [
       "True"
      ]
     },
     "execution_count": 30,
     "metadata": {},
     "output_type": "execute_result"
    }
   ],
   "source": [
    "'two' not in stop_words"
   ]
  },
  {
   "cell_type": "code",
   "execution_count": 39,
   "id": "43fc0924-90c3-41f5-808f-4856d91404e9",
   "metadata": {},
   "outputs": [
    {
     "name": "stdout",
     "output_type": "stream",
     "text": [
      "[['speaking', 'recent', 'briefing', 'bruce', 'emphasized', 'ongoing', 'engagement', 'syrian']]\n"
     ]
    }
   ],
   "source": [
    "for sentence in text:\n",
    "    filtered_sentences = []\n",
    "    words = word_tokenize(sentence.lower())\n",
    "    filtered = [word for word in words if word.isalpha() and word not in stop_words]\n",
    "    filtered_sentences.append(filtered)\n",
    "print(filtered_sentences)"
   ]
  },
  {
   "cell_type": "code",
   "execution_count": null,
   "id": "46481d68-1660-475e-9b86-8e05f196868e",
   "metadata": {},
   "outputs": [],
   "source": [
    "'speaking at a recent briefing, bruce emphasized ongoing u.s. engagement with all syrian. '"
   ]
  }
 ],
 "metadata": {
  "kernelspec": {
   "display_name": "Python 3 (ipykernel)",
   "language": "python",
   "name": "python3"
  },
  "language_info": {
   "codemirror_mode": {
    "name": "ipython",
    "version": 3
   },
   "file_extension": ".py",
   "mimetype": "text/x-python",
   "name": "python",
   "nbconvert_exporter": "python",
   "pygments_lexer": "ipython3",
   "version": "3.12.4"
  }
 },
 "nbformat": 4,
 "nbformat_minor": 5
}
