{
 "cells": [
  {
   "cell_type": "code",
   "execution_count": 1,
   "id": "7dd1151e-2148-48f8-9738-edecc547159a",
   "metadata": {},
   "outputs": [
    {
     "name": "stdout",
     "output_type": "stream",
     "text": [
      "10\n"
     ]
    }
   ],
   "source": [
    "print(10)"
   ]
  },
  {
   "cell_type": "code",
   "execution_count": 2,
   "id": "3ea5b8a4-adbc-4b8a-a157-519d04d9ccb0",
   "metadata": {},
   "outputs": [
    {
     "name": "stdout",
     "output_type": "stream",
     "text": [
      "Hello\n"
     ]
    }
   ],
   "source": [
    "print('Hello')"
   ]
  },
  {
   "cell_type": "code",
   "execution_count": 3,
   "id": "eecfca38-5cb5-4988-9380-7b0c7e41db72",
   "metadata": {},
   "outputs": [
    {
     "data": {
      "text/plain": [
       "'Hello'"
      ]
     },
     "execution_count": 3,
     "metadata": {},
     "output_type": "execute_result"
    }
   ],
   "source": [
    "'Hello'"
   ]
  },
  {
   "cell_type": "code",
   "execution_count": 4,
   "id": "0d9ca886-eb42-497f-bad6-034601df922d",
   "metadata": {},
   "outputs": [
    {
     "name": "stdout",
     "output_type": "stream",
     "text": [
      "15\n"
     ]
    }
   ],
   "source": [
    "print(10 + 5)"
   ]
  },
  {
   "cell_type": "markdown",
   "id": "23790e06-53f6-4e24-9b59-2dd423a89f00",
   "metadata": {},
   "source": [
    "# Variable"
   ]
  },
  {
   "cell_type": "code",
   "execution_count": 5,
   "id": "eb9d8c27-e0fc-4c70-9f8f-308a2b6b0273",
   "metadata": {},
   "outputs": [],
   "source": [
    "a = 10"
   ]
  },
  {
   "cell_type": "code",
   "execution_count": 6,
   "id": "2546bb98-3ab1-45cd-bca8-dfb42d8106ff",
   "metadata": {},
   "outputs": [
    {
     "name": "stdout",
     "output_type": "stream",
     "text": [
      "10\n"
     ]
    }
   ],
   "source": [
    "print(a)"
   ]
  },
  {
   "cell_type": "code",
   "execution_count": 7,
   "id": "67366c83-71f2-45d9-be0d-46ae0683f4b4",
   "metadata": {},
   "outputs": [
    {
     "ename": "SyntaxError",
     "evalue": "cannot assign to literal here. Maybe you meant '==' instead of '='? (3891884129.py, line 1)",
     "output_type": "error",
     "traceback": [
      "\u001b[1;36m  Cell \u001b[1;32mIn[7], line 1\u001b[1;36m\u001b[0m\n\u001b[1;33m    5 = 10\u001b[0m\n\u001b[1;37m    ^\u001b[0m\n\u001b[1;31mSyntaxError\u001b[0m\u001b[1;31m:\u001b[0m cannot assign to literal here. Maybe you meant '==' instead of '='?\n"
     ]
    }
   ],
   "source": [
    "5 = 10"
   ]
  },
  {
   "cell_type": "code",
   "execution_count": 8,
   "id": "371806d0-ca59-421a-b620-bd8ec11bbab3",
   "metadata": {},
   "outputs": [],
   "source": [
    "a5 = 10"
   ]
  },
  {
   "cell_type": "code",
   "execution_count": 9,
   "id": "09de5d5c-fda8-4abb-af88-ea9cc38c43b1",
   "metadata": {},
   "outputs": [
    {
     "name": "stdout",
     "output_type": "stream",
     "text": [
      "10\n"
     ]
    }
   ],
   "source": [
    "print(a5)"
   ]
  },
  {
   "cell_type": "code",
   "execution_count": 10,
   "id": "f3a8ab6a-0c39-4f11-981f-770d7c435ff8",
   "metadata": {},
   "outputs": [
    {
     "ename": "SyntaxError",
     "evalue": "invalid syntax. Maybe you meant '==' or ':=' instead of '='? (899716977.py, line 1)",
     "output_type": "error",
     "traceback": [
      "\u001b[1;36m  Cell \u001b[1;32mIn[10], line 1\u001b[1;36m\u001b[0m\n\u001b[1;33m    @name = 'Hello'\u001b[0m\n\u001b[1;37m     ^\u001b[0m\n\u001b[1;31mSyntaxError\u001b[0m\u001b[1;31m:\u001b[0m invalid syntax. Maybe you meant '==' or ':=' instead of '='?\n"
     ]
    }
   ],
   "source": [
    "@name = 'Hello'"
   ]
  },
  {
   "cell_type": "code",
   "execution_count": 11,
   "id": "42ca43ca-f310-4d92-9f94-1c72d9d2aac0",
   "metadata": {},
   "outputs": [],
   "source": [
    "name = 'Hello'"
   ]
  },
  {
   "cell_type": "code",
   "execution_count": 12,
   "id": "a48f0720-30ff-41b4-8684-352905c6be07",
   "metadata": {},
   "outputs": [
    {
     "name": "stdout",
     "output_type": "stream",
     "text": [
      "Hello\n"
     ]
    }
   ],
   "source": [
    "print(name)"
   ]
  },
  {
   "cell_type": "code",
   "execution_count": 13,
   "id": "6f020e7c-6101-4935-a87f-dcf74fb76a83",
   "metadata": {},
   "outputs": [
    {
     "ename": "SyntaxError",
     "evalue": "invalid syntax (1322492048.py, line 1)",
     "output_type": "error",
     "traceback": [
      "\u001b[1;36m  Cell \u001b[1;32mIn[13], line 1\u001b[1;36m\u001b[0m\n\u001b[1;33m    first name = 'Vaibhav'\u001b[0m\n\u001b[1;37m          ^\u001b[0m\n\u001b[1;31mSyntaxError\u001b[0m\u001b[1;31m:\u001b[0m invalid syntax\n"
     ]
    }
   ],
   "source": [
    "first name = 'Vaibhav'"
   ]
  },
  {
   "cell_type": "code",
   "execution_count": 14,
   "id": "8f68756a-fcd9-4a0b-a974-2f4fc10517b9",
   "metadata": {},
   "outputs": [],
   "source": [
    "first_name = 'Vaibhav'"
   ]
  },
  {
   "cell_type": "code",
   "execution_count": 15,
   "id": "94160dae-58ed-4a24-bdd9-bcb9b1ccbdda",
   "metadata": {},
   "outputs": [
    {
     "name": "stdout",
     "output_type": "stream",
     "text": [
      "Vaibhav\n"
     ]
    }
   ],
   "source": [
    "print(first_name)"
   ]
  },
  {
   "cell_type": "code",
   "execution_count": null,
   "id": "97d26144-1d15-402e-a4c8-6997725a3665",
   "metadata": {},
   "outputs": [],
   "source": [
    "What is python ?\n",
    "Why python is used for da/ds ?\n",
    "What is IDE ?\n",
    "Basic Data Types in python ?\n",
    "What is String / What is diff b/w Single Quotes and double / Triple ?\n",
    "What is Variable in python what is rule of it ?\n",
    "Intrduction"
   ]
  },
  {
   "cell_type": "markdown",
   "id": "357badef-86ff-4feb-8c1e-c1a08664c861",
   "metadata": {},
   "source": [
    "# Operations in python "
   ]
  },
  {
   "cell_type": "code",
   "execution_count": 16,
   "id": "59909caa-fa20-49a0-9d5f-6a1ecc4cb2e6",
   "metadata": {},
   "outputs": [],
   "source": [
    "a = 5\n",
    "b = 10"
   ]
  },
  {
   "cell_type": "code",
   "execution_count": 17,
   "id": "79c6eecb-eb25-457b-8520-6c70b8bc82f7",
   "metadata": {},
   "outputs": [
    {
     "name": "stdout",
     "output_type": "stream",
     "text": [
      "15\n"
     ]
    }
   ],
   "source": [
    "print(a + b)"
   ]
  },
  {
   "cell_type": "code",
   "execution_count": 18,
   "id": "f04c258f-9076-441c-8b7e-9bc902c9d93c",
   "metadata": {},
   "outputs": [
    {
     "name": "stdout",
     "output_type": "stream",
     "text": [
      "-5\n"
     ]
    }
   ],
   "source": [
    "print( a - b)"
   ]
  },
  {
   "cell_type": "code",
   "execution_count": 19,
   "id": "d481030f-7c1d-49a5-852c-88ceb232a702",
   "metadata": {},
   "outputs": [
    {
     "name": "stdout",
     "output_type": "stream",
     "text": [
      "50\n"
     ]
    }
   ],
   "source": [
    "print( a * b)"
   ]
  },
  {
   "cell_type": "code",
   "execution_count": 20,
   "id": "bcbf712f-b792-47a0-9184-282ec5df1c60",
   "metadata": {},
   "outputs": [
    {
     "name": "stdout",
     "output_type": "stream",
     "text": [
      "0.5\n"
     ]
    }
   ],
   "source": [
    "print(a / b)"
   ]
  },
  {
   "cell_type": "code",
   "execution_count": 22,
   "id": "ebbc4917-bd4c-4aad-af32-4be39050075a",
   "metadata": {},
   "outputs": [
    {
     "name": "stdout",
     "output_type": "stream",
     "text": [
      "5\n"
     ]
    }
   ],
   "source": [
    "print(a % b)  # Mod"
   ]
  },
  {
   "cell_type": "code",
   "execution_count": 24,
   "id": "a92f001e-81b0-43db-b147-68a32482a96e",
   "metadata": {},
   "outputs": [],
   "source": [
    "c = a + b"
   ]
  },
  {
   "cell_type": "code",
   "execution_count": 25,
   "id": "283060ad-4317-4bbb-950c-95a4e0fbd25a",
   "metadata": {},
   "outputs": [
    {
     "name": "stdout",
     "output_type": "stream",
     "text": [
      "15\n"
     ]
    }
   ],
   "source": [
    "print(c)"
   ]
  },
  {
   "cell_type": "code",
   "execution_count": 26,
   "id": "0f8a5e1f-07a8-4de0-b03a-403653aabe8f",
   "metadata": {},
   "outputs": [],
   "source": [
    "name = 'Hello'"
   ]
  },
  {
   "cell_type": "code",
   "execution_count": 27,
   "id": "060a12e6-232c-4bcd-b664-e5e5ba91bb22",
   "metadata": {},
   "outputs": [
    {
     "name": "stdout",
     "output_type": "stream",
     "text": [
      "Hello\n"
     ]
    }
   ],
   "source": [
    "print(name)"
   ]
  },
  {
   "cell_type": "code",
   "execution_count": 28,
   "id": "25d980b8-115c-4f8c-ba7e-e73165296164",
   "metadata": {},
   "outputs": [],
   "source": [
    "first_name = 'Vaibhav'\n",
    "last_name = 'Bhosale'"
   ]
  },
  {
   "cell_type": "code",
   "execution_count": 29,
   "id": "5cd0fcf7-fbeb-41c0-bb10-73116ec8af65",
   "metadata": {},
   "outputs": [
    {
     "name": "stdout",
     "output_type": "stream",
     "text": [
      "VaibhavBhosale\n"
     ]
    }
   ],
   "source": [
    "print(first_name + last_name)  # String + String"
   ]
  },
  {
   "cell_type": "code",
   "execution_count": 30,
   "id": "37241a21-4683-46b5-8dc0-66c1b53181a2",
   "metadata": {},
   "outputs": [
    {
     "ename": "TypeError",
     "evalue": "unsupported operand type(s) for +: 'int' and 'str'",
     "output_type": "error",
     "traceback": [
      "\u001b[1;31m---------------------------------------------------------------------------\u001b[0m",
      "\u001b[1;31mTypeError\u001b[0m                                 Traceback (most recent call last)",
      "Cell \u001b[1;32mIn[30], line 1\u001b[0m\n\u001b[1;32m----> 1\u001b[0m \u001b[38;5;241m5\u001b[39m \u001b[38;5;241m+\u001b[39m \u001b[38;5;124m'\u001b[39m\u001b[38;5;124mHello\u001b[39m\u001b[38;5;124m'\u001b[39m\n",
      "\u001b[1;31mTypeError\u001b[0m: unsupported operand type(s) for +: 'int' and 'str'"
     ]
    }
   ],
   "source": [
    "5 + 'Hello' "
   ]
  },
  {
   "cell_type": "code",
   "execution_count": 31,
   "id": "f6142fac-e550-4ca4-986d-a8f9012552d3",
   "metadata": {},
   "outputs": [
    {
     "data": {
      "text/plain": [
       "15.5"
      ]
     },
     "execution_count": 31,
     "metadata": {},
     "output_type": "execute_result"
    }
   ],
   "source": [
    "10 + 5.5   # int + float"
   ]
  },
  {
   "cell_type": "code",
   "execution_count": null,
   "id": "2129dd1c-f40e-467f-9f2f-3f42ddc60dcb",
   "metadata": {},
   "outputs": [],
   "source": [
    "str + Int ?"
   ]
  },
  {
   "cell_type": "code",
   "execution_count": 32,
   "id": "8a4377ff-75fc-4378-957e-d97858d4b09d",
   "metadata": {},
   "outputs": [
    {
     "name": "stdout",
     "output_type": "stream",
     "text": [
      "Vaibhav\n"
     ]
    }
   ],
   "source": [
    "print(first_name)"
   ]
  },
  {
   "cell_type": "code",
   "execution_count": 33,
   "id": "930872f3-93e9-426d-a817-9f41018e4bf5",
   "metadata": {},
   "outputs": [
    {
     "name": "stdout",
     "output_type": "stream",
     "text": [
      "Bhosale\n"
     ]
    }
   ],
   "source": [
    "print(last_name)"
   ]
  },
  {
   "cell_type": "code",
   "execution_count": 34,
   "id": "30a9b953-1896-42ec-a768-6ec080c35912",
   "metadata": {},
   "outputs": [
    {
     "name": "stdout",
     "output_type": "stream",
     "text": [
      "Vaibhav Bhosale\n"
     ]
    }
   ],
   "source": [
    "print(first_name + ' ' + last_name)"
   ]
  },
  {
   "cell_type": "code",
   "execution_count": 35,
   "id": "7761d468-44ab-4905-9e0f-32ed231537c9",
   "metadata": {},
   "outputs": [
    {
     "name": "stdout",
     "output_type": "stream",
     "text": [
      "VaibhavVaibhavVaibhav\n"
     ]
    }
   ],
   "source": [
    "print(first_name * 3)"
   ]
  },
  {
   "cell_type": "code",
   "execution_count": 36,
   "id": "e8fe9c17-5bff-432b-9b6c-028bc526cf6f",
   "metadata": {},
   "outputs": [
    {
     "name": "stdout",
     "output_type": "stream",
     "text": [
      "________________________________________________________________________________\n"
     ]
    }
   ],
   "source": [
    "print('_' * 80)"
   ]
  },
  {
   "cell_type": "code",
   "execution_count": 37,
   "id": "7376a95c-d562-48f7-a3e8-8b0d44213ce2",
   "metadata": {},
   "outputs": [
    {
     "ename": "TypeError",
     "evalue": "can only concatenate str (not \"float\") to str",
     "output_type": "error",
     "traceback": [
      "\u001b[1;31m---------------------------------------------------------------------------\u001b[0m",
      "\u001b[1;31mTypeError\u001b[0m                                 Traceback (most recent call last)",
      "Cell \u001b[1;32mIn[37], line 1\u001b[0m\n\u001b[1;32m----> 1\u001b[0m \u001b[38;5;28mprint\u001b[39m(first_name \u001b[38;5;241m+\u001b[39m \u001b[38;5;241m6.7\u001b[39m)\n",
      "\u001b[1;31mTypeError\u001b[0m: can only concatenate str (not \"float\") to str"
     ]
    }
   ],
   "source": [
    "print(first_name + 6.7)"
   ]
  },
  {
   "cell_type": "code",
   "execution_count": 40,
   "id": "02e92886-536c-4966-85f6-199d9a15a1b2",
   "metadata": {},
   "outputs": [],
   "source": [
    "marks = 75"
   ]
  },
  {
   "cell_type": "code",
   "execution_count": 41,
   "id": "b92fc3f0-b26a-426f-9315-3aedbbc8d5a4",
   "metadata": {},
   "outputs": [
    {
     "name": "stdout",
     "output_type": "stream",
     "text": [
      "You got 75\n"
     ]
    }
   ],
   "source": [
    "print('You got', marks)"
   ]
  },
  {
   "cell_type": "code",
   "execution_count": 42,
   "id": "734d1165-0603-4c6c-9a52-eadf916ed7be",
   "metadata": {},
   "outputs": [],
   "source": [
    "age = 45"
   ]
  },
  {
   "cell_type": "code",
   "execution_count": 43,
   "id": "a276f6df-4aa8-4297-a876-c1cf8208fd14",
   "metadata": {},
   "outputs": [
    {
     "name": "stdout",
     "output_type": "stream",
     "text": [
      "Your age is: 45\n"
     ]
    }
   ],
   "source": [
    "print('Your age is:', age)"
   ]
  },
  {
   "cell_type": "code",
   "execution_count": 44,
   "id": "176905bf-ce5c-4f9f-b4b9-8f17eb757fc8",
   "metadata": {},
   "outputs": [
    {
     "name": "stdout",
     "output_type": "stream",
     "text": [
      "Your good name is Vaibhav And your age is 45\n"
     ]
    }
   ],
   "source": [
    "print('Your good name is', first_name, 'And your age is', age)"
   ]
  },
  {
   "cell_type": "code",
   "execution_count": 45,
   "id": "5174b76c-48dd-4053-a53f-705f49c88bfe",
   "metadata": {},
   "outputs": [
    {
     "name": "stdout",
     "output_type": "stream",
     "text": [
      "Vaibhav\n"
     ]
    }
   ],
   "source": [
    "print(first_name)"
   ]
  },
  {
   "cell_type": "markdown",
   "id": "1386b312-c1d8-48d6-b714-849527098e9a",
   "metadata": {},
   "source": [
    "# Input"
   ]
  },
  {
   "cell_type": "code",
   "execution_count": 46,
   "id": "bfb8d33d-9876-48b8-a97a-d6320121fd4e",
   "metadata": {},
   "outputs": [
    {
     "name": "stdin",
     "output_type": "stream",
     "text": [
      " hello\n"
     ]
    }
   ],
   "source": [
    "first_name = input()"
   ]
  },
  {
   "cell_type": "code",
   "execution_count": 47,
   "id": "a320707b-b8e3-421b-a568-53b657252f01",
   "metadata": {},
   "outputs": [
    {
     "name": "stdout",
     "output_type": "stream",
     "text": [
      "hello\n"
     ]
    }
   ],
   "source": [
    "print(first_name)"
   ]
  },
  {
   "cell_type": "code",
   "execution_count": 48,
   "id": "587a1233-3ae2-4882-8e41-ed6a536f45ce",
   "metadata": {},
   "outputs": [
    {
     "name": "stdin",
     "output_type": "stream",
     "text": [
      "Enter your first name xyz\n"
     ]
    }
   ],
   "source": [
    "first_name = input('Enter your first name')"
   ]
  },
  {
   "cell_type": "code",
   "execution_count": 49,
   "id": "4da15a7b-69ad-49c1-a3b9-8c3c6149a13c",
   "metadata": {},
   "outputs": [
    {
     "name": "stdout",
     "output_type": "stream",
     "text": [
      "xyz\n"
     ]
    }
   ],
   "source": [
    "print(first_name)"
   ]
  },
  {
   "cell_type": "code",
   "execution_count": 50,
   "id": "b97dc5af-73d0-4fb9-a77c-3136c18308ad",
   "metadata": {},
   "outputs": [
    {
     "name": "stdin",
     "output_type": "stream",
     "text": [
      "Write your first name om\n",
      "Write your last name dixit\n"
     ]
    }
   ],
   "source": [
    "first_name = input('Write your first name')\n",
    "last_name = input('Write your last name')"
   ]
  },
  {
   "cell_type": "code",
   "execution_count": 51,
   "id": "43a5d945-c326-44fb-baeb-c865c2b863ce",
   "metadata": {},
   "outputs": [
    {
     "name": "stdout",
     "output_type": "stream",
     "text": [
      "omdixit\n"
     ]
    }
   ],
   "source": [
    "print(first_name + last_name)"
   ]
  },
  {
   "cell_type": "code",
   "execution_count": 52,
   "id": "17198cc6-b4cf-4e01-a589-5a5ccc12f0f1",
   "metadata": {},
   "outputs": [
    {
     "name": "stdout",
     "output_type": "stream",
     "text": [
      "om\n"
     ]
    }
   ],
   "source": [
    "print(first_name)"
   ]
  },
  {
   "cell_type": "code",
   "execution_count": 53,
   "id": "76f36ba1-8992-484d-b59a-541df76c73d4",
   "metadata": {},
   "outputs": [
    {
     "data": {
      "text/plain": [
       "str"
      ]
     },
     "execution_count": 53,
     "metadata": {},
     "output_type": "execute_result"
    }
   ],
   "source": [
    "type(first_name)"
   ]
  },
  {
   "cell_type": "code",
   "execution_count": 54,
   "id": "3a84aa60-e9b9-4596-b7ef-7e9ba29317ce",
   "metadata": {},
   "outputs": [
    {
     "name": "stdin",
     "output_type": "stream",
     "text": [
      "Enter you Age 65\n"
     ]
    }
   ],
   "source": [
    "age = input('Enter you Age')"
   ]
  },
  {
   "cell_type": "code",
   "execution_count": 55,
   "id": "485a17ef-f022-40df-aa40-3c02a5de0895",
   "metadata": {},
   "outputs": [
    {
     "data": {
      "text/plain": [
       "str"
      ]
     },
     "execution_count": 55,
     "metadata": {},
     "output_type": "execute_result"
    }
   ],
   "source": [
    "type(age)"
   ]
  },
  {
   "cell_type": "code",
   "execution_count": 56,
   "id": "d6684e11-0e6e-45d3-a419-dc5a22df0fbb",
   "metadata": {},
   "outputs": [
    {
     "name": "stdin",
     "output_type": "stream",
     "text": [
      "Enter your age 54\n"
     ]
    }
   ],
   "source": [
    "age = int(input('Enter your age'))"
   ]
  },
  {
   "cell_type": "code",
   "execution_count": 57,
   "id": "6a6ae129-e653-4f34-a583-06836e9cdb3d",
   "metadata": {},
   "outputs": [
    {
     "data": {
      "text/plain": [
       "int"
      ]
     },
     "execution_count": 57,
     "metadata": {},
     "output_type": "execute_result"
    }
   ],
   "source": [
    "type(age)"
   ]
  },
  {
   "cell_type": "code",
   "execution_count": 61,
   "id": "c7250da7-78d9-4df6-b783-6136e1b076b1",
   "metadata": {},
   "outputs": [
    {
     "name": "stdin",
     "output_type": "stream",
     "text": [
      "Enter your weight 65\n"
     ]
    }
   ],
   "source": [
    "weight = float(input('Enter your weight'))"
   ]
  },
  {
   "cell_type": "code",
   "execution_count": 62,
   "id": "891703bf-a80f-4d06-acba-263817a6e341",
   "metadata": {},
   "outputs": [
    {
     "name": "stdout",
     "output_type": "stream",
     "text": [
      "65.0\n"
     ]
    }
   ],
   "source": [
    "print(weight)"
   ]
  },
  {
   "cell_type": "code",
   "execution_count": 59,
   "id": "bccad9c6-7cf1-42b9-b7a1-90bdcda7daff",
   "metadata": {},
   "outputs": [
    {
     "data": {
      "text/plain": [
       "float"
      ]
     },
     "execution_count": 59,
     "metadata": {},
     "output_type": "execute_result"
    }
   ],
   "source": [
    "type(weight)"
   ]
  },
  {
   "cell_type": "code",
   "execution_count": 63,
   "id": "fce2c471-472b-4d69-a07e-bb9f66859693",
   "metadata": {},
   "outputs": [
    {
     "name": "stdin",
     "output_type": "stream",
     "text": [
      "Write your height in int format only 7.8\n"
     ]
    },
    {
     "ename": "ValueError",
     "evalue": "invalid literal for int() with base 10: '7.8'",
     "output_type": "error",
     "traceback": [
      "\u001b[1;31m---------------------------------------------------------------------------\u001b[0m",
      "\u001b[1;31mValueError\u001b[0m                                Traceback (most recent call last)",
      "Cell \u001b[1;32mIn[63], line 1\u001b[0m\n\u001b[1;32m----> 1\u001b[0m height \u001b[38;5;241m=\u001b[39m \u001b[38;5;28mint\u001b[39m(\u001b[38;5;28minput\u001b[39m(\u001b[38;5;124m'\u001b[39m\u001b[38;5;124mWrite your height in int format only\u001b[39m\u001b[38;5;124m'\u001b[39m))\n",
      "\u001b[1;31mValueError\u001b[0m: invalid literal for int() with base 10: '7.8'"
     ]
    }
   ],
   "source": [
    "height = int(input('Write your height in int format only'))"
   ]
  },
  {
   "cell_type": "code",
   "execution_count": 64,
   "id": "f5579756-028e-4f05-962a-9458eb6b7ebd",
   "metadata": {},
   "outputs": [
    {
     "name": "stdin",
     "output_type": "stream",
     "text": [
      "Enter your school name Vidya mandir\n",
      "Enter you standard number 8\n"
     ]
    },
    {
     "name": "stdout",
     "output_type": "stream",
     "text": [
      "Your school name is Vidya mandir And your standard is 8 class\n"
     ]
    }
   ],
   "source": [
    "school_name = input('Enter your school name')\n",
    "standard = int(input('Enter you standard number'))\n",
    "print('Your school name is', school_name, 'And your standard is', standard, 'class')"
   ]
  },
  {
   "cell_type": "code",
   "execution_count": 65,
   "id": "ba1456ed-c3ef-44f4-b093-6983d589a052",
   "metadata": {},
   "outputs": [],
   "source": [
    "# 5 your own examples "
   ]
  },
  {
   "cell_type": "code",
   "execution_count": null,
   "id": "8d5c7986-43f3-4b8c-ab45-e99d99c83c94",
   "metadata": {},
   "outputs": [],
   "source": []
  }
 ],
 "metadata": {
  "kernelspec": {
   "display_name": "Python 3 (ipykernel)",
   "language": "python",
   "name": "python3"
  },
  "language_info": {
   "codemirror_mode": {
    "name": "ipython",
    "version": 3
   },
   "file_extension": ".py",
   "mimetype": "text/x-python",
   "name": "python",
   "nbconvert_exporter": "python",
   "pygments_lexer": "ipython3",
   "version": "3.12.4"
  }
 },
 "nbformat": 4,
 "nbformat_minor": 5
}
