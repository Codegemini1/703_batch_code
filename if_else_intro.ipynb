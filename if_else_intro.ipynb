{
 "cells": [
  {
   "cell_type": "code",
   "execution_count": 1,
   "id": "4a39be31-3fae-4d3c-bbcf-c7433b90c682",
   "metadata": {},
   "outputs": [
    {
     "name": "stdout",
     "output_type": "stream",
     "text": [
      "Not Greater\n"
     ]
    }
   ],
   "source": [
    "if 10 > 20 :\n",
    "    print('Greater')\n",
    "else:\n",
    "    print('Not Greater')"
   ]
  },
  {
   "cell_type": "code",
   "execution_count": 2,
   "id": "69c41206-754b-4a55-a67f-b2c4183b1ed5",
   "metadata": {},
   "outputs": [
    {
     "name": "stdout",
     "output_type": "stream",
     "text": [
      "Greater\n"
     ]
    }
   ],
   "source": [
    "if 10 < 20 :\n",
    "    print('Greater')\n",
    "else:\n",
    "    print('Not Greater')"
   ]
  },
  {
   "cell_type": "code",
   "execution_count": 5,
   "id": "7c93b59a-4383-44f0-a984-c33d70de6f1e",
   "metadata": {},
   "outputs": [],
   "source": [
    "marks = 10"
   ]
  },
  {
   "cell_type": "code",
   "execution_count": 6,
   "id": "bf783cf2-f249-4ffc-b1ea-776412f5494f",
   "metadata": {},
   "outputs": [
    {
     "name": "stdout",
     "output_type": "stream",
     "text": [
      "fail\n"
     ]
    }
   ],
   "source": [
    "if marks > 35:\n",
    "    print('Pass')\n",
    "else:\n",
    "    print('fail')"
   ]
  },
  {
   "cell_type": "code",
   "execution_count": null,
   "id": "31246657-d765-4e85-ba69-adba8b92ddef",
   "metadata": {},
   "outputs": [],
   "source": []
  }
 ],
 "metadata": {
  "kernelspec": {
   "display_name": "Python 3 (ipykernel)",
   "language": "python",
   "name": "python3"
  },
  "language_info": {
   "codemirror_mode": {
    "name": "ipython",
    "version": 3
   },
   "file_extension": ".py",
   "mimetype": "text/x-python",
   "name": "python",
   "nbconvert_exporter": "python",
   "pygments_lexer": "ipython3",
   "version": "3.12.4"
  }
 },
 "nbformat": 4,
 "nbformat_minor": 5
}
