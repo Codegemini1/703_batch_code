{
 "cells": [
  {
   "cell_type": "code",
   "execution_count": 1,
   "id": "edc809a5-9ab5-41ed-a0da-dcb2c1bb321e",
   "metadata": {},
   "outputs": [
    {
     "name": "stdout",
     "output_type": "stream",
     "text": [
      "Requirement already satisfied: numpy in c:\\users\\admin\\anaconda3\\lib\\site-packages (1.26.4)\n",
      "Note: you may need to restart the kernel to use updated packages.\n"
     ]
    }
   ],
   "source": [
    "pip install numpy"
   ]
  },
  {
   "cell_type": "code",
   "execution_count": 3,
   "id": "774cae1d-1782-4d4d-9e0c-33058a8239aa",
   "metadata": {},
   "outputs": [],
   "source": [
    "import numpy as np"
   ]
  },
  {
   "cell_type": "code",
   "execution_count": 4,
   "id": "f286ebb0-943d-4ebd-bdc4-6a9c761a1507",
   "metadata": {},
   "outputs": [
    {
     "data": {
      "text/plain": [
       "128.0"
      ]
     },
     "execution_count": 4,
     "metadata": {},
     "output_type": "execute_result"
    }
   ],
   "source": [
    "np.mean([73,432,53,78,4])"
   ]
  },
  {
   "cell_type": "code",
   "execution_count": 5,
   "id": "4efe2d02-9a54-4171-8430-c0298a3d3c98",
   "metadata": {},
   "outputs": [
    {
     "data": {
      "text/plain": [
       "73.0"
      ]
     },
     "execution_count": 5,
     "metadata": {},
     "output_type": "execute_result"
    }
   ],
   "source": [
    "np.median([73,432,53,78,4])"
   ]
  },
  {
   "cell_type": "code",
   "execution_count": 6,
   "id": "347ab8df-80bc-417c-9d61-8312cf2e0c6d",
   "metadata": {},
   "outputs": [
    {
     "data": {
      "text/plain": [
       "128.0"
      ]
     },
     "execution_count": 6,
     "metadata": {},
     "output_type": "execute_result"
    }
   ],
   "source": [
    "np.average([73,432,53,78,4])"
   ]
  },
  {
   "cell_type": "code",
   "execution_count": 7,
   "id": "bf4bfb9a-31da-40be-8240-54cbf7efca9c",
   "metadata": {},
   "outputs": [],
   "source": [
    "l = [1,2,3,4,5]"
   ]
  },
  {
   "cell_type": "code",
   "execution_count": 9,
   "id": "9d57c2f4-5596-4ed4-a024-ad914765a116",
   "metadata": {},
   "outputs": [],
   "source": [
    "d_1 = np.array(l)"
   ]
  },
  {
   "cell_type": "code",
   "execution_count": 10,
   "id": "3e51f883-1cce-4516-b437-d491ded6e112",
   "metadata": {},
   "outputs": [
    {
     "data": {
      "text/plain": [
       "array([1, 2, 3, 4, 5])"
      ]
     },
     "execution_count": 10,
     "metadata": {},
     "output_type": "execute_result"
    }
   ],
   "source": [
    "d_1"
   ]
  },
  {
   "cell_type": "code",
   "execution_count": 12,
   "id": "a0ff01ed-6d11-4dc5-b69a-b53156884c0a",
   "metadata": {},
   "outputs": [
    {
     "data": {
      "text/plain": [
       "1"
      ]
     },
     "execution_count": 12,
     "metadata": {},
     "output_type": "execute_result"
    }
   ],
   "source": [
    "d_1.ndim #Direction"
   ]
  },
  {
   "cell_type": "code",
   "execution_count": 16,
   "id": "c548caac-43f8-49f5-b624-f45c5a4979c3",
   "metadata": {},
   "outputs": [],
   "source": [
    "d_2 = np.array([[1,2,3,4,5],[10,20,30,40,50]])"
   ]
  },
  {
   "cell_type": "code",
   "execution_count": 17,
   "id": "90d081fc-fe23-42db-bfad-a42959103164",
   "metadata": {},
   "outputs": [
    {
     "data": {
      "text/plain": [
       "array([[ 1,  2,  3,  4,  5],\n",
       "       [10, 20, 30, 40, 50]])"
      ]
     },
     "execution_count": 17,
     "metadata": {},
     "output_type": "execute_result"
    }
   ],
   "source": [
    "d_2"
   ]
  },
  {
   "cell_type": "code",
   "execution_count": 18,
   "id": "04ac0e36-7114-4dbd-b896-5263144ce238",
   "metadata": {},
   "outputs": [
    {
     "data": {
      "text/plain": [
       "array([['1', '2', '3', '4', '5'],\n",
       "       ['10', '20', '30', '40', '50'],\n",
       "       ['A', 'B', 'C', 'D', 'E']], dtype='<U11')"
      ]
     },
     "execution_count": 18,
     "metadata": {},
     "output_type": "execute_result"
    }
   ],
   "source": [
    "np.array([[1,2,3,4,5],[10,20,30,40,50],['A','B','C','D','E']])"
   ]
  },
  {
   "cell_type": "code",
   "execution_count": 19,
   "id": "87cd6542-59c3-4cf1-9244-93921da66a03",
   "metadata": {},
   "outputs": [
    {
     "data": {
      "text/plain": [
       "2"
      ]
     },
     "execution_count": 19,
     "metadata": {},
     "output_type": "execute_result"
    }
   ],
   "source": [
    "d_2.ndim"
   ]
  },
  {
   "cell_type": "code",
   "execution_count": 21,
   "id": "65402534-6012-474d-8597-712ed27bb38d",
   "metadata": {},
   "outputs": [],
   "source": [
    "d_3 = np.array([[[1,2,3,4,5],[10,20,30,40,50],['A','B','C','D','E']]])"
   ]
  },
  {
   "cell_type": "code",
   "execution_count": 22,
   "id": "c1cd4a26-d858-4422-a94f-dfa185437397",
   "metadata": {},
   "outputs": [
    {
     "data": {
      "text/plain": [
       "array([[['1', '2', '3', '4', '5'],\n",
       "        ['10', '20', '30', '40', '50'],\n",
       "        ['A', 'B', 'C', 'D', 'E']]], dtype='<U11')"
      ]
     },
     "execution_count": 22,
     "metadata": {},
     "output_type": "execute_result"
    }
   ],
   "source": [
    "d_3"
   ]
  },
  {
   "cell_type": "code",
   "execution_count": 23,
   "id": "676fbdc3-f62b-4142-babd-c3ccd451921b",
   "metadata": {},
   "outputs": [
    {
     "data": {
      "text/plain": [
       "3"
      ]
     },
     "execution_count": 23,
     "metadata": {},
     "output_type": "execute_result"
    }
   ],
   "source": [
    "d_3.ndim"
   ]
  },
  {
   "cell_type": "code",
   "execution_count": 26,
   "id": "ecb31133-1f23-4441-a81a-819432af1ec9",
   "metadata": {},
   "outputs": [
    {
     "data": {
      "text/plain": [
       "array([1, 2, 3, 4, 5])"
      ]
     },
     "execution_count": 26,
     "metadata": {},
     "output_type": "execute_result"
    }
   ],
   "source": [
    "d_1"
   ]
  },
  {
   "cell_type": "code",
   "execution_count": 27,
   "id": "b3483aed-eb19-444e-b20e-7bb9439ad0a9",
   "metadata": {},
   "outputs": [
    {
     "data": {
      "text/plain": [
       "1"
      ]
     },
     "execution_count": 27,
     "metadata": {},
     "output_type": "execute_result"
    }
   ],
   "source": [
    "d_1[0]"
   ]
  },
  {
   "cell_type": "code",
   "execution_count": 28,
   "id": "87d01161-16d2-4cb3-a1bb-f4a87be1cef2",
   "metadata": {},
   "outputs": [
    {
     "data": {
      "text/plain": [
       "array([17, 16, 14, 18, 15])"
      ]
     },
     "execution_count": 28,
     "metadata": {},
     "output_type": "execute_result"
    }
   ],
   "source": [
    "np.random.randint(10,20,5)"
   ]
  },
  {
   "cell_type": "code",
   "execution_count": 29,
   "id": "74bea2d2-6413-4657-924f-bf5c70e5e360",
   "metadata": {},
   "outputs": [
    {
     "data": {
      "text/plain": [
       "array([2, 2, 1, 4, 2, 4, 1, 3, 3, 1])"
      ]
     },
     "execution_count": 29,
     "metadata": {},
     "output_type": "execute_result"
    }
   ],
   "source": [
    "np.random.randint(1,5,10)"
   ]
  },
  {
   "cell_type": "code",
   "execution_count": 31,
   "id": "d4938483-cb2e-4cda-8062-7fcb3e84c7aa",
   "metadata": {},
   "outputs": [
    {
     "data": {
      "text/plain": [
       "array([0.41947967, 0.29348684, 0.02068606, 0.38518353])"
      ]
     },
     "execution_count": 31,
     "metadata": {},
     "output_type": "execute_result"
    }
   ],
   "source": [
    "np.random.random(4)"
   ]
  },
  {
   "cell_type": "code",
   "execution_count": 32,
   "id": "68a15e33-07c0-4d68-ba0a-4eb8de84c3cf",
   "metadata": {},
   "outputs": [
    {
     "data": {
      "text/plain": [
       "array([[0.73404134, 0.10046376],\n",
       "       [0.31060022, 0.96002995],\n",
       "       [0.14059244, 0.83898071]])"
      ]
     },
     "execution_count": 32,
     "metadata": {},
     "output_type": "execute_result"
    }
   ],
   "source": [
    "np.random.rand(3,2)"
   ]
  },
  {
   "cell_type": "code",
   "execution_count": 33,
   "id": "a560d2ad-1b13-48e7-89b2-1b3645ba67ff",
   "metadata": {},
   "outputs": [
    {
     "data": {
      "text/plain": [
       "array([[0.58475531, 0.19572338]])"
      ]
     },
     "execution_count": 33,
     "metadata": {},
     "output_type": "execute_result"
    }
   ],
   "source": [
    "np.random.rand(1,2)"
   ]
  },
  {
   "cell_type": "code",
   "execution_count": 35,
   "id": "6a5b4e98-88de-49b1-aed8-7ea19d4b335a",
   "metadata": {},
   "outputs": [
    {
     "data": {
      "text/plain": [
       "array([[0.62056158, 0.93176926, 0.47495248],\n",
       "       [0.84021446, 0.20994136, 0.70531862],\n",
       "       [0.60042564, 0.26892457, 0.55051837]])"
      ]
     },
     "execution_count": 35,
     "metadata": {},
     "output_type": "execute_result"
    }
   ],
   "source": [
    "np.random.rand(3,3)"
   ]
  },
  {
   "cell_type": "code",
   "execution_count": null,
   "id": "e3de92df-25d4-405f-99c5-6bdb721d16d5",
   "metadata": {},
   "outputs": [],
   "source": []
  }
 ],
 "metadata": {
  "kernelspec": {
   "display_name": "Python 3 (ipykernel)",
   "language": "python",
   "name": "python3"
  },
  "language_info": {
   "codemirror_mode": {
    "name": "ipython",
    "version": 3
   },
   "file_extension": ".py",
   "mimetype": "text/x-python",
   "name": "python",
   "nbconvert_exporter": "python",
   "pygments_lexer": "ipython3",
   "version": "3.12.4"
  }
 },
 "nbformat": 4,
 "nbformat_minor": 5
}
