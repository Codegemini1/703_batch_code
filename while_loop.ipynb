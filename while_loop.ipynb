{
 "cells": [
  {
   "cell_type": "markdown",
   "id": "0be710d8-7413-4505-a60c-37b8ca47a55e",
   "metadata": {},
   "source": [
    "# While Loop"
   ]
  },
  {
   "cell_type": "code",
   "execution_count": 1,
   "id": "8336bf90-ae38-4366-b646-1bf2ea7a2dd6",
   "metadata": {},
   "outputs": [],
   "source": [
    "age = 15"
   ]
  },
  {
   "cell_type": "code",
   "execution_count": 2,
   "id": "9f088e35-76d0-4e5a-8d62-4793e5e1fb62",
   "metadata": {},
   "outputs": [
    {
     "name": "stdout",
     "output_type": "stream",
     "text": [
      "Student 15\n",
      "Student 16\n",
      "Student 17\n"
     ]
    }
   ],
   "source": [
    "while age < 18:\n",
    "    print('Student', age)\n",
    "    age = age + 1"
   ]
  },
  {
   "cell_type": "code",
   "execution_count": 3,
   "id": "417cbd1e-e2c3-4326-820c-4403aa2d2847",
   "metadata": {},
   "outputs": [],
   "source": [
    "marks = 40"
   ]
  },
  {
   "cell_type": "code",
   "execution_count": 4,
   "id": "c2a17a1f-5eb2-4683-84bb-ab50be7c38ac",
   "metadata": {},
   "outputs": [
    {
     "name": "stdout",
     "output_type": "stream",
     "text": [
      "40\n",
      "39\n",
      "38\n",
      "37\n",
      "36\n"
     ]
    }
   ],
   "source": [
    "while marks > 35:\n",
    "    print(marks)\n",
    "    marks = marks - 1"
   ]
  },
  {
   "cell_type": "code",
   "execution_count": 5,
   "id": "8133df0c-b981-4de9-91c9-754379ad65cd",
   "metadata": {},
   "outputs": [
    {
     "data": {
      "text/plain": [
       "True"
      ]
     },
     "execution_count": 5,
     "metadata": {},
     "output_type": "execute_result"
    }
   ],
   "source": [
    "'Hello' == 'Hello'"
   ]
  },
  {
   "cell_type": "code",
   "execution_count": 6,
   "id": "e11f3975-10dd-48a3-9154-163d4aca601e",
   "metadata": {},
   "outputs": [
    {
     "data": {
      "text/plain": [
       "False"
      ]
     },
     "execution_count": 6,
     "metadata": {},
     "output_type": "execute_result"
    }
   ],
   "source": [
    "'Hello' != 'Hello'"
   ]
  },
  {
   "cell_type": "code",
   "execution_count": 10,
   "id": "e737c459-6eb3-42a4-a587-bc354ecaaa71",
   "metadata": {},
   "outputs": [
    {
     "name": "stdout",
     "output_type": "stream",
     "text": [
      "Hello\n"
     ]
    },
    {
     "name": "stdin",
     "output_type": "stream",
     "text": [
      "Enter \"stop\" to exit loop ok\n"
     ]
    },
    {
     "name": "stdout",
     "output_type": "stream",
     "text": [
      "ok\n"
     ]
    },
    {
     "name": "stdin",
     "output_type": "stream",
     "text": [
      "Enter \"stop\" to exit loop no\n"
     ]
    },
    {
     "name": "stdout",
     "output_type": "stream",
     "text": [
      "no\n"
     ]
    },
    {
     "name": "stdin",
     "output_type": "stream",
     "text": [
      "Enter \"stop\" to exit loop jkdbksjc\n"
     ]
    },
    {
     "name": "stdout",
     "output_type": "stream",
     "text": [
      "jkdbksjc\n"
     ]
    },
    {
     "name": "stdin",
     "output_type": "stream",
     "text": [
      "Enter \"stop\" to exit loop stop\n"
     ]
    }
   ],
   "source": [
    "button = 'Hello'\n",
    "while button != 'stop':\n",
    "    print(button)\n",
    "    button = input('Enter \"stop\" to exit loop')"
   ]
  },
  {
   "cell_type": "code",
   "execution_count": 7,
   "id": "8feeceba-ec82-42a1-bbd4-98b6eef00607",
   "metadata": {},
   "outputs": [
    {
     "data": {
      "text/plain": [
       "True"
      ]
     },
     "execution_count": 7,
     "metadata": {},
     "output_type": "execute_result"
    }
   ],
   "source": [
    "'Hello' != 'stop'"
   ]
  },
  {
   "cell_type": "code",
   "execution_count": 8,
   "id": "72373b85-5829-4b92-9e30-8b0110a96cfd",
   "metadata": {},
   "outputs": [
    {
     "data": {
      "text/plain": [
       "True"
      ]
     },
     "execution_count": 8,
     "metadata": {},
     "output_type": "execute_result"
    }
   ],
   "source": [
    "'sjkbsj' != 'stop'"
   ]
  },
  {
   "cell_type": "code",
   "execution_count": 9,
   "id": "5e0a97c6-e3a1-4489-a6dd-3e9c97e6e6a2",
   "metadata": {},
   "outputs": [
    {
     "data": {
      "text/plain": [
       "False"
      ]
     },
     "execution_count": 9,
     "metadata": {},
     "output_type": "execute_result"
    }
   ],
   "source": [
    "'stop' != 'stop'"
   ]
  },
  {
   "cell_type": "code",
   "execution_count": 11,
   "id": "6233cfc2-03ce-41ae-b5b2-2d10a3001a1f",
   "metadata": {},
   "outputs": [],
   "source": [
    "num = 10"
   ]
  },
  {
   "cell_type": "code",
   "execution_count": 13,
   "id": "70ba4f25-59b1-40bf-94db-426b3c464aee",
   "metadata": {},
   "outputs": [
    {
     "name": "stdout",
     "output_type": "stream",
     "text": [
      "10\n",
      "9\n",
      "8\n",
      "7\n",
      "6\n",
      "5\n",
      "4\n",
      "3\n",
      "2\n",
      "1\n"
     ]
    }
   ],
   "source": [
    "while num > 0:\n",
    "    print(num)\n",
    "    num = num - 1"
   ]
  },
  {
   "cell_type": "code",
   "execution_count": 12,
   "id": "76c33572-b004-4738-95d2-882dbcd54cff",
   "metadata": {},
   "outputs": [
    {
     "data": {
      "text/plain": [
       "True"
      ]
     },
     "execution_count": 12,
     "metadata": {},
     "output_type": "execute_result"
    }
   ],
   "source": [
    "0 == 0"
   ]
  },
  {
   "cell_type": "code",
   "execution_count": 14,
   "id": "b4ed73e6-4a6b-4a8f-b156-eb82aaad48ca",
   "metadata": {},
   "outputs": [],
   "source": [
    "# Sum of 10 number"
   ]
  },
  {
   "cell_type": "code",
   "execution_count": 17,
   "id": "11b10636-f250-4f2b-a712-05ebbc5a30c0",
   "metadata": {},
   "outputs": [],
   "source": [
    "num = 15\n",
    "sum = 0\n",
    "while num > 0:\n",
    "    sum = sum + num\n",
    "    num = num - 1"
   ]
  },
  {
   "cell_type": "code",
   "execution_count": 18,
   "id": "b3e7459d-6fce-4066-a9f4-ae6517a01d0e",
   "metadata": {},
   "outputs": [
    {
     "data": {
      "text/plain": [
       "120"
      ]
     },
     "execution_count": 18,
     "metadata": {},
     "output_type": "execute_result"
    }
   ],
   "source": [
    "sum"
   ]
  },
  {
   "cell_type": "code",
   "execution_count": 19,
   "id": "5bddf95c-6d28-4577-be56-8c9a0e17cfa7",
   "metadata": {},
   "outputs": [],
   "source": [
    "sum = 0\n",
    "for i in range(1,11):\n",
    "    sum = sum + i    #sum += i"
   ]
  },
  {
   "cell_type": "code",
   "execution_count": 20,
   "id": "3d3bc9f4-e2e9-44b5-9ca5-05d33c1f10b5",
   "metadata": {},
   "outputs": [
    {
     "data": {
      "text/plain": [
       "55"
      ]
     },
     "execution_count": 20,
     "metadata": {},
     "output_type": "execute_result"
    }
   ],
   "source": [
    "sum"
   ]
  },
  {
   "cell_type": "code",
   "execution_count": 21,
   "id": "fe9d35b7-3aec-4a33-925c-24c5865d4262",
   "metadata": {},
   "outputs": [],
   "source": [
    "# Sum of n natural numbers"
   ]
  },
  {
   "cell_type": "code",
   "execution_count": 27,
   "id": "b0c48b21-9e87-490d-9ad6-cd9724ab21d8",
   "metadata": {},
   "outputs": [],
   "source": [
    "n = 15"
   ]
  },
  {
   "cell_type": "code",
   "execution_count": 28,
   "id": "b88c8dea-845f-41c9-8961-70a32597c170",
   "metadata": {},
   "outputs": [
    {
     "data": {
      "text/plain": [
       "120.0"
      ]
     },
     "execution_count": 28,
     "metadata": {},
     "output_type": "execute_result"
    }
   ],
   "source": [
    "n * (n+1) /2"
   ]
  },
  {
   "cell_type": "code",
   "execution_count": 29,
   "id": "61e4e8a3-7a27-4cda-9f60-c5dd20a0694d",
   "metadata": {},
   "outputs": [],
   "source": [
    "# Break, Continue, pass"
   ]
  },
  {
   "cell_type": "markdown",
   "id": "5f2f77a4-9a1b-4f2a-a9cc-2581df146314",
   "metadata": {},
   "source": [
    "# Break"
   ]
  },
  {
   "cell_type": "code",
   "execution_count": 30,
   "id": "e8767481-82f3-4e58-a284-59d06002fe67",
   "metadata": {},
   "outputs": [
    {
     "name": "stdout",
     "output_type": "stream",
     "text": [
      "1\n",
      "2\n"
     ]
    }
   ],
   "source": [
    "for i in range(1,5):\n",
    "    if i == 3:\n",
    "        break\n",
    "    print(i)"
   ]
  },
  {
   "cell_type": "code",
   "execution_count": 31,
   "id": "8fe1555c-68ba-4c42-854c-d10f17d6942d",
   "metadata": {},
   "outputs": [
    {
     "name": "stdout",
     "output_type": "stream",
     "text": [
      "D\n",
      "a\n",
      "t\n",
      "a\n",
      " \n",
      "S\n"
     ]
    }
   ],
   "source": [
    "for i in 'Data Science':\n",
    "    if i == 'c':\n",
    "        break\n",
    "    print(i)"
   ]
  },
  {
   "cell_type": "markdown",
   "id": "3c620e34-f165-47c5-b15c-347f4c22179e",
   "metadata": {},
   "source": [
    "# Continue"
   ]
  },
  {
   "cell_type": "code",
   "execution_count": 32,
   "id": "3d8488d6-9ab7-4a29-9398-2236b97ffce8",
   "metadata": {},
   "outputs": [
    {
     "name": "stdout",
     "output_type": "stream",
     "text": [
      "1\n",
      "2\n",
      "4\n"
     ]
    }
   ],
   "source": [
    "for i in range(1,5):\n",
    "    if i == 3:\n",
    "        continue\n",
    "    print(i)"
   ]
  },
  {
   "cell_type": "code",
   "execution_count": 33,
   "id": "adec0cb7-9e8f-4666-a71d-1ec0d74610fb",
   "metadata": {},
   "outputs": [
    {
     "name": "stdout",
     "output_type": "stream",
     "text": [
      "d\n",
      "t\n",
      " \n",
      "s\n",
      "c\n",
      "i\n",
      "e\n",
      "n\n",
      "c\n",
      "e\n"
     ]
    }
   ],
   "source": [
    "for i in 'data science':\n",
    "    if i == 'a':\n",
    "        continue\n",
    "    print(i)"
   ]
  },
  {
   "cell_type": "code",
   "execution_count": 34,
   "id": "fc726127-9217-4935-b0a7-844247d33d5c",
   "metadata": {},
   "outputs": [],
   "source": [
    "# Pass --> Timepass--> Meaningless --> fill the block of code"
   ]
  },
  {
   "cell_type": "code",
   "execution_count": 35,
   "id": "5db99deb-015a-40c4-99f9-143ae0d4f8ec",
   "metadata": {},
   "outputs": [
    {
     "ename": "SyntaxError",
     "evalue": "incomplete input (4017642945.py, line 2)",
     "output_type": "error",
     "traceback": [
      "\u001b[1;36m  Cell \u001b[1;32mIn[35], line 2\u001b[1;36m\u001b[0m\n\u001b[1;33m    \u001b[0m\n\u001b[1;37m    ^\u001b[0m\n\u001b[1;31mSyntaxError\u001b[0m\u001b[1;31m:\u001b[0m incomplete input\n"
     ]
    }
   ],
   "source": [
    "for i in range(1,5):\n",
    "    "
   ]
  },
  {
   "cell_type": "code",
   "execution_count": 36,
   "id": "4542b68e-a8dd-4969-ba0a-982f0f0b3ff9",
   "metadata": {},
   "outputs": [],
   "source": [
    "for i in range(1,5):\n",
    "    pass"
   ]
  },
  {
   "cell_type": "code",
   "execution_count": 37,
   "id": "a9f7412a-de91-457c-8662-a9cb39401267",
   "metadata": {},
   "outputs": [],
   "source": [
    "for i in range(1,5):\n",
    "    if i == 3:\n",
    "        pass"
   ]
  },
  {
   "cell_type": "code",
   "execution_count": 38,
   "id": "5da065d2-3749-4abc-a16e-5a4e4ad5df42",
   "metadata": {},
   "outputs": [
    {
     "ename": "SyntaxError",
     "evalue": "incomplete input (3802962731.py, line 3)",
     "output_type": "error",
     "traceback": [
      "\u001b[1;36m  Cell \u001b[1;32mIn[38], line 3\u001b[1;36m\u001b[0m\n\u001b[1;33m    \u001b[0m\n\u001b[1;37m    ^\u001b[0m\n\u001b[1;31mSyntaxError\u001b[0m\u001b[1;31m:\u001b[0m incomplete input\n"
     ]
    }
   ],
   "source": [
    "for i in range(1,5):\n",
    "    if i == 3:\n",
    "        "
   ]
  },
  {
   "cell_type": "code",
   "execution_count": null,
   "id": "ef66c4db-cf3e-479c-b220-e2be6b537e16",
   "metadata": {},
   "outputs": [],
   "source": []
  }
 ],
 "metadata": {
  "kernelspec": {
   "display_name": "Python 3 (ipykernel)",
   "language": "python",
   "name": "python3"
  },
  "language_info": {
   "codemirror_mode": {
    "name": "ipython",
    "version": 3
   },
   "file_extension": ".py",
   "mimetype": "text/x-python",
   "name": "python",
   "nbconvert_exporter": "python",
   "pygments_lexer": "ipython3",
   "version": "3.12.4"
  }
 },
 "nbformat": 4,
 "nbformat_minor": 5
}
