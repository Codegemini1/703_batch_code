{
 "cells": [
  {
   "cell_type": "code",
   "execution_count": 1,
   "id": "aa75d44b-59aa-4028-9750-f75165434863",
   "metadata": {},
   "outputs": [],
   "source": [
    "class test():\n",
    "    def __init__(self,a,b,c):\n",
    "        self.a =a\n",
    "        self.b = b\n",
    "        self.c = c"
   ]
  },
  {
   "cell_type": "code",
   "execution_count": 2,
   "id": "a5be064e-b352-4d63-b4df-0b68916ed3c5",
   "metadata": {},
   "outputs": [],
   "source": [
    "obj = test(10,20,\"hello\")"
   ]
  },
  {
   "cell_type": "code",
   "execution_count": 3,
   "id": "47447c3e-f46d-4c05-a273-93052313d7c3",
   "metadata": {},
   "outputs": [
    {
     "data": {
      "text/plain": [
       "10"
      ]
     },
     "execution_count": 3,
     "metadata": {},
     "output_type": "execute_result"
    }
   ],
   "source": [
    "obj.a"
   ]
  },
  {
   "cell_type": "code",
   "execution_count": 4,
   "id": "1ba4d81f-d9b9-4dd0-9888-35b881f52637",
   "metadata": {},
   "outputs": [
    {
     "data": {
      "text/plain": [
       "20"
      ]
     },
     "execution_count": 4,
     "metadata": {},
     "output_type": "execute_result"
    }
   ],
   "source": [
    "obj.b"
   ]
  },
  {
   "cell_type": "code",
   "execution_count": 5,
   "id": "656fc65e-038a-489c-877f-09172b6335c1",
   "metadata": {},
   "outputs": [
    {
     "data": {
      "text/plain": [
       "'hello'"
      ]
     },
     "execution_count": 5,
     "metadata": {},
     "output_type": "execute_result"
    }
   ],
   "source": [
    "obj.c"
   ]
  },
  {
   "cell_type": "code",
   "execution_count": 6,
   "id": "c4f1b7a3-dfa8-44f2-b58f-9d4df8375c16",
   "metadata": {},
   "outputs": [],
   "source": [
    "class parent():\n",
    "    def singing(self):\n",
    "        return 'I am parent class and having skills of singing songs'"
   ]
  },
  {
   "cell_type": "code",
   "execution_count": 10,
   "id": "ca9913c6-0c1e-4ffb-b22c-fd9ff1aa1c36",
   "metadata": {},
   "outputs": [],
   "source": [
    "class child(parent):\n",
    "    def cricket(self):\n",
    "        return 'I am child class and having skills of Plying cricket'"
   ]
  },
  {
   "cell_type": "code",
   "execution_count": 11,
   "id": "4d144fb5-2b57-48da-a766-04059c7fc06c",
   "metadata": {},
   "outputs": [],
   "source": [
    "p1 = parent()"
   ]
  },
  {
   "cell_type": "code",
   "execution_count": 12,
   "id": "ddf0697a-dd4e-4aad-8ad1-60601a284cd5",
   "metadata": {},
   "outputs": [
    {
     "data": {
      "text/plain": [
       "'I am parent class and having skills of singing songs'"
      ]
     },
     "execution_count": 12,
     "metadata": {},
     "output_type": "execute_result"
    }
   ],
   "source": [
    "p1.singing()"
   ]
  },
  {
   "cell_type": "code",
   "execution_count": 13,
   "id": "ee612a84-e001-4fcb-a362-91d5c3163b3c",
   "metadata": {},
   "outputs": [],
   "source": [
    "c1 = child()"
   ]
  },
  {
   "cell_type": "code",
   "execution_count": 14,
   "id": "b02867dc-dc86-4383-a2cf-02e06fa1cec5",
   "metadata": {},
   "outputs": [
    {
     "data": {
      "text/plain": [
       "'I am parent class and having skills of singing songs'"
      ]
     },
     "execution_count": 14,
     "metadata": {},
     "output_type": "execute_result"
    }
   ],
   "source": [
    "c1.singing()"
   ]
  },
  {
   "cell_type": "code",
   "execution_count": 15,
   "id": "c5ce7a7a-e4f6-412a-ac66-c8d578b09853",
   "metadata": {},
   "outputs": [
    {
     "data": {
      "text/plain": [
       "'I am child class and having skills of Plying cricket'"
      ]
     },
     "execution_count": 15,
     "metadata": {},
     "output_type": "execute_result"
    }
   ],
   "source": [
    "c1.cricket()"
   ]
  },
  {
   "cell_type": "code",
   "execution_count": null,
   "id": "6cfed448-b7e8-4f83-ac26-cb5b1d43f302",
   "metadata": {},
   "outputs": [],
   "source": []
  },
  {
   "cell_type": "code",
   "execution_count": 7,
   "id": "b82df5eb-da33-4f5c-83f6-2e82f840c1e8",
   "metadata": {},
   "outputs": [],
   "source": [
    "def test():\n",
    "    return 'Hello'"
   ]
  },
  {
   "cell_type": "code",
   "execution_count": 9,
   "id": "6b0b1a1c-3f8d-4f0e-8cd0-4e6fca6e286c",
   "metadata": {},
   "outputs": [
    {
     "data": {
      "text/plain": [
       "'Hello'"
      ]
     },
     "execution_count": 9,
     "metadata": {},
     "output_type": "execute_result"
    }
   ],
   "source": [
    "test()"
   ]
  },
  {
   "cell_type": "code",
   "execution_count": 16,
   "id": "e65182e6-6a2a-4a9c-ac86-8a264bc3afdb",
   "metadata": {},
   "outputs": [],
   "source": [
    "class test1():\n",
    "    def drawing(self):\n",
    "        return 'I am test1 class and having drawing skills'\n",
    "    def dancing(self):\n",
    "        return 'I am test1 class and having skills of dancing'"
   ]
  },
  {
   "cell_type": "code",
   "execution_count": 17,
   "id": "bfd66215-3730-457a-bfe2-57c73e3df7dd",
   "metadata": {},
   "outputs": [],
   "source": [
    "class test2(test1):\n",
    "    def football(self):\n",
    "        return 'I am test2 having skills of football'"
   ]
  },
  {
   "cell_type": "code",
   "execution_count": 19,
   "id": "e1c1a64b-f452-49d0-b004-bbdbe32bf628",
   "metadata": {},
   "outputs": [],
   "source": [
    "obj1 = test1()"
   ]
  },
  {
   "cell_type": "code",
   "execution_count": 20,
   "id": "4c171326-7d02-4f27-9587-66937f41dc7c",
   "metadata": {},
   "outputs": [
    {
     "data": {
      "text/plain": [
       "'I am test1 class and having skills of dancing'"
      ]
     },
     "execution_count": 20,
     "metadata": {},
     "output_type": "execute_result"
    }
   ],
   "source": [
    "obj1.dancing()"
   ]
  },
  {
   "cell_type": "code",
   "execution_count": 21,
   "id": "a535ae2b-5c32-4b8b-b041-c7d3bbed0643",
   "metadata": {},
   "outputs": [
    {
     "data": {
      "text/plain": [
       "'I am test1 class and having drawing skills'"
      ]
     },
     "execution_count": 21,
     "metadata": {},
     "output_type": "execute_result"
    }
   ],
   "source": [
    "obj1.drawing()"
   ]
  },
  {
   "cell_type": "code",
   "execution_count": 22,
   "id": "eba5fe44-6c0f-4f99-ad87-5a4566c9c98e",
   "metadata": {},
   "outputs": [],
   "source": [
    "obj2 = test2()"
   ]
  },
  {
   "cell_type": "code",
   "execution_count": 23,
   "id": "8b26e42f-160e-4373-b5ed-24c7b3d4cb5c",
   "metadata": {},
   "outputs": [
    {
     "data": {
      "text/plain": [
       "'I am test1 class and having skills of dancing'"
      ]
     },
     "execution_count": 23,
     "metadata": {},
     "output_type": "execute_result"
    }
   ],
   "source": [
    "obj2.dancing()"
   ]
  },
  {
   "cell_type": "code",
   "execution_count": 24,
   "id": "ee48c081-521b-4cbb-b927-f15504c420ad",
   "metadata": {},
   "outputs": [
    {
     "data": {
      "text/plain": [
       "'I am test1 class and having drawing skills'"
      ]
     },
     "execution_count": 24,
     "metadata": {},
     "output_type": "execute_result"
    }
   ],
   "source": [
    "obj2.drawing()"
   ]
  },
  {
   "cell_type": "code",
   "execution_count": 25,
   "id": "8ba3ca6f-5e12-4d84-a914-0151aa400396",
   "metadata": {},
   "outputs": [
    {
     "data": {
      "text/plain": [
       "'I am test2 having skills of football'"
      ]
     },
     "execution_count": 25,
     "metadata": {},
     "output_type": "execute_result"
    }
   ],
   "source": [
    "obj2.football()"
   ]
  },
  {
   "cell_type": "code",
   "execution_count": 26,
   "id": "3613213d-d41f-42ab-baee-09ac3f85c385",
   "metadata": {},
   "outputs": [],
   "source": [
    "class test3(test2):\n",
    "    def acting(self):\n",
    "        return 'I am test3 class and able to do acting'"
   ]
  },
  {
   "cell_type": "code",
   "execution_count": 27,
   "id": "3b2ffa44-7cc4-46b4-9e69-23de51b4628a",
   "metadata": {},
   "outputs": [],
   "source": [
    "obj3 = test3()"
   ]
  },
  {
   "cell_type": "code",
   "execution_count": 31,
   "id": "e54f3010-9405-4910-b850-7a58034f66ed",
   "metadata": {},
   "outputs": [
    {
     "data": {
      "text/plain": [
       "'I am test3 class and able to do acting'"
      ]
     },
     "execution_count": 31,
     "metadata": {},
     "output_type": "execute_result"
    }
   ],
   "source": [
    "test3.acting(' ')"
   ]
  },
  {
   "cell_type": "markdown",
   "id": "d05535ff-5a43-4c3a-8006-62444863a10f",
   "metadata": {},
   "source": [
    "# Incalpsulation"
   ]
  },
  {
   "cell_type": "code",
   "execution_count": 32,
   "id": "af393eb9-f61f-428c-b163-26d5b40e934c",
   "metadata": {},
   "outputs": [],
   "source": [
    "class student():\n",
    "    def __init__(self,First_name,Middle_name,City):\n",
    "        self.First_name = First_name        #Public\n",
    "        self._Middle_name = Middle_name      #Protected\n",
    "        self.__City = City                   #Private"
   ]
  },
  {
   "cell_type": "code",
   "execution_count": 33,
   "id": "aa99b454-2ec7-4692-b4c5-a65451671b35",
   "metadata": {},
   "outputs": [],
   "source": [
    "std1 = student('X','Y','Pune')"
   ]
  },
  {
   "cell_type": "code",
   "execution_count": 34,
   "id": "fc338f64-09d9-4b29-82e4-8e0bb7d54e26",
   "metadata": {},
   "outputs": [
    {
     "data": {
      "text/plain": [
       "'X'"
      ]
     },
     "execution_count": 34,
     "metadata": {},
     "output_type": "execute_result"
    }
   ],
   "source": [
    "std1.First_name"
   ]
  },
  {
   "cell_type": "code",
   "execution_count": 35,
   "id": "de96a167-16a4-4684-8d7f-428c2ec77e6d",
   "metadata": {},
   "outputs": [
    {
     "data": {
      "text/plain": [
       "'Y'"
      ]
     },
     "execution_count": 35,
     "metadata": {},
     "output_type": "execute_result"
    }
   ],
   "source": [
    "std1._Middle_name       #Protected ---> obj._Middle_name"
   ]
  },
  {
   "cell_type": "code",
   "execution_count": 37,
   "id": "14810449-a121-46ec-82c7-8143efe03087",
   "metadata": {},
   "outputs": [
    {
     "data": {
      "text/plain": [
       "'Pune'"
      ]
     },
     "execution_count": 37,
     "metadata": {},
     "output_type": "execute_result"
    }
   ],
   "source": [
    "std1._student__City   #Private -->obj._classname__City"
   ]
  },
  {
   "cell_type": "code",
   "execution_count": 39,
   "id": "7984c8e7-71e6-464a-825b-685635b26b5e",
   "metadata": {},
   "outputs": [],
   "source": [
    "class student2(student):\n",
    "    pass"
   ]
  },
  {
   "cell_type": "code",
   "execution_count": 41,
   "id": "9cf4bc67-a9e3-4395-9788-ae25a0659a7a",
   "metadata": {},
   "outputs": [],
   "source": [
    "obj = student2('A','B','Solapur')"
   ]
  },
  {
   "cell_type": "code",
   "execution_count": 43,
   "id": "91aa7d07-10cd-4081-b687-447b0bb0e9cd",
   "metadata": {},
   "outputs": [
    {
     "data": {
      "text/plain": [
       "'A'"
      ]
     },
     "execution_count": 43,
     "metadata": {},
     "output_type": "execute_result"
    }
   ],
   "source": [
    "obj.First_name"
   ]
  },
  {
   "cell_type": "code",
   "execution_count": 44,
   "id": "deb3bf4f-4a16-4cd4-aacb-74bb512a55f1",
   "metadata": {},
   "outputs": [
    {
     "data": {
      "text/plain": [
       "'B'"
      ]
     },
     "execution_count": 44,
     "metadata": {},
     "output_type": "execute_result"
    }
   ],
   "source": [
    "obj._Middle_name"
   ]
  },
  {
   "cell_type": "code",
   "execution_count": 45,
   "id": "a49b529f-60a3-4f6d-be62-62e751acbdd4",
   "metadata": {},
   "outputs": [
    {
     "data": {
      "text/plain": [
       "'Solapur'"
      ]
     },
     "execution_count": 45,
     "metadata": {},
     "output_type": "execute_result"
    }
   ],
   "source": [
    "obj._student__City"
   ]
  },
  {
   "cell_type": "code",
   "execution_count": 46,
   "id": "d4649023-2c57-410c-98c9-84b07bf3b42f",
   "metadata": {},
   "outputs": [],
   "source": [
    "# 2 eg on Inheritance + 2 eg on Incapsulation"
   ]
  },
  {
   "cell_type": "code",
   "execution_count": null,
   "id": "9e9393b5-42f9-4c8e-bc01-382366b1e4ec",
   "metadata": {},
   "outputs": [],
   "source": []
  }
 ],
 "metadata": {
  "kernelspec": {
   "display_name": "Python 3 (ipykernel)",
   "language": "python",
   "name": "python3"
  },
  "language_info": {
   "codemirror_mode": {
    "name": "ipython",
    "version": 3
   },
   "file_extension": ".py",
   "mimetype": "text/x-python",
   "name": "python",
   "nbconvert_exporter": "python",
   "pygments_lexer": "ipython3",
   "version": "3.12.4"
  }
 },
 "nbformat": 4,
 "nbformat_minor": 5
}
