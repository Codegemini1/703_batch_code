{
 "cells": [
  {
   "cell_type": "markdown",
   "id": "7a1456f7-8767-4578-b3f1-3f4b8c570fad",
   "metadata": {},
   "source": [
    "# Polymorphism"
   ]
  },
  {
   "cell_type": "code",
   "execution_count": 1,
   "id": "e28beb0f-17bc-4af9-9de3-5d0f088ad6e4",
   "metadata": {},
   "outputs": [],
   "source": [
    "class social_media():\n",
    "    def share_story(self):\n",
    "        return 'Sharing story on social media'"
   ]
  },
  {
   "cell_type": "code",
   "execution_count": 2,
   "id": "02a88c9f-44c6-4f06-b2fc-ecfd2290687c",
   "metadata": {},
   "outputs": [],
   "source": [
    "class instagram():\n",
    "    def share_story(self):\n",
    "        return 'Sharing story on Instagram'"
   ]
  },
  {
   "cell_type": "code",
   "execution_count": 4,
   "id": "78fbbedb-60f6-43ca-aa65-5f5f5c22a744",
   "metadata": {},
   "outputs": [],
   "source": [
    "class facebook():\n",
    "    def share_story(self):\n",
    "        return 'Sharing story on facebook'"
   ]
  },
  {
   "cell_type": "code",
   "execution_count": 5,
   "id": "9194003e-6dbf-46c0-a7fd-e0d9da005008",
   "metadata": {},
   "outputs": [],
   "source": [
    "obj = facebook()"
   ]
  },
  {
   "cell_type": "code",
   "execution_count": 6,
   "id": "9e35c182-0080-4abe-b4b0-b11803f16fd5",
   "metadata": {},
   "outputs": [
    {
     "data": {
      "text/plain": [
       "'Sharing story on facebook'"
      ]
     },
     "execution_count": 6,
     "metadata": {},
     "output_type": "execute_result"
    }
   ],
   "source": [
    "obj.share_story()"
   ]
  },
  {
   "cell_type": "code",
   "execution_count": 7,
   "id": "c699fdc3-3d15-4f8b-9ad8-8335fb91a5de",
   "metadata": {},
   "outputs": [],
   "source": [
    "class animal():\n",
    "    def make_sound(self):\n",
    "        return 'Animal is making sound'"
   ]
  },
  {
   "cell_type": "code",
   "execution_count": 8,
   "id": "7d4adff0-46e8-484f-8c76-b7b75c493e7b",
   "metadata": {},
   "outputs": [],
   "source": [
    "class Dog(animal):\n",
    "    def make_sound(self):\n",
    "        return 'Dog is making sound Bhau - bhau'"
   ]
  },
  {
   "cell_type": "code",
   "execution_count": 9,
   "id": "6f909e34-29e1-4127-b822-fdc28c71576c",
   "metadata": {},
   "outputs": [],
   "source": [
    "class Cat(animal):\n",
    "    def make_sound(self):\n",
    "        return 'Cat is making sound Mau-Mau'"
   ]
  },
  {
   "cell_type": "code",
   "execution_count": 10,
   "id": "d41ae05f-2301-4cf4-9a55-7f5dde7205bb",
   "metadata": {},
   "outputs": [],
   "source": [
    "c = Cat()"
   ]
  },
  {
   "cell_type": "code",
   "execution_count": 11,
   "id": "c8ba34eb-e57f-4122-aa12-4ea439dc5d97",
   "metadata": {},
   "outputs": [
    {
     "data": {
      "text/plain": [
       "'Cat is making sound Mau-Mau'"
      ]
     },
     "execution_count": 11,
     "metadata": {},
     "output_type": "execute_result"
    }
   ],
   "source": [
    "c.make_sound()"
   ]
  },
  {
   "cell_type": "markdown",
   "id": "2392a30d-b4dc-4301-8c73-1fcf78005437",
   "metadata": {},
   "source": [
    "# Abstraction"
   ]
  },
  {
   "cell_type": "code",
   "execution_count": 12,
   "id": "d650cd7d-03d3-4d42-b5b5-6e2d4e356106",
   "metadata": {},
   "outputs": [],
   "source": [
    "from abc import ABC, abstractmethod"
   ]
  },
  {
   "cell_type": "code",
   "execution_count": 13,
   "id": "e717cf8f-b140-495b-94a4-c04231ac6932",
   "metadata": {},
   "outputs": [],
   "source": [
    "class car(ABC):\n",
    "    @abstractmethod\n",
    "    def wheels(slef):\n",
    "        pass"
   ]
  },
  {
   "cell_type": "code",
   "execution_count": 14,
   "id": "ee69d6f6-835c-4cd9-b762-eba5dd4fc4ee",
   "metadata": {},
   "outputs": [],
   "source": [
    "class fortuner(car):\n",
    "    def wheels(self):\n",
    "        return 'Fortuner is having 4 wheels'"
   ]
  },
  {
   "cell_type": "code",
   "execution_count": 15,
   "id": "b7eced07-28db-4aef-8000-ab64a0a594f8",
   "metadata": {},
   "outputs": [],
   "source": [
    "obj1 = fortuner()"
   ]
  },
  {
   "cell_type": "code",
   "execution_count": 16,
   "id": "ea5693bc-5520-49b5-887f-636eb5f48129",
   "metadata": {},
   "outputs": [
    {
     "data": {
      "text/plain": [
       "'Fortuner is having 4 wheels'"
      ]
     },
     "execution_count": 16,
     "metadata": {},
     "output_type": "execute_result"
    }
   ],
   "source": [
    "obj1.wheels()"
   ]
  },
  {
   "cell_type": "code",
   "execution_count": 17,
   "id": "13dfef63-cff1-47d2-8a3b-9618c8f001a1",
   "metadata": {},
   "outputs": [],
   "source": [
    "class truck(car):\n",
    "    def engine(self):\n",
    "        return '1200 engine of truck'"
   ]
  },
  {
   "cell_type": "code",
   "execution_count": 18,
   "id": "edee96c3-b4ea-4779-8963-6577b3e615c3",
   "metadata": {},
   "outputs": [
    {
     "ename": "TypeError",
     "evalue": "Can't instantiate abstract class truck without an implementation for abstract method 'wheels'",
     "output_type": "error",
     "traceback": [
      "\u001b[1;31m---------------------------------------------------------------------------\u001b[0m",
      "\u001b[1;31mTypeError\u001b[0m                                 Traceback (most recent call last)",
      "Cell \u001b[1;32mIn[18], line 1\u001b[0m\n\u001b[1;32m----> 1\u001b[0m obje2 \u001b[38;5;241m=\u001b[39m truck()\n",
      "\u001b[1;31mTypeError\u001b[0m: Can't instantiate abstract class truck without an implementation for abstract method 'wheels'"
     ]
    }
   ],
   "source": [
    "obje2 = truck()"
   ]
  },
  {
   "cell_type": "code",
   "execution_count": 19,
   "id": "64ebb8cf-bcd4-4fbf-a50a-0e156cee6811",
   "metadata": {},
   "outputs": [],
   "source": [
    "class truck(car):\n",
    "    def wheels(self):\n",
    "        return 'truck is having 10 wheels'\n",
    "    def engine(self):\n",
    "        return '1200 engine of truck'"
   ]
  },
  {
   "cell_type": "code",
   "execution_count": 20,
   "id": "a8ecb1dc-d740-4fcf-aba8-850b25dafa4a",
   "metadata": {},
   "outputs": [],
   "source": [
    "obj = truck()"
   ]
  },
  {
   "cell_type": "code",
   "execution_count": 21,
   "id": "907af76c-2421-4c07-aff7-dfe169cb96eb",
   "metadata": {},
   "outputs": [
    {
     "data": {
      "text/plain": [
       "'truck is having 10 wheels'"
      ]
     },
     "execution_count": 21,
     "metadata": {},
     "output_type": "execute_result"
    }
   ],
   "source": [
    "obj.wheels()"
   ]
  },
  {
   "cell_type": "code",
   "execution_count": 22,
   "id": "5986422b-f098-43ba-a40a-8c5c079da76d",
   "metadata": {},
   "outputs": [],
   "source": [
    "class house(ABC):\n",
    "    @abstractmethod\n",
    "    def base(self):\n",
    "        pass"
   ]
  },
  {
   "cell_type": "code",
   "execution_count": 23,
   "id": "f3444aa3-cedf-4a81-8310-8573af18f254",
   "metadata": {},
   "outputs": [],
   "source": [
    "class apartment(house):\n",
    "    def base(self):\n",
    "        return 'We have base for apartment'\n",
    "    def floors(self):\n",
    "        return 'We have 6floors apt'"
   ]
  },
  {
   "cell_type": "code",
   "execution_count": 24,
   "id": "f0f4fd36-aa8e-4862-b3d9-8f5877d446c5",
   "metadata": {},
   "outputs": [],
   "source": [
    "a = apartment()"
   ]
  },
  {
   "cell_type": "code",
   "execution_count": 25,
   "id": "b4a76fdb-5cc2-4bed-9f75-6b01cc4daa79",
   "metadata": {},
   "outputs": [
    {
     "data": {
      "text/plain": [
       "'We have base for apartment'"
      ]
     },
     "execution_count": 25,
     "metadata": {},
     "output_type": "execute_result"
    }
   ],
   "source": [
    "a.base()"
   ]
  },
  {
   "cell_type": "code",
   "execution_count": 26,
   "id": "934814e6-e5ce-4ac5-94db-6ea7d046b432",
   "metadata": {},
   "outputs": [
    {
     "data": {
      "text/plain": [
       "'We have 6floors apt'"
      ]
     },
     "execution_count": 26,
     "metadata": {},
     "output_type": "execute_result"
    }
   ],
   "source": [
    "a.floors()"
   ]
  },
  {
   "cell_type": "code",
   "execution_count": 27,
   "id": "9edab6c0-5f87-4106-b8c2-88bdc1d54a72",
   "metadata": {},
   "outputs": [
    {
     "name": "stdout",
     "output_type": "stream",
     "text": [
      "Requirement already satisfied: numpy in c:\\users\\admin\\anaconda3\\lib\\site-packages (1.26.4)\n",
      "Note: you may need to restart the kernel to use updated packages.\n"
     ]
    }
   ],
   "source": [
    "pip install numpy"
   ]
  },
  {
   "cell_type": "code",
   "execution_count": 28,
   "id": "a4908c9e-994f-47d9-87cd-edb2dd811612",
   "metadata": {},
   "outputs": [],
   "source": [
    "import numpy as np"
   ]
  },
  {
   "cell_type": "code",
   "execution_count": 29,
   "id": "f4d1314a-998f-4b45-b142-72a146a4403b",
   "metadata": {},
   "outputs": [
    {
     "data": {
      "text/plain": [
       "3.5"
      ]
     },
     "execution_count": 29,
     "metadata": {},
     "output_type": "execute_result"
    }
   ],
   "source": [
    "np.mean([1,2,3,4,5,6])"
   ]
  },
  {
   "cell_type": "code",
   "execution_count": null,
   "id": "c0ca015b-8bc2-4add-8596-435f1715479e",
   "metadata": {},
   "outputs": [],
   "source": []
  }
 ],
 "metadata": {
  "kernelspec": {
   "display_name": "Python 3 (ipykernel)",
   "language": "python",
   "name": "python3"
  },
  "language_info": {
   "codemirror_mode": {
    "name": "ipython",
    "version": 3
   },
   "file_extension": ".py",
   "mimetype": "text/x-python",
   "name": "python",
   "nbconvert_exporter": "python",
   "pygments_lexer": "ipython3",
   "version": "3.12.4"
  }
 },
 "nbformat": 4,
 "nbformat_minor": 5
}
