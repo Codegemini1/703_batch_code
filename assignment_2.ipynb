{
 "cells": [
  {
   "cell_type": "markdown",
   "id": "621389cd-228a-4151-b07d-eb508e812c38",
   "metadata": {},
   "source": [
    "Assignment 1: Python Basics and Data Types"
   ]
  },
  {
   "cell_type": "code",
   "execution_count": null,
   "id": "7be40c40-9ecd-4bd7-b3dc-5de78f22ad29",
   "metadata": {},
   "outputs": [],
   "source": [
    "1. Variable Manipulation:\n",
    "o Define variables to store a student's name, age, GPA, and list of subjects.\n",
    "o Convert age from years to months and display the result.\n",
    "o Concatenate and print a sentence using all the defined variables."
   ]
  },
  {
   "cell_type": "code",
   "execution_count": 8,
   "id": "5c95a326-c384-4ec1-aee9-d0112c953b46",
   "metadata": {},
   "outputs": [],
   "source": [
    "names = ['X','Y','Z']"
   ]
  },
  {
   "cell_type": "code",
   "execution_count": 1,
   "id": "a40b128c-4701-4adc-9196-c62def4855e8",
   "metadata": {},
   "outputs": [],
   "source": [
    "age = 43"
   ]
  },
  {
   "cell_type": "code",
   "execution_count": 2,
   "id": "df8a3c71-00ff-47cf-9f49-087b1997ff90",
   "metadata": {},
   "outputs": [],
   "source": [
    "CGPA = 8.5"
   ]
  },
  {
   "cell_type": "code",
   "execution_count": 3,
   "id": "69883d67-ce8f-4ae8-ad14-deb0a05887f2",
   "metadata": {},
   "outputs": [],
   "source": [
    "subjects = ['Maths', 'Science', 'English']"
   ]
  },
  {
   "cell_type": "code",
   "execution_count": 5,
   "id": "59e4ffff-4de1-4946-aa56-5218a69fed73",
   "metadata": {},
   "outputs": [],
   "source": [
    "months = age * 12"
   ]
  },
  {
   "cell_type": "code",
   "execution_count": 6,
   "id": "a5329029-ec86-4e9e-bb87-74ed5dc89d05",
   "metadata": {},
   "outputs": [
    {
     "data": {
      "text/plain": [
       "516"
      ]
     },
     "execution_count": 6,
     "metadata": {},
     "output_type": "execute_result"
    }
   ],
   "source": [
    "months"
   ]
  },
  {
   "cell_type": "code",
   "execution_count": 9,
   "id": "3bfe662a-0516-4b37-b997-ec92003be591",
   "metadata": {},
   "outputs": [
    {
     "name": "stdout",
     "output_type": "stream",
     "text": [
      "['X', 'Y', 'Z'] 43 8.5 ['Maths', 'Science', 'English'] 516\n"
     ]
    }
   ],
   "source": [
    "print(names,age,CGPA,subjects,months)"
   ]
  },
  {
   "cell_type": "markdown",
   "id": "7dfda73b-8812-46c0-882f-1f3c72ea1ef8",
   "metadata": {},
   "source": [
    "Assignment 2: Data Structures - List, Tuple, Set, and Dictionary"
   ]
  },
  {
   "cell_type": "code",
   "execution_count": null,
   "id": "c59fbfc7-8889-48e9-bdfc-23a769635df1",
   "metadata": {},
   "outputs": [],
   "source": [
    "1. Working with Lists:\n",
    "o Create a list of integers and:\n",
    " Append a new number.\n",
    " Insert a number at a specific index.\n",
    " Remove duplicates and print the final list"
   ]
  },
  {
   "cell_type": "code",
   "execution_count": 10,
   "id": "19d713fc-0eaa-4f11-bd5d-8f619f5df13c",
   "metadata": {},
   "outputs": [],
   "source": [
    "l = [1,2,3,5,7]"
   ]
  },
  {
   "cell_type": "code",
   "execution_count": 11,
   "id": "efe6be1f-160b-4df5-9bf2-4dd3c04df58f",
   "metadata": {},
   "outputs": [
    {
     "data": {
      "text/plain": [
       "[1, 2, 3, 5, 7]"
      ]
     },
     "execution_count": 11,
     "metadata": {},
     "output_type": "execute_result"
    }
   ],
   "source": [
    "l"
   ]
  },
  {
   "cell_type": "code",
   "execution_count": 12,
   "id": "9db2ebac-0a73-41c3-b772-a753a0146479",
   "metadata": {},
   "outputs": [],
   "source": [
    "l.append(8)"
   ]
  },
  {
   "cell_type": "code",
   "execution_count": 13,
   "id": "02c4e1d4-b124-4b4e-89d5-2b23dcba764b",
   "metadata": {},
   "outputs": [
    {
     "data": {
      "text/plain": [
       "[1, 2, 3, 5, 7, 8]"
      ]
     },
     "execution_count": 13,
     "metadata": {},
     "output_type": "execute_result"
    }
   ],
   "source": [
    "l"
   ]
  },
  {
   "cell_type": "code",
   "execution_count": 14,
   "id": "c1e40701-c627-4122-8c9b-4650f647d226",
   "metadata": {},
   "outputs": [],
   "source": [
    "l.insert(2, 300)"
   ]
  },
  {
   "cell_type": "code",
   "execution_count": 15,
   "id": "ea3b1539-e594-400e-aae7-61a3863eb884",
   "metadata": {},
   "outputs": [
    {
     "data": {
      "text/plain": [
       "[1, 2, 300, 3, 5, 7, 8]"
      ]
     },
     "execution_count": 15,
     "metadata": {},
     "output_type": "execute_result"
    }
   ],
   "source": [
    "l"
   ]
  },
  {
   "cell_type": "code",
   "execution_count": 16,
   "id": "50bdc336-c8c2-47a8-8204-ffe9326cb5d2",
   "metadata": {},
   "outputs": [],
   "source": [
    "l.append(8)"
   ]
  },
  {
   "cell_type": "code",
   "execution_count": 17,
   "id": "04bbfeb9-9b3a-41c2-b258-a5d191347c76",
   "metadata": {},
   "outputs": [
    {
     "data": {
      "text/plain": [
       "[1, 2, 300, 3, 5, 7, 8, 8]"
      ]
     },
     "execution_count": 17,
     "metadata": {},
     "output_type": "execute_result"
    }
   ],
   "source": [
    "l"
   ]
  },
  {
   "cell_type": "code",
   "execution_count": 19,
   "id": "b4eb50f9-5515-4047-b8ff-2a79f14280af",
   "metadata": {},
   "outputs": [],
   "source": [
    "l2 = set(l)"
   ]
  },
  {
   "cell_type": "code",
   "execution_count": 20,
   "id": "89c88306-8d28-4ea4-86da-281661ae230a",
   "metadata": {},
   "outputs": [
    {
     "data": {
      "text/plain": [
       "{1, 2, 3, 5, 7, 8, 300}"
      ]
     },
     "execution_count": 20,
     "metadata": {},
     "output_type": "execute_result"
    }
   ],
   "source": [
    "l2"
   ]
  },
  {
   "cell_type": "code",
   "execution_count": 21,
   "id": "4bb6609b-8763-45eb-84cb-4e9aa3900acc",
   "metadata": {},
   "outputs": [
    {
     "data": {
      "text/plain": [
       "[1, 2, 3, 5, 7, 8, 300]"
      ]
     },
     "execution_count": 21,
     "metadata": {},
     "output_type": "execute_result"
    }
   ],
   "source": [
    "list(l2)"
   ]
  },
  {
   "cell_type": "code",
   "execution_count": null,
   "id": "bc21304a-2cd7-43d7-b67b-a59dbac59bc4",
   "metadata": {},
   "outputs": [],
   "source": [
    "2. Tuple Manipulation:\n",
    "o Define a tuple of 5 colors.\n",
    "o Try to add a new color to the tuple (observe and explain why it fails).\n",
    "o Convert the tuple to a list, add the color, and convert it back to a tuple."
   ]
  },
  {
   "cell_type": "code",
   "execution_count": 22,
   "id": "72c66db1-8a7a-4dea-b1b2-761bee0703cf",
   "metadata": {},
   "outputs": [],
   "source": [
    "colors = ('Red', 'White', 'Blue', 'Yeallow', 'Pink')"
   ]
  },
  {
   "cell_type": "code",
   "execution_count": 23,
   "id": "369377ee-89e4-4f38-a770-51344d9bdc70",
   "metadata": {},
   "outputs": [
    {
     "data": {
      "text/plain": [
       "('Red', 'White', 'Blue', 'Yeallow', 'Pink')"
      ]
     },
     "execution_count": 23,
     "metadata": {},
     "output_type": "execute_result"
    }
   ],
   "source": [
    "colors"
   ]
  },
  {
   "cell_type": "code",
   "execution_count": 24,
   "id": "b9505d5c-d3e9-43ea-868d-5361314dce55",
   "metadata": {},
   "outputs": [
    {
     "ename": "TypeError",
     "evalue": "'tuple' object does not support item assignment",
     "output_type": "error",
     "traceback": [
      "\u001b[1;31m---------------------------------------------------------------------------\u001b[0m",
      "\u001b[1;31mTypeError\u001b[0m                                 Traceback (most recent call last)",
      "Cell \u001b[1;32mIn[24], line 1\u001b[0m\n\u001b[1;32m----> 1\u001b[0m colors[\u001b[38;5;241m1\u001b[39m] \u001b[38;5;241m=\u001b[39m \u001b[38;5;124m\"\u001b[39m\u001b[38;5;124mdkjsdh\u001b[39m\u001b[38;5;124m\"\u001b[39m\n",
      "\u001b[1;31mTypeError\u001b[0m: 'tuple' object does not support item assignment"
     ]
    }
   ],
   "source": [
    "colors[1] = \"dkjsdh\""
   ]
  },
  {
   "cell_type": "code",
   "execution_count": 25,
   "id": "e0b32055-1822-4fe9-b586-94fbc90c1c91",
   "metadata": {},
   "outputs": [],
   "source": [
    "c = list(colors)"
   ]
  },
  {
   "cell_type": "code",
   "execution_count": 26,
   "id": "aa4811e2-9f73-44ff-9a1d-7b63ca3ac2db",
   "metadata": {},
   "outputs": [
    {
     "data": {
      "text/plain": [
       "['Red', 'White', 'Blue', 'Yeallow', 'Pink']"
      ]
     },
     "execution_count": 26,
     "metadata": {},
     "output_type": "execute_result"
    }
   ],
   "source": [
    "c"
   ]
  },
  {
   "cell_type": "code",
   "execution_count": 27,
   "id": "eadc8d25-fa0e-4079-968f-64c21cf02e8a",
   "metadata": {},
   "outputs": [],
   "source": [
    "c.append('Voilet')"
   ]
  },
  {
   "cell_type": "code",
   "execution_count": 28,
   "id": "65e0f9b7-8fa1-494d-a51f-e3e72c31ef6c",
   "metadata": {},
   "outputs": [
    {
     "data": {
      "text/plain": [
       "['Red', 'White', 'Blue', 'Yeallow', 'Pink', 'Voilet']"
      ]
     },
     "execution_count": 28,
     "metadata": {},
     "output_type": "execute_result"
    }
   ],
   "source": [
    "c"
   ]
  },
  {
   "cell_type": "code",
   "execution_count": 29,
   "id": "87ed754d-b6ba-457e-8241-4c04e04b3417",
   "metadata": {},
   "outputs": [],
   "source": [
    "c = tuple(c)"
   ]
  },
  {
   "cell_type": "code",
   "execution_count": 30,
   "id": "9e852cd6-b63d-4a0f-92f7-361f7f167df5",
   "metadata": {},
   "outputs": [
    {
     "data": {
      "text/plain": [
       "('Red', 'White', 'Blue', 'Yeallow', 'Pink', 'Voilet')"
      ]
     },
     "execution_count": 30,
     "metadata": {},
     "output_type": "execute_result"
    }
   ],
   "source": [
    "c"
   ]
  },
  {
   "cell_type": "code",
   "execution_count": null,
   "id": "24fe9fcd-9725-456d-a3f2-6e448d6536d6",
   "metadata": {},
   "outputs": [],
   "source": [
    "3. Set Operations:\n",
    "o Create two sets of random numbers.\n",
    "o Find and print their union, intersection, and difference.\n",
    "o Remove one element from the first set and add a new element."
   ]
  },
  {
   "cell_type": "code",
   "execution_count": 31,
   "id": "57de87a9-6deb-4fc1-a5cc-4c1e129474a1",
   "metadata": {},
   "outputs": [],
   "source": [
    "s1 = {1,5,2,7,8,3}"
   ]
  },
  {
   "cell_type": "code",
   "execution_count": 32,
   "id": "4ebe42b2-a76f-4404-b639-6aa427d00bd2",
   "metadata": {},
   "outputs": [],
   "source": [
    "s2 = {9,0,5,8,1}"
   ]
  },
  {
   "cell_type": "code",
   "execution_count": 33,
   "id": "34d141c1-8815-415e-9525-8293cfa81cf9",
   "metadata": {},
   "outputs": [
    {
     "data": {
      "text/plain": [
       "{0, 1, 2, 3, 5, 7, 8, 9}"
      ]
     },
     "execution_count": 33,
     "metadata": {},
     "output_type": "execute_result"
    }
   ],
   "source": [
    "s1.union(s2)"
   ]
  },
  {
   "cell_type": "code",
   "execution_count": 34,
   "id": "9898163e-422c-4a5a-93fd-c393439898cf",
   "metadata": {},
   "outputs": [
    {
     "data": {
      "text/plain": [
       "{1, 5, 8}"
      ]
     },
     "execution_count": 34,
     "metadata": {},
     "output_type": "execute_result"
    }
   ],
   "source": [
    "s1.intersection(s2)"
   ]
  },
  {
   "cell_type": "code",
   "execution_count": 35,
   "id": "f4a3000f-922d-44fd-aeaa-ce62b56551ab",
   "metadata": {},
   "outputs": [
    {
     "data": {
      "text/plain": [
       "{2, 3, 7}"
      ]
     },
     "execution_count": 35,
     "metadata": {},
     "output_type": "execute_result"
    }
   ],
   "source": [
    "s1.difference(s2)"
   ]
  },
  {
   "cell_type": "code",
   "execution_count": 39,
   "id": "ff10a277-1820-41d4-a0c6-07e8d7b148f2",
   "metadata": {},
   "outputs": [],
   "source": [
    "s1.add(89)"
   ]
  },
  {
   "cell_type": "code",
   "execution_count": 40,
   "id": "8d93a02b-6964-40ec-a470-1bfa01cebd5f",
   "metadata": {},
   "outputs": [
    {
     "data": {
      "text/plain": [
       "{1, 2, 3, 5, 7, 8, 89}"
      ]
     },
     "execution_count": 40,
     "metadata": {},
     "output_type": "execute_result"
    }
   ],
   "source": [
    "s1"
   ]
  },
  {
   "cell_type": "code",
   "execution_count": 41,
   "id": "11b540be-c061-40b0-892f-9d132f77969a",
   "metadata": {},
   "outputs": [],
   "source": [
    "data = {'Name':'Vaibhav', 'Last_name':'Bhosale', 'Age':24, 'Mobile':239838739}"
   ]
  },
  {
   "cell_type": "code",
   "execution_count": 42,
   "id": "164dec07-0d3e-4b8c-8ba7-2031ae3a1848",
   "metadata": {},
   "outputs": [
    {
     "data": {
      "text/plain": [
       "{'Name': 'Vaibhav', 'Last_name': 'Bhosale', 'Age': 24, 'Mobile': 239838739}"
      ]
     },
     "execution_count": 42,
     "metadata": {},
     "output_type": "execute_result"
    }
   ],
   "source": [
    "data"
   ]
  },
  {
   "cell_type": "code",
   "execution_count": 43,
   "id": "67afdbe6-7e95-4c71-8d37-f7988267bc16",
   "metadata": {},
   "outputs": [],
   "source": [
    "data['City'] = 'Solapur'"
   ]
  },
  {
   "cell_type": "code",
   "execution_count": 44,
   "id": "bbf4fd04-ef32-4aa0-970b-46fa4bd3b2da",
   "metadata": {},
   "outputs": [
    {
     "data": {
      "text/plain": [
       "{'Name': 'Vaibhav',\n",
       " 'Last_name': 'Bhosale',\n",
       " 'Age': 24,\n",
       " 'Mobile': 239838739,\n",
       " 'City': 'Solapur'}"
      ]
     },
     "execution_count": 44,
     "metadata": {},
     "output_type": "execute_result"
    }
   ],
   "source": [
    "data"
   ]
  },
  {
   "cell_type": "code",
   "execution_count": null,
   "id": "67ce28d3-a3e1-4de1-8900-02b8dc13473b",
   "metadata": {},
   "outputs": [],
   "source": [
    "4. Dictionary Practice:\n",
    "o Define a dictionary for a library system with book titles as keys and available \n",
    "copies as values.\n",
    "o Update the count of a specific book after it is borrowed.\n",
    "o Add a new book to the dictionary and print the updated dictionary.\n"
   ]
  },
  {
   "cell_type": "code",
   "execution_count": 45,
   "id": "12cd7477-2cac-469d-8b24-339c2fd7b1f3",
   "metadata": {},
   "outputs": [],
   "source": [
    "l = {\"Maths\":2, \"Science\":1, \"English\":6}"
   ]
  },
  {
   "cell_type": "code",
   "execution_count": 46,
   "id": "365f5e45-badb-4856-9739-f248d498b3de",
   "metadata": {},
   "outputs": [
    {
     "data": {
      "text/plain": [
       "{'Maths': 2, 'Science': 1, 'English': 6}"
      ]
     },
     "execution_count": 46,
     "metadata": {},
     "output_type": "execute_result"
    }
   ],
   "source": [
    "l"
   ]
  },
  {
   "cell_type": "code",
   "execution_count": 47,
   "id": "df22ec03-9a0b-4f14-a758-36c980b60d40",
   "metadata": {},
   "outputs": [],
   "source": [
    "l['English'] = 5"
   ]
  },
  {
   "cell_type": "code",
   "execution_count": 48,
   "id": "3f63bca5-90c6-4329-9fdb-9a13bf3c4fc0",
   "metadata": {},
   "outputs": [
    {
     "data": {
      "text/plain": [
       "{'Maths': 2, 'Science': 1, 'English': 5}"
      ]
     },
     "execution_count": 48,
     "metadata": {},
     "output_type": "execute_result"
    }
   ],
   "source": [
    "l"
   ]
  },
  {
   "cell_type": "code",
   "execution_count": 49,
   "id": "fa4b1eb5-e775-4e53-893f-369842b2673d",
   "metadata": {},
   "outputs": [],
   "source": [
    "l['Marathi'] = 4"
   ]
  },
  {
   "cell_type": "code",
   "execution_count": 50,
   "id": "ed03cefd-eefd-45ff-86b7-262cf1d18a03",
   "metadata": {},
   "outputs": [
    {
     "data": {
      "text/plain": [
       "{'Maths': 2, 'Science': 1, 'English': 5, 'Marathi': 4}"
      ]
     },
     "execution_count": 50,
     "metadata": {},
     "output_type": "execute_result"
    }
   ],
   "source": [
    "l"
   ]
  },
  {
   "cell_type": "code",
   "execution_count": null,
   "id": "d75083f6-ef89-46ff-b46a-b972b1d4f1e4",
   "metadata": {},
   "outputs": [],
   "source": []
  }
 ],
 "metadata": {
  "kernelspec": {
   "display_name": "Python 3 (ipykernel)",
   "language": "python",
   "name": "python3"
  },
  "language_info": {
   "codemirror_mode": {
    "name": "ipython",
    "version": 3
   },
   "file_extension": ".py",
   "mimetype": "text/x-python",
   "name": "python",
   "nbconvert_exporter": "python",
   "pygments_lexer": "ipython3",
   "version": "3.12.4"
  }
 },
 "nbformat": 4,
 "nbformat_minor": 5
}
