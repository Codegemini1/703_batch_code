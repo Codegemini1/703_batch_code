{
 "cells": [
  {
   "cell_type": "code",
   "execution_count": 2,
   "id": "a679f527-71b2-4d0f-9c74-bd584e2c28ff",
   "metadata": {},
   "outputs": [
    {
     "data": {
      "text/plain": [
       "16"
      ]
     },
     "execution_count": 2,
     "metadata": {},
     "output_type": "execute_result"
    }
   ],
   "source": [
    "10 + 6"
   ]
  },
  {
   "cell_type": "code",
   "execution_count": 3,
   "id": "a63fbbcc-3046-4868-83a9-7211b0841ec0",
   "metadata": {},
   "outputs": [
    {
     "data": {
      "text/plain": [
       "80"
      ]
     },
     "execution_count": 3,
     "metadata": {},
     "output_type": "execute_result"
    }
   ],
   "source": [
    "16 * 5"
   ]
  },
  {
   "cell_type": "code",
   "execution_count": 4,
   "id": "5600ab02-2ee2-468e-9f14-2d7afdd1e8a9",
   "metadata": {},
   "outputs": [],
   "source": [
    "import numpy as gemini"
   ]
  },
  {
   "cell_type": "code",
   "execution_count": 5,
   "id": "ddfa805f-f768-46bc-a96d-1b79390c2ea0",
   "metadata": {},
   "outputs": [
    {
     "data": {
      "text/plain": [
       "61.142857142857146"
      ]
     },
     "execution_count": 5,
     "metadata": {},
     "output_type": "execute_result"
    }
   ],
   "source": [
    "gemini.mean([76,34,87,45,65,23,98])"
   ]
  },
  {
   "cell_type": "markdown",
   "id": "9eff8389-b7cf-4667-9418-7a5372cfb412",
   "metadata": {},
   "source": [
    "# Hello"
   ]
  },
  {
   "cell_type": "markdown",
   "id": "9339df46-fb8a-443b-8f9b-f441be441d90",
   "metadata": {},
   "source": [
    "Today we are going to learn data types topic ....."
   ]
  },
  {
   "cell_type": "raw",
   "id": "c9b19495-aade-4eb1-8c0f-b90ae72afafe",
   "metadata": {},
   "source": [
    "x --> 757\n",
    "y --->98776\n",
    "nggshd"
   ]
  },
  {
   "cell_type": "code",
   "execution_count": null,
   "id": "84718318-5ef6-438f-940b-a9edcf65b4bc",
   "metadata": {},
   "outputs": [],
   "source": []
  }
 ],
 "metadata": {
  "kernelspec": {
   "display_name": "Python 3 (ipykernel)",
   "language": "python",
   "name": "python3"
  },
  "language_info": {
   "codemirror_mode": {
    "name": "ipython",
    "version": 3
   },
   "file_extension": ".py",
   "mimetype": "text/x-python",
   "name": "python",
   "nbconvert_exporter": "python",
   "pygments_lexer": "ipython3",
   "version": "3.12.4"
  }
 },
 "nbformat": 4,
 "nbformat_minor": 5
}
