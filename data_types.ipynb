{
 "cells": [
  {
   "cell_type": "markdown",
   "id": "c1dcce65-9bf9-4c96-8921-51f03e02a094",
   "metadata": {},
   "source": [
    "# Data Types in Python"
   ]
  },
  {
   "cell_type": "markdown",
   "id": "9acb9c8c-5894-4d5a-b8a4-d90cbadafede",
   "metadata": {},
   "source": [
    "# Integer"
   ]
  },
  {
   "cell_type": "raw",
   "id": "7e5b1054-3dec-4b0e-8c97-0ad7f4746464",
   "metadata": {},
   "source": [
    "Complete Number\n",
    "Ex: 1.How many family members you have?\n",
    "-----> 5,3,4,7"
   ]
  },
  {
   "cell_type": "code",
   "execution_count": 1,
   "id": "e89493d4-7862-4c4a-9909-5a733fe683fc",
   "metadata": {},
   "outputs": [
    {
     "data": {
      "text/plain": [
       "5"
      ]
     },
     "execution_count": 1,
     "metadata": {},
     "output_type": "execute_result"
    }
   ],
   "source": [
    "5"
   ]
  },
  {
   "cell_type": "code",
   "execution_count": 2,
   "id": "9c2a2133-9706-4122-8d32-a26989c08637",
   "metadata": {},
   "outputs": [
    {
     "data": {
      "text/plain": [
       "int"
      ]
     },
     "execution_count": 2,
     "metadata": {},
     "output_type": "execute_result"
    }
   ],
   "source": [
    "type(5)"
   ]
  },
  {
   "cell_type": "code",
   "execution_count": 3,
   "id": "c7357181-aa32-4c83-beae-6322a328c7aa",
   "metadata": {},
   "outputs": [
    {
     "data": {
      "text/plain": [
       "int"
      ]
     },
     "execution_count": 3,
     "metadata": {},
     "output_type": "execute_result"
    }
   ],
   "source": [
    "type(1757)"
   ]
  },
  {
   "cell_type": "markdown",
   "id": "3c1cbfc4-a635-433c-89b3-27f7249b7be8",
   "metadata": {},
   "source": [
    "# Float"
   ]
  },
  {
   "cell_type": "raw",
   "id": "be5d0171-3f7f-402e-8780-e4b62c6f804f",
   "metadata": {},
   "source": [
    "Values in decmal format\n",
    "Ex 1. Height \n",
    "----> 6.4, 3.8 "
   ]
  },
  {
   "cell_type": "code",
   "execution_count": 4,
   "id": "002abb38-bc57-4e68-9da1-f32a9adea12a",
   "metadata": {},
   "outputs": [
    {
     "data": {
      "text/plain": [
       "6.4"
      ]
     },
     "execution_count": 4,
     "metadata": {},
     "output_type": "execute_result"
    }
   ],
   "source": [
    "6.4"
   ]
  },
  {
   "cell_type": "code",
   "execution_count": 5,
   "id": "7afddaaf-0359-4cc7-8260-b84aeaa63fc1",
   "metadata": {},
   "outputs": [
    {
     "data": {
      "text/plain": [
       "float"
      ]
     },
     "execution_count": 5,
     "metadata": {},
     "output_type": "execute_result"
    }
   ],
   "source": [
    "type(6.4)"
   ]
  },
  {
   "cell_type": "code",
   "execution_count": 6,
   "id": "4b7f3cef-0cc6-4eb9-8902-abdeeb96ab46",
   "metadata": {},
   "outputs": [
    {
     "data": {
      "text/plain": [
       "float"
      ]
     },
     "execution_count": 6,
     "metadata": {},
     "output_type": "execute_result"
    }
   ],
   "source": [
    "type(4.6)"
   ]
  },
  {
   "cell_type": "markdown",
   "id": "9abf2e3b-e2fe-4b7e-baf1-6f920726fbc8",
   "metadata": {},
   "source": [
    "# Complex Numbers"
   ]
  },
  {
   "cell_type": "markdown",
   "id": "661dd423-3e99-48bd-ae74-01c9b33e1918",
   "metadata": {},
   "source": [
    "Vector Values"
   ]
  },
  {
   "cell_type": "code",
   "execution_count": 7,
   "id": "53b95053-b0c4-40a3-940f-aa209c84ef83",
   "metadata": {},
   "outputs": [
    {
     "data": {
      "text/plain": [
       "(10+5j)"
      ]
     },
     "execution_count": 7,
     "metadata": {},
     "output_type": "execute_result"
    }
   ],
   "source": [
    "10+5j"
   ]
  },
  {
   "cell_type": "code",
   "execution_count": 8,
   "id": "e276571e-cdcf-409b-8a45-50d60b4d7211",
   "metadata": {},
   "outputs": [
    {
     "data": {
      "text/plain": [
       "complex"
      ]
     },
     "execution_count": 8,
     "metadata": {},
     "output_type": "execute_result"
    }
   ],
   "source": [
    "type(10+5j)"
   ]
  },
  {
   "cell_type": "markdown",
   "id": "434fce1d-da78-40d0-b291-e4c06987a5b6",
   "metadata": {},
   "source": [
    "# Sring"
   ]
  },
  {
   "cell_type": "raw",
   "id": "0d82f1fe-b9aa-4a97-9c9f-1e67e8eceb75",
   "metadata": {},
   "source": [
    "Words, char, sentences\n",
    "'' , \"\""
   ]
  },
  {
   "cell_type": "code",
   "execution_count": 9,
   "id": "de8f6f4e-b735-49f0-93ed-d4c461fb0e95",
   "metadata": {},
   "outputs": [
    {
     "data": {
      "text/plain": [
       "'Hello python'"
      ]
     },
     "execution_count": 9,
     "metadata": {},
     "output_type": "execute_result"
    }
   ],
   "source": [
    "'Hello python'"
   ]
  },
  {
   "cell_type": "code",
   "execution_count": 10,
   "id": "43788f74-7e00-4fe2-9c7c-548d5967e96f",
   "metadata": {},
   "outputs": [
    {
     "data": {
      "text/plain": [
       "'Hello'"
      ]
     },
     "execution_count": 10,
     "metadata": {},
     "output_type": "execute_result"
    }
   ],
   "source": [
    "\"Hello\""
   ]
  },
  {
   "cell_type": "code",
   "execution_count": 11,
   "id": "64331f08-a972-4ee3-9576-bb3268821c3d",
   "metadata": {},
   "outputs": [
    {
     "data": {
      "text/plain": [
       "'Today we are learning data types in python.'"
      ]
     },
     "execution_count": 11,
     "metadata": {},
     "output_type": "execute_result"
    }
   ],
   "source": [
    "\"Today we are learning data types in python.\""
   ]
  },
  {
   "cell_type": "code",
   "execution_count": 12,
   "id": "f3cbab2e-6122-49cd-b8cb-47c4e32bc104",
   "metadata": {},
   "outputs": [
    {
     "ename": "SyntaxError",
     "evalue": "unterminated string literal (detected at line 1) (429238323.py, line 1)",
     "output_type": "error",
     "traceback": [
      "\u001b[1;36m  Cell \u001b[1;32mIn[12], line 1\u001b[1;36m\u001b[0m\n\u001b[1;33m    'This is my first line.\u001b[0m\n\u001b[1;37m    ^\u001b[0m\n\u001b[1;31mSyntaxError\u001b[0m\u001b[1;31m:\u001b[0m unterminated string literal (detected at line 1)\n"
     ]
    }
   ],
   "source": [
    "'This is my first line.\n",
    "This is my second line'"
   ]
  },
  {
   "cell_type": "code",
   "execution_count": 13,
   "id": "fc8c81c6-efbe-4311-a4a8-353adb19fb46",
   "metadata": {},
   "outputs": [
    {
     "data": {
      "text/plain": [
       "'This is my first line.\\nThis is my second line'"
      ]
     },
     "execution_count": 13,
     "metadata": {},
     "output_type": "execute_result"
    }
   ],
   "source": [
    "'''This is my first line.\n",
    "This is my second line'''"
   ]
  },
  {
   "cell_type": "code",
   "execution_count": 14,
   "id": "f7d00a84-7467-42e8-af24-754e19c3ecd4",
   "metadata": {},
   "outputs": [
    {
     "name": "stdout",
     "output_type": "stream",
     "text": [
      "This is my first line.\n",
      "This is my second line\n"
     ]
    }
   ],
   "source": [
    "print('''This is my first line.\n",
    "This is my second line''')"
   ]
  },
  {
   "cell_type": "markdown",
   "id": "6c8147b7-03be-4d35-9969-8fe8c484c622",
   "metadata": {},
   "source": [
    "# Boolean Values"
   ]
  },
  {
   "cell_type": "raw",
   "id": "e76d16c1-39c2-4250-8fc5-8735c58cc1f1",
   "metadata": {},
   "source": [
    "True or False"
   ]
  },
  {
   "cell_type": "code",
   "execution_count": 15,
   "id": "5562fb8f-85c7-4f94-8386-ff3e32cc071b",
   "metadata": {},
   "outputs": [
    {
     "data": {
      "text/plain": [
       "True"
      ]
     },
     "execution_count": 15,
     "metadata": {},
     "output_type": "execute_result"
    }
   ],
   "source": [
    "10 < 60"
   ]
  },
  {
   "cell_type": "code",
   "execution_count": 16,
   "id": "b72824fc-57a8-40cd-a92c-ce49b8d9914e",
   "metadata": {},
   "outputs": [
    {
     "data": {
      "text/plain": [
       "False"
      ]
     },
     "execution_count": 16,
     "metadata": {},
     "output_type": "execute_result"
    }
   ],
   "source": [
    "10 > 90"
   ]
  },
  {
   "cell_type": "code",
   "execution_count": null,
   "id": "22f3a7b5-b9c2-4157-9458-bd1101358294",
   "metadata": {},
   "outputs": [],
   "source": []
  }
 ],
 "metadata": {
  "kernelspec": {
   "display_name": "Python 3 (ipykernel)",
   "language": "python",
   "name": "python3"
  },
  "language_info": {
   "codemirror_mode": {
    "name": "ipython",
    "version": 3
   },
   "file_extension": ".py",
   "mimetype": "text/x-python",
   "name": "python",
   "nbconvert_exporter": "python",
   "pygments_lexer": "ipython3",
   "version": "3.12.4"
  }
 },
 "nbformat": 4,
 "nbformat_minor": 5
}
