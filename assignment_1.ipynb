{
 "cells": [
  {
   "cell_type": "code",
   "execution_count": null,
   "id": "6fc5a3db-5f2e-4184-bfd1-6f701b460413",
   "metadata": {},
   "outputs": [],
   "source": [
    "1.How would you convert one data type to another in Python? For example, an integer to a \n",
    "string."
   ]
  },
  {
   "cell_type": "code",
   "execution_count": 2,
   "id": "d8964fad-477a-4c5f-bcf1-b54c07bae258",
   "metadata": {},
   "outputs": [],
   "source": [
    "a = 5"
   ]
  },
  {
   "cell_type": "code",
   "execution_count": 3,
   "id": "a4bac317-381b-48b3-9b11-05f8177c0919",
   "metadata": {},
   "outputs": [
    {
     "data": {
      "text/plain": [
       "'5'"
      ]
     },
     "execution_count": 3,
     "metadata": {},
     "output_type": "execute_result"
    }
   ],
   "source": [
    "str(a)"
   ]
  },
  {
   "cell_type": "code",
   "execution_count": 4,
   "id": "a659fa61-3e37-4cc9-9d84-b1d3ec5bc221",
   "metadata": {},
   "outputs": [
    {
     "ename": "ValueError",
     "evalue": "invalid literal for int() with base 10: 'Hello'",
     "output_type": "error",
     "traceback": [
      "\u001b[1;31m---------------------------------------------------------------------------\u001b[0m",
      "\u001b[1;31mValueError\u001b[0m                                Traceback (most recent call last)",
      "Cell \u001b[1;32mIn[4], line 1\u001b[0m\n\u001b[1;32m----> 1\u001b[0m \u001b[38;5;28mint\u001b[39m(\u001b[38;5;124m'\u001b[39m\u001b[38;5;124mHello\u001b[39m\u001b[38;5;124m'\u001b[39m)\n",
      "\u001b[1;31mValueError\u001b[0m: invalid literal for int() with base 10: 'Hello'"
     ]
    }
   ],
   "source": [
    "int('Hello')"
   ]
  },
  {
   "cell_type": "code",
   "execution_count": 5,
   "id": "f31312d3-4cff-4b2f-a8e2-dcc03154e81d",
   "metadata": {},
   "outputs": [
    {
     "data": {
      "text/plain": [
       "1"
      ]
     },
     "execution_count": 5,
     "metadata": {},
     "output_type": "execute_result"
    }
   ],
   "source": [
    "int(1.8)"
   ]
  },
  {
   "cell_type": "code",
   "execution_count": 6,
   "id": "822409ed-7ca9-44ca-90bf-c47a57f123f4",
   "metadata": {},
   "outputs": [
    {
     "data": {
      "text/plain": [
       "10"
      ]
     },
     "execution_count": 6,
     "metadata": {},
     "output_type": "execute_result"
    }
   ],
   "source": [
    "int('10')"
   ]
  },
  {
   "cell_type": "code",
   "execution_count": null,
   "id": "0dfb4f2f-6e58-46b1-b6e1-15f48ec71352",
   "metadata": {},
   "outputs": [],
   "source": [
    "2.  What is the difference between == and = in Python?"
   ]
  },
  {
   "cell_type": "code",
   "execution_count": null,
   "id": "571dd9bf-a193-4bc1-8904-ed6380293ac8",
   "metadata": {},
   "outputs": [],
   "source": []
  },
  {
   "cell_type": "code",
   "execution_count": null,
   "id": "3993b19e-cd9f-4394-b6db-f8434da621db",
   "metadata": {},
   "outputs": [],
   "source": [
    "3. How does the modulus operator (%) work in Python?"
   ]
  },
  {
   "cell_type": "code",
   "execution_count": null,
   "id": "24e7be92-1905-4500-91c2-eae6c7d1f883",
   "metadata": {},
   "outputs": [],
   "source": []
  },
  {
   "cell_type": "markdown",
   "id": "99bbfa0f-9e1a-4c6e-9b19-f75019aae37d",
   "metadata": {},
   "source": [
    "# 4. What is type casting, and why is it important in Python?"
   ]
  },
  {
   "cell_type": "code",
   "execution_count": null,
   "id": "2be686b7-56e0-4b72-91ba-d2b91759d5e2",
   "metadata": {},
   "outputs": [],
   "source": []
  },
  {
   "cell_type": "markdown",
   "id": "a8b7c6d7-9bed-48fd-9856-8b46e39c3361",
   "metadata": {},
   "source": [
    "# 5. What will be the output of 3 * \"Hello\" in Python? Explain why."
   ]
  },
  {
   "cell_type": "code",
   "execution_count": 7,
   "id": "0615d213-6472-4b35-a51c-26810813c0c5",
   "metadata": {},
   "outputs": [
    {
     "name": "stdout",
     "output_type": "stream",
     "text": [
      "HelloHelloHello\n"
     ]
    }
   ],
   "source": [
    "print(\"Hello\" * 3)"
   ]
  },
  {
   "cell_type": "code",
   "execution_count": null,
   "id": "eef746ab-0b4b-43de-94a5-40d2e20a96fb",
   "metadata": {},
   "outputs": [],
   "source": []
  }
 ],
 "metadata": {
  "kernelspec": {
   "display_name": "Python 3 (ipykernel)",
   "language": "python",
   "name": "python3"
  },
  "language_info": {
   "codemirror_mode": {
    "name": "ipython",
    "version": 3
   },
   "file_extension": ".py",
   "mimetype": "text/x-python",
   "name": "python",
   "nbconvert_exporter": "python",
   "pygments_lexer": "ipython3",
   "version": "3.12.4"
  }
 },
 "nbformat": 4,
 "nbformat_minor": 5
}
