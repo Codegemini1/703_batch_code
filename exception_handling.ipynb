{
 "cells": [
  {
   "cell_type": "code",
   "execution_count": 1,
   "id": "9b693763-6826-454c-945b-98e58e608576",
   "metadata": {},
   "outputs": [
    {
     "ename": "NameError",
     "evalue": "name 'l' is not defined",
     "output_type": "error",
     "traceback": [
      "\u001b[1;31m---------------------------------------------------------------------------\u001b[0m",
      "\u001b[1;31mNameError\u001b[0m                                 Traceback (most recent call last)",
      "Cell \u001b[1;32mIn[1], line 1\u001b[0m\n\u001b[1;32m----> 1\u001b[0m \u001b[38;5;28;01mfor\u001b[39;00m i \u001b[38;5;129;01min\u001b[39;00m l:\n\u001b[0;32m      2\u001b[0m     \u001b[38;5;28mprint\u001b[39m(i)\n",
      "\u001b[1;31mNameError\u001b[0m: name 'l' is not defined"
     ]
    }
   ],
   "source": [
    "   for i in l:\n",
    "       print(i)"
   ]
  },
  {
   "cell_type": "code",
   "execution_count": 2,
   "id": "dc036965-7bb9-4a1b-a184-9149d7d06532",
   "metadata": {},
   "outputs": [
    {
     "ename": "SyntaxError",
     "evalue": "cannot assign to literal here. Maybe you meant '==' instead of '='? (4178230463.py, line 1)",
     "output_type": "error",
     "traceback": [
      "\u001b[1;36m  Cell \u001b[1;32mIn[2], line 1\u001b[1;36m\u001b[0m\n\u001b[1;33m    1 = 'Hello'\u001b[0m\n\u001b[1;37m    ^\u001b[0m\n\u001b[1;31mSyntaxError\u001b[0m\u001b[1;31m:\u001b[0m cannot assign to literal here. Maybe you meant '==' instead of '='?\n"
     ]
    }
   ],
   "source": [
    "1 = 'Hello'"
   ]
  },
  {
   "cell_type": "code",
   "execution_count": 3,
   "id": "ce6d31d9-0ef9-4e79-a353-7461d194cb43",
   "metadata": {},
   "outputs": [
    {
     "ename": "ZeroDivisionError",
     "evalue": "division by zero",
     "output_type": "error",
     "traceback": [
      "\u001b[1;31m---------------------------------------------------------------------------\u001b[0m",
      "\u001b[1;31mZeroDivisionError\u001b[0m                         Traceback (most recent call last)",
      "Cell \u001b[1;32mIn[3], line 1\u001b[0m\n\u001b[1;32m----> 1\u001b[0m \u001b[38;5;241m5\u001b[39m\u001b[38;5;241m/\u001b[39m\u001b[38;5;241m0\u001b[39m\n",
      "\u001b[1;31mZeroDivisionError\u001b[0m: division by zero"
     ]
    }
   ],
   "source": [
    "5/0"
   ]
  },
  {
   "cell_type": "code",
   "execution_count": 4,
   "id": "15f29487-4b94-4b63-9953-41d37bb11e9d",
   "metadata": {},
   "outputs": [
    {
     "ename": "SyntaxError",
     "evalue": "incomplete input (4003248706.py, line 1)",
     "output_type": "error",
     "traceback": [
      "\u001b[1;36m  Cell \u001b[1;32mIn[4], line 1\u001b[1;36m\u001b[0m\n\u001b[1;33m    for i in rang(5):\u001b[0m\n\u001b[1;37m                     ^\u001b[0m\n\u001b[1;31mSyntaxError\u001b[0m\u001b[1;31m:\u001b[0m incomplete input\n"
     ]
    }
   ],
   "source": [
    "for i in rang(5):"
   ]
  },
  {
   "cell_type": "code",
   "execution_count": 5,
   "id": "863586b2-8583-4dc2-9ab3-07f50671a21e",
   "metadata": {},
   "outputs": [
    {
     "name": "stdin",
     "output_type": "stream",
     "text": [
      "write int number only ,kdd\n"
     ]
    },
    {
     "ename": "ValueError",
     "evalue": "invalid literal for int() with base 10: ',kdd'",
     "output_type": "error",
     "traceback": [
      "\u001b[1;31m---------------------------------------------------------------------------\u001b[0m",
      "\u001b[1;31mValueError\u001b[0m                                Traceback (most recent call last)",
      "Cell \u001b[1;32mIn[5], line 1\u001b[0m\n\u001b[1;32m----> 1\u001b[0m a \u001b[38;5;241m=\u001b[39m \u001b[38;5;28mint\u001b[39m(\u001b[38;5;28minput\u001b[39m(\u001b[38;5;124m'\u001b[39m\u001b[38;5;124mwrite int number only\u001b[39m\u001b[38;5;124m'\u001b[39m))\n",
      "\u001b[1;31mValueError\u001b[0m: invalid literal for int() with base 10: ',kdd'"
     ]
    }
   ],
   "source": [
    "a = int(input('write int number only'))"
   ]
  },
  {
   "cell_type": "code",
   "execution_count": 6,
   "id": "483e5804-7ba8-46e0-b408-c8d8acb92489",
   "metadata": {},
   "outputs": [
    {
     "name": "stdout",
     "output_type": "stream",
     "text": [
      "Hello\n"
     ]
    }
   ],
   "source": [
    "print('Hello')"
   ]
  },
  {
   "cell_type": "code",
   "execution_count": 7,
   "id": "6671c872-b0f2-4ca3-bb7e-b39ac3b30381",
   "metadata": {},
   "outputs": [
    {
     "name": "stdin",
     "output_type": "stream",
     "text": [
      "write int number only jhgjhfjh\n"
     ]
    },
    {
     "name": "stdout",
     "output_type": "stream",
     "text": [
      "There is error at try blog of a input which should be int only\n"
     ]
    }
   ],
   "source": [
    "try:\n",
    "    a = int(input('write int number only'))\n",
    "except:\n",
    "    print('There is error at try blog of a input which should be int only')"
   ]
  },
  {
   "cell_type": "code",
   "execution_count": 8,
   "id": "2d34f25a-b5e8-4104-a179-a5115981d0f4",
   "metadata": {},
   "outputs": [
    {
     "name": "stdin",
     "output_type": "stream",
     "text": [
      "write int number only hello\n"
     ]
    },
    {
     "name": "stdout",
     "output_type": "stream",
     "text": [
      "invalid literal for int() with base 10: 'hello'\n"
     ]
    }
   ],
   "source": [
    "try:\n",
    "    a = int(input('write int number only'))\n",
    "except Exception as e:\n",
    "    print(e)"
   ]
  },
  {
   "cell_type": "code",
   "execution_count": 13,
   "id": "a5e81363-49d4-4c1e-be47-ef82cb7e16cd",
   "metadata": {},
   "outputs": [
    {
     "name": "stdin",
     "output_type": "stream",
     "text": [
      " ugu\n"
     ]
    },
    {
     "name": "stdout",
     "output_type": "stream",
     "text": [
      "invalid literal for int() with base 10: 'ugu'\n"
     ]
    }
   ],
   "source": [
    "try:\n",
    "    a = int(input())\n",
    "    b = int(input())\n",
    "    result = a / b\n",
    "    print(result)\n",
    "except Exception as error:\n",
    "    print(error)"
   ]
  },
  {
   "cell_type": "code",
   "execution_count": 14,
   "id": "61636f7f-b0dd-4c76-a6ed-a31451e61983",
   "metadata": {},
   "outputs": [
    {
     "name": "stdin",
     "output_type": "stream",
     "text": [
      " oihojj\n"
     ]
    },
    {
     "name": "stdout",
     "output_type": "stream",
     "text": [
      "invalid literal for int() with base 10: 'oihojj'\n",
      "problem in try blog while taking input\n"
     ]
    }
   ],
   "source": [
    "try:\n",
    "    a = int(input())\n",
    "    b = int(input())\n",
    "    result = a / b\n",
    "    print(result)\n",
    "except Exception as error:\n",
    "    print(error)\n",
    "    print('problem in try blog while taking input')"
   ]
  },
  {
   "cell_type": "code",
   "execution_count": 20,
   "id": "5802d169-d8b5-444c-a12d-87b650df625f",
   "metadata": {},
   "outputs": [],
   "source": [
    "def test(a,b):\n",
    "    try:\n",
    "        print(a+b)\n",
    "    except Exception as e:\n",
    "        print(e)"
   ]
  },
  {
   "cell_type": "code",
   "execution_count": 21,
   "id": "b45298ff-f238-4401-89da-0c6e9db53091",
   "metadata": {},
   "outputs": [
    {
     "name": "stdout",
     "output_type": "stream",
     "text": [
      "unsupported operand type(s) for +: 'int' and 'str'\n"
     ]
    }
   ],
   "source": [
    "test(1,'Hello')"
   ]
  },
  {
   "cell_type": "code",
   "execution_count": 22,
   "id": "e62a8393-c6df-4718-b5b8-b749af597b1a",
   "metadata": {},
   "outputs": [],
   "source": [
    "def test2(a,b):\n",
    "    print(a+b)"
   ]
  },
  {
   "cell_type": "code",
   "execution_count": 23,
   "id": "001d7bdf-2ace-4aff-b4fa-8db6f8842a37",
   "metadata": {},
   "outputs": [
    {
     "name": "stdout",
     "output_type": "stream",
     "text": [
      "3\n"
     ]
    }
   ],
   "source": [
    "test2(1,2)"
   ]
  },
  {
   "cell_type": "code",
   "execution_count": 24,
   "id": "7c602d36-a8e0-48f5-90c4-4732616f482c",
   "metadata": {},
   "outputs": [
    {
     "ename": "TypeError",
     "evalue": "unsupported operand type(s) for +: 'int' and 'str'",
     "output_type": "error",
     "traceback": [
      "\u001b[1;31m---------------------------------------------------------------------------\u001b[0m",
      "\u001b[1;31mTypeError\u001b[0m                                 Traceback (most recent call last)",
      "Cell \u001b[1;32mIn[24], line 1\u001b[0m\n\u001b[1;32m----> 1\u001b[0m test2(\u001b[38;5;241m1\u001b[39m,\u001b[38;5;124m'\u001b[39m\u001b[38;5;124mHello\u001b[39m\u001b[38;5;124m'\u001b[39m)\n",
      "Cell \u001b[1;32mIn[22], line 2\u001b[0m, in \u001b[0;36mtest2\u001b[1;34m(a, b)\u001b[0m\n\u001b[0;32m      1\u001b[0m \u001b[38;5;28;01mdef\u001b[39;00m \u001b[38;5;21mtest2\u001b[39m(a,b):\n\u001b[1;32m----> 2\u001b[0m     \u001b[38;5;28mprint\u001b[39m(a\u001b[38;5;241m+\u001b[39mb)\n",
      "\u001b[1;31mTypeError\u001b[0m: unsupported operand type(s) for +: 'int' and 'str'"
     ]
    }
   ],
   "source": [
    "test2(1,'Hello')"
   ]
  },
  {
   "cell_type": "code",
   "execution_count": 25,
   "id": "c8a57b54-7472-4a9c-ab17-9e1f5dd11137",
   "metadata": {},
   "outputs": [
    {
     "name": "stdout",
     "output_type": "stream",
     "text": [
      "unsupported operand type(s) for +: 'int' and 'str'\n"
     ]
    }
   ],
   "source": [
    "test(1,'Hello')"
   ]
  },
  {
   "cell_type": "code",
   "execution_count": 26,
   "id": "69203bdb-aed7-4baa-936e-c76a09808496",
   "metadata": {},
   "outputs": [
    {
     "name": "stdin",
     "output_type": "stream",
     "text": [
      " 2\n",
      " 5\n"
     ]
    },
    {
     "name": "stdout",
     "output_type": "stream",
     "text": [
      "7\n",
      "Project Completed\n"
     ]
    }
   ],
   "source": [
    "try:\n",
    "    a = int(input())\n",
    "    b = int(input())\n",
    "    print(a + b)\n",
    "except Exception as e:\n",
    "    print(e)\n",
    "finally:\n",
    "    print('Project Completed')"
   ]
  },
  {
   "cell_type": "code",
   "execution_count": 27,
   "id": "c2411b3d-90cd-4bd4-b244-845a776da05f",
   "metadata": {},
   "outputs": [
    {
     "name": "stdin",
     "output_type": "stream",
     "text": [
      " kdhuujh\n"
     ]
    },
    {
     "name": "stdout",
     "output_type": "stream",
     "text": [
      "invalid literal for int() with base 10: 'kdhuujh'\n",
      "Project Completed\n"
     ]
    }
   ],
   "source": [
    "try:\n",
    "    a = int(input())\n",
    "    b = int(input())\n",
    "    print(a + b)\n",
    "except Exception as e:\n",
    "    print(e)\n",
    "finally:\n",
    "    print('Project Completed')"
   ]
  },
  {
   "cell_type": "code",
   "execution_count": 30,
   "id": "40b53983-a098-4763-be46-e90f3216fd8c",
   "metadata": {},
   "outputs": [
    {
     "name": "stdout",
     "output_type": "stream",
     "text": [
      "HelloThis is my new line\n",
      "File closed\n"
     ]
    }
   ],
   "source": [
    "try:\n",
    "    f = open('test.csv', mode='r+')\n",
    "    print(f.read())\n",
    "except Exception as e:\n",
    "    print(e)\n",
    "finally:\n",
    "    f.close()\n",
    "    print('File closed')"
   ]
  },
  {
   "cell_type": "code",
   "execution_count": 31,
   "id": "b5b67029-5ae2-4af8-acd4-f47217145319",
   "metadata": {},
   "outputs": [
    {
     "name": "stdout",
     "output_type": "stream",
     "text": [
      "not readable\n",
      "File closed\n"
     ]
    }
   ],
   "source": [
    "try:\n",
    "    f = open('test.csv', mode='w')\n",
    "    print(f.read())\n",
    "except Exception as e:\n",
    "    print(e)\n",
    "finally:\n",
    "    f.close()\n",
    "    print('File closed')"
   ]
  },
  {
   "cell_type": "code",
   "execution_count": 32,
   "id": "6dc45035-06c4-4ba4-aa09-fd7fe974a63d",
   "metadata": {},
   "outputs": [],
   "source": [
    "# Try to create 5 functions using exception handling"
   ]
  },
  {
   "cell_type": "code",
   "execution_count": 33,
   "id": "eafa28cc-632a-49c0-9f61-f602e78be8c6",
   "metadata": {},
   "outputs": [],
   "source": [
    "def add(a,b):\n",
    "    try:\n",
    "        print(a+b)\n",
    "    except Exception as e:\n",
    "        print(e)\n",
    "    finally:\n",
    "        print('Function/ Project Closed')"
   ]
  },
  {
   "cell_type": "code",
   "execution_count": 34,
   "id": "653d8231-8c32-4504-9e28-3e3ee8ffba1e",
   "metadata": {},
   "outputs": [
    {
     "name": "stdout",
     "output_type": "stream",
     "text": [
      "unsupported operand type(s) for +: 'int' and 'str'\n",
      "Function/ Project Closed\n"
     ]
    }
   ],
   "source": [
    "add(1,'H')"
   ]
  },
  {
   "cell_type": "code",
   "execution_count": 35,
   "id": "73a53bc7-d006-4957-9ee2-b5cb776505db",
   "metadata": {},
   "outputs": [
    {
     "name": "stdout",
     "output_type": "stream",
     "text": [
      "7\n",
      "Function/ Project Closed\n"
     ]
    }
   ],
   "source": [
    "add(2,5)"
   ]
  },
  {
   "cell_type": "code",
   "execution_count": 39,
   "id": "69aa8139-6ecd-47f9-89b2-581393c47d74",
   "metadata": {},
   "outputs": [],
   "source": [
    "def test4(*args):\n",
    "    try:\n",
    "        for i in args:\n",
    "                print(z)\n",
    "    except Exception as e:\n",
    "        print(e)\n",
    "    "
   ]
  },
  {
   "cell_type": "code",
   "execution_count": 40,
   "id": "6e1c30ce-bc3a-48d4-84d1-5f16d3a6999b",
   "metadata": {},
   "outputs": [
    {
     "name": "stdout",
     "output_type": "stream",
     "text": [
      "name 'z' is not defined\n"
     ]
    }
   ],
   "source": [
    "test4(2,4,2)"
   ]
  },
  {
   "cell_type": "markdown",
   "id": "ce164703-0244-4524-ae9e-a64a95638ee5",
   "metadata": {},
   "source": [
    "# 5 FUnctions by using exception Handling"
   ]
  },
  {
   "cell_type": "code",
   "execution_count": null,
   "id": "a2b1deba-c161-492d-8d8e-a9b175803ebf",
   "metadata": {},
   "outputs": [],
   "source": []
  }
 ],
 "metadata": {
  "kernelspec": {
   "display_name": "Python 3 (ipykernel)",
   "language": "python",
   "name": "python3"
  },
  "language_info": {
   "codemirror_mode": {
    "name": "ipython",
    "version": 3
   },
   "file_extension": ".py",
   "mimetype": "text/x-python",
   "name": "python",
   "nbconvert_exporter": "python",
   "pygments_lexer": "ipython3",
   "version": "3.12.4"
  }
 },
 "nbformat": 4,
 "nbformat_minor": 5
}
