{
 "cells": [
  {
   "cell_type": "code",
   "execution_count": 1,
   "id": "eca948d6-7cb0-4647-9879-abd32779c573",
   "metadata": {},
   "outputs": [],
   "source": [
    "import logging"
   ]
  },
  {
   "cell_type": "code",
   "execution_count": 2,
   "id": "9b4a438a-456e-412d-9f9b-ad2b47daf557",
   "metadata": {},
   "outputs": [
    {
     "name": "stdout",
     "output_type": "stream",
     "text": [
      "division by zero\n"
     ]
    }
   ],
   "source": [
    "try:\n",
    "    a = 1 / 0\n",
    "except Exception as e:\n",
    "    print(e)"
   ]
  },
  {
   "cell_type": "code",
   "execution_count": 4,
   "id": "bbff5855-15f6-471a-a043-7a27219bcbb8",
   "metadata": {},
   "outputs": [],
   "source": [
    "logging.basicConfig(filename ='my_logs.log', level=logging.DEBUG, format = '%(asctime)s  %(levelname)s %(message)s' )"
   ]
  },
  {
   "cell_type": "raw",
   "id": "f882cc2c-266b-49cd-94c1-86c5da82c693",
   "metadata": {},
   "source": [
    "# Types of logs\n",
    "INFO\n",
    "WARNING\n",
    "DEBUG\n",
    "ERROR"
   ]
  },
  {
   "cell_type": "code",
   "execution_count": 6,
   "id": "f8177407-4d23-49e9-8fdb-d34ef70be236",
   "metadata": {},
   "outputs": [],
   "source": [
    "logging.info(\"This is my info log\")\n",
    "logging.warning(\"This is my warning log\")\n",
    "logging.debug(\"This is my debug log\")\n",
    "logging.error('This is my error log')"
   ]
  },
  {
   "cell_type": "code",
   "execution_count": 7,
   "id": "a7608484-79f3-4ddb-8001-1a1901b725b6",
   "metadata": {},
   "outputs": [],
   "source": [
    "def div(a,b):\n",
    "    \n",
    "    try:\n",
    "        logging.info('My div function started')\n",
    "        result = a / b\n",
    "        print(result)\n",
    "        logging.info('Project completed')\n",
    "    except Exception as e:\n",
    "        print(e)\n",
    "        logging.exception(e)"
   ]
  },
  {
   "cell_type": "code",
   "execution_count": 8,
   "id": "6073cea3-4d28-48dc-a731-d50f0fbc896e",
   "metadata": {},
   "outputs": [
    {
     "name": "stdout",
     "output_type": "stream",
     "text": [
      "2.5\n"
     ]
    }
   ],
   "source": [
    "div(5,2)"
   ]
  },
  {
   "cell_type": "code",
   "execution_count": 9,
   "id": "a3a2b26e-42b2-4905-8090-a671eff0a582",
   "metadata": {},
   "outputs": [
    {
     "name": "stdout",
     "output_type": "stream",
     "text": [
      "division by zero\n"
     ]
    }
   ],
   "source": [
    "div(5,0)"
   ]
  },
  {
   "cell_type": "code",
   "execution_count": 10,
   "id": "7356496d-1737-4eb5-b98c-aceb26f9836f",
   "metadata": {},
   "outputs": [],
   "source": [
    "def add(a,b):\n",
    "    logging.info('Add function started',a,b)\n",
    "    try:\n",
    "        result = a + b\n",
    "        print(result)\n",
    "    except Exception as e:\n",
    "        print(e)\n",
    "        logging.error(e)"
   ]
  },
  {
   "cell_type": "code",
   "execution_count": 11,
   "id": "ef510a7e-3c09-48bc-97fd-925f8cb1eabc",
   "metadata": {},
   "outputs": [
    {
     "name": "stdout",
     "output_type": "stream",
     "text": [
      "unsupported operand type(s) for +: 'int' and 'str'\n"
     ]
    }
   ],
   "source": [
    "add(10,'Hello')"
   ]
  },
  {
   "cell_type": "code",
   "execution_count": 12,
   "id": "07fd59a0-4ddb-4ed6-8362-1ba6f9f55e2f",
   "metadata": {},
   "outputs": [],
   "source": [
    "logging.shutdown()"
   ]
  },
  {
   "cell_type": "code",
   "execution_count": 13,
   "id": "d1814044-8b8a-4e2c-b183-8aa15c17d6a7",
   "metadata": {},
   "outputs": [],
   "source": [
    "logging.basicConfig(filename ='test1.log', level=logging.DEBUG, format = '%(asctime)s  %(levelname)s %(message)s' )"
   ]
  },
  {
   "cell_type": "code",
   "execution_count": 14,
   "id": "92155988-d5fb-4394-ab15-ba8a78b3de40",
   "metadata": {},
   "outputs": [],
   "source": [
    "def div(a,b):\n",
    "    \n",
    "    try:\n",
    "        logging.info('My div function started')\n",
    "        result = a / b\n",
    "        print(result)\n",
    "        logging.info('Project completed')\n",
    "    except Exception as e:\n",
    "        print(e)\n",
    "        logging.exception(e)"
   ]
  },
  {
   "cell_type": "code",
   "execution_count": 15,
   "id": "0d9cffcd-f2ad-4cba-9011-e68457b9d94e",
   "metadata": {},
   "outputs": [
    {
     "name": "stdout",
     "output_type": "stream",
     "text": [
      "unsupported operand type(s) for /: 'int' and 'str'\n"
     ]
    }
   ],
   "source": [
    "div(10,'hllo')"
   ]
  },
  {
   "cell_type": "code",
   "execution_count": 16,
   "id": "6542a0dc-3821-4501-8470-1395e8fb829e",
   "metadata": {},
   "outputs": [],
   "source": [
    "logging.shutdown()"
   ]
  },
  {
   "cell_type": "code",
   "execution_count": null,
   "id": "5b5164b5-1629-489b-abc8-09effc0ab836",
   "metadata": {},
   "outputs": [],
   "source": []
  }
 ],
 "metadata": {
  "kernelspec": {
   "display_name": "Python 3 (ipykernel)",
   "language": "python",
   "name": "python3"
  },
  "language_info": {
   "codemirror_mode": {
    "name": "ipython",
    "version": 3
   },
   "file_extension": ".py",
   "mimetype": "text/x-python",
   "name": "python",
   "nbconvert_exporter": "python",
   "pygments_lexer": "ipython3",
   "version": "3.12.4"
  }
 },
 "nbformat": 4,
 "nbformat_minor": 5
}
