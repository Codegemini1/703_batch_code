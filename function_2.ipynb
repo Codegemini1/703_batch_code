{
 "cells": [
  {
   "cell_type": "code",
   "execution_count": 1,
   "id": "cb5cffa1-67e3-4497-9c24-efd0c3de529f",
   "metadata": {},
   "outputs": [],
   "source": [
    "# Create function for Addition of two numnbers"
   ]
  },
  {
   "cell_type": "code",
   "execution_count": 2,
   "id": "aa693d5b-ff69-430b-a679-b86f0bcf0b3c",
   "metadata": {},
   "outputs": [],
   "source": [
    "def add(a,b):\n",
    "    return a + b"
   ]
  },
  {
   "cell_type": "code",
   "execution_count": 3,
   "id": "5f106d9a-ff10-4553-bb90-84f2f9451089",
   "metadata": {},
   "outputs": [],
   "source": [
    "# Create function for Sub of two numnbers"
   ]
  },
  {
   "cell_type": "code",
   "execution_count": 4,
   "id": "ccd667c5-b8b5-440a-9280-69140928aa14",
   "metadata": {},
   "outputs": [],
   "source": [
    "def sub(a,b):\n",
    "    return a - b"
   ]
  },
  {
   "cell_type": "code",
   "execution_count": 5,
   "id": "520f9c2c-dc83-4900-bde0-b4585b0e81e8",
   "metadata": {},
   "outputs": [],
   "source": [
    "# Create function for Cube of numnbers"
   ]
  },
  {
   "cell_type": "code",
   "execution_count": 6,
   "id": "30c48423-52e5-4ba4-99c9-646b360f33ad",
   "metadata": {},
   "outputs": [],
   "source": [
    "def cube(a):\n",
    "    return a ** 3"
   ]
  },
  {
   "cell_type": "code",
   "execution_count": 7,
   "id": "495154b1-4003-401d-bbde-fd87f44dd1e9",
   "metadata": {},
   "outputs": [
    {
     "data": {
      "text/plain": [
       "125"
      ]
     },
     "execution_count": 7,
     "metadata": {},
     "output_type": "execute_result"
    }
   ],
   "source": [
    "cube(5)"
   ]
  },
  {
   "cell_type": "code",
   "execution_count": 8,
   "id": "b98eb5f0-a9df-4025-9691-121bcb247374",
   "metadata": {},
   "outputs": [],
   "source": [
    "# Even_odd"
   ]
  },
  {
   "cell_type": "code",
   "execution_count": 9,
   "id": "83012bbd-83e8-4363-8dfd-5e9daea4dbf2",
   "metadata": {},
   "outputs": [],
   "source": [
    "def even_odd(x):\n",
    "    if x % 2 == 0:\n",
    "        return 'Even Number', x\n",
    "    else:\n",
    "        return 'Odd', x"
   ]
  },
  {
   "cell_type": "code",
   "execution_count": 10,
   "id": "228f0fc3-d624-46b9-a397-3f64daa76619",
   "metadata": {},
   "outputs": [
    {
     "data": {
      "text/plain": [
       "('Odd', 3)"
      ]
     },
     "execution_count": 10,
     "metadata": {},
     "output_type": "execute_result"
    }
   ],
   "source": [
    "even_odd(3)"
   ]
  },
  {
   "cell_type": "code",
   "execution_count": 11,
   "id": "827a1866-6ce5-4fb1-a1af-cc8f069fc369",
   "metadata": {},
   "outputs": [
    {
     "data": {
      "text/plain": [
       "('Even Number', 88)"
      ]
     },
     "execution_count": 11,
     "metadata": {},
     "output_type": "execute_result"
    }
   ],
   "source": [
    "even_odd(88)"
   ]
  },
  {
   "cell_type": "code",
   "execution_count": 12,
   "id": "98fd5ef6-34a5-4aa3-b2c7-b479b183ec68",
   "metadata": {},
   "outputs": [],
   "source": [
    "# Multiple Arguments"
   ]
  },
  {
   "cell_type": "code",
   "execution_count": 13,
   "id": "781f7a3b-e305-4f38-ac70-b8089b6df10f",
   "metadata": {},
   "outputs": [],
   "source": [
    "def test(a,b,c):\n",
    "    return a , b, c"
   ]
  },
  {
   "cell_type": "code",
   "execution_count": 14,
   "id": "3c623fc8-757e-4c36-9079-bea0baa65710",
   "metadata": {},
   "outputs": [
    {
     "data": {
      "text/plain": [
       "(1, 2, 3)"
      ]
     },
     "execution_count": 14,
     "metadata": {},
     "output_type": "execute_result"
    }
   ],
   "source": [
    "test(1,2,3)"
   ]
  },
  {
   "cell_type": "code",
   "execution_count": 15,
   "id": "aab48588-74e7-4cdd-ae12-cf3d56c06cf1",
   "metadata": {},
   "outputs": [],
   "source": [
    "# *Args"
   ]
  },
  {
   "cell_type": "code",
   "execution_count": 16,
   "id": "6d5eec90-a456-46bd-a7e7-a4c279e3ff93",
   "metadata": {},
   "outputs": [],
   "source": [
    "def test2(*args):\n",
    "    return args"
   ]
  },
  {
   "cell_type": "code",
   "execution_count": 17,
   "id": "63608699-898e-43cf-b15a-1ae0eeabb4b3",
   "metadata": {},
   "outputs": [
    {
     "data": {
      "text/plain": [
       "(1, 5, 3, 66, 4, 2, 6, 3, 6, 3, 52, 'hello', 1.5)"
      ]
     },
     "execution_count": 17,
     "metadata": {},
     "output_type": "execute_result"
    }
   ],
   "source": [
    "test2(1,5,3,66,4,2,6,3,6,3,52,\"hello\", 1.5)"
   ]
  },
  {
   "cell_type": "code",
   "execution_count": 18,
   "id": "390b03d7-4ff1-484f-8655-92f445af6e56",
   "metadata": {},
   "outputs": [],
   "source": [
    "def test3(a,*args):\n",
    "    return a , args"
   ]
  },
  {
   "cell_type": "code",
   "execution_count": 19,
   "id": "d85e307a-1c14-40ac-bcba-88a908901014",
   "metadata": {},
   "outputs": [
    {
     "data": {
      "text/plain": [
       "(1, (2, 3, 4, 5, 6))"
      ]
     },
     "execution_count": 19,
     "metadata": {},
     "output_type": "execute_result"
    }
   ],
   "source": [
    "test3(1,2,3,4,5,6)"
   ]
  },
  {
   "cell_type": "code",
   "execution_count": 20,
   "id": "7ac480f8-f07d-4b62-af88-40ad39e8f7ba",
   "metadata": {},
   "outputs": [],
   "source": [
    "def test4(a,b,c,*gemini):\n",
    "    return a ,b, c, gemini"
   ]
  },
  {
   "cell_type": "code",
   "execution_count": 21,
   "id": "b864937e-efa8-4c04-9149-9f7edc078583",
   "metadata": {},
   "outputs": [
    {
     "data": {
      "text/plain": [
       "(1, 2, 3, (4, 5, 6, 7, 8))"
      ]
     },
     "execution_count": 21,
     "metadata": {},
     "output_type": "execute_result"
    }
   ],
   "source": [
    "test4(1,2,3,4,5,6,7,8)"
   ]
  },
  {
   "cell_type": "code",
   "execution_count": 22,
   "id": "794cd723-04be-4ac2-9839-2c535de97b7a",
   "metadata": {},
   "outputs": [],
   "source": [
    "# Int type of data"
   ]
  },
  {
   "cell_type": "code",
   "execution_count": 23,
   "id": "6f525dbb-80a1-490b-af87-eaaf5e841d8c",
   "metadata": {},
   "outputs": [],
   "source": [
    "def int_filter(*args):\n",
    "    l = []\n",
    "    for i in args:\n",
    "        if type(i) == int:\n",
    "            l.append(i)\n",
    "    return l"
   ]
  },
  {
   "cell_type": "code",
   "execution_count": 24,
   "id": "ca6b6b5b-a155-41e2-8045-992d47137696",
   "metadata": {},
   "outputs": [
    {
     "data": {
      "text/plain": [
       "[1, 87, 45]"
      ]
     },
     "execution_count": 24,
     "metadata": {},
     "output_type": "execute_result"
    }
   ],
   "source": [
    "int_filter(1,1.5, \"hello\", 10+6j, True,87,45)"
   ]
  },
  {
   "cell_type": "code",
   "execution_count": 25,
   "id": "eb68bfe1-8744-48d3-a35e-a8b778fff241",
   "metadata": {},
   "outputs": [],
   "source": [
    "def test6(**kwargs): # Keys and values format\n",
    "    return kwargs "
   ]
  },
  {
   "cell_type": "code",
   "execution_count": 26,
   "id": "9341c9d5-1637-43ca-b83f-94a3fa7cc3f4",
   "metadata": {},
   "outputs": [
    {
     "data": {
      "text/plain": [
       "{'a': 5, 'b': 50, 'c': 1}"
      ]
     },
     "execution_count": 26,
     "metadata": {},
     "output_type": "execute_result"
    }
   ],
   "source": [
    "test6(a = 5, b=50, c=1)"
   ]
  },
  {
   "cell_type": "code",
   "execution_count": 31,
   "id": "92ca9a24-d965-43b8-be66-0f7a25a10e9a",
   "metadata": {},
   "outputs": [],
   "source": [
    "def test7(**kwargs): # Keys and values format\n",
    "    return kwargs.keys()"
   ]
  },
  {
   "cell_type": "code",
   "execution_count": 32,
   "id": "f22dfa5c-0c7f-46fd-a713-47096e70738d",
   "metadata": {},
   "outputs": [
    {
     "data": {
      "text/plain": [
       "dict_keys(['a', 'b', 'c'])"
      ]
     },
     "execution_count": 32,
     "metadata": {},
     "output_type": "execute_result"
    }
   ],
   "source": [
    "test7(a = 5, b=50, c=1)"
   ]
  },
  {
   "cell_type": "code",
   "execution_count": 33,
   "id": "10f14792-b930-4795-9f7a-8e3481e5306a",
   "metadata": {},
   "outputs": [],
   "source": [
    "def test8(**kwargs):\n",
    "    return kwargs.values()"
   ]
  },
  {
   "cell_type": "code",
   "execution_count": 34,
   "id": "f2bf5b62-aa6d-48dd-ad41-94a99e3bd7f5",
   "metadata": {},
   "outputs": [
    {
     "data": {
      "text/plain": [
       "dict_values([5, 50, 1])"
      ]
     },
     "execution_count": 34,
     "metadata": {},
     "output_type": "execute_result"
    }
   ],
   "source": [
    "test8(a = 5, b=50, c=1)"
   ]
  },
  {
   "cell_type": "code",
   "execution_count": 35,
   "id": "565be98a-26bb-4af8-9346-d92c2110ed47",
   "metadata": {},
   "outputs": [],
   "source": [
    "def test9(*args, **kwargs):\n",
    "    return args, kwargs"
   ]
  },
  {
   "cell_type": "code",
   "execution_count": 36,
   "id": "09a2757a-71b4-4cab-890f-5dc8a09b2f44",
   "metadata": {},
   "outputs": [
    {
     "data": {
      "text/plain": [
       "((3, 5, 3, 5, 44, 63), {'a': 6, 'b': 7, 'd': 5})"
      ]
     },
     "execution_count": 36,
     "metadata": {},
     "output_type": "execute_result"
    }
   ],
   "source": [
    "test9(3,5,3,5,44,63,a = 6, b= 7, d =5)"
   ]
  },
  {
   "cell_type": "code",
   "execution_count": 37,
   "id": "8ca1b98d-d958-4f6e-ad67-ed6b050474e0",
   "metadata": {},
   "outputs": [],
   "source": [
    "def test10(a, *args, **kwargs):\n",
    "    return a, args, kwargs"
   ]
  },
  {
   "cell_type": "code",
   "execution_count": 38,
   "id": "cffa7234-4ee7-4060-8d44-8accccf71f25",
   "metadata": {},
   "outputs": [
    {
     "data": {
      "text/plain": [
       "(1, (2, 3, 4, 5, 6, 7, 8, 9, 0), {'name': 'Hello', 'age': 65, 'city': 'XYZ'})"
      ]
     },
     "execution_count": 38,
     "metadata": {},
     "output_type": "execute_result"
    }
   ],
   "source": [
    "test10(1,2,3,4,5,6,7,8,9,0,name='Hello', age = 65, city = 'XYZ')"
   ]
  },
  {
   "cell_type": "code",
   "execution_count": 39,
   "id": "7d5528e0-1e13-4832-9bea-a803e368e7a6",
   "metadata": {},
   "outputs": [
    {
     "ename": "SyntaxError",
     "evalue": "invalid syntax (1460173096.py, line 1)",
     "output_type": "error",
     "traceback": [
      "\u001b[1;36m  Cell \u001b[1;32mIn[39], line 1\u001b[1;36m\u001b[0m\n\u001b[1;33m    def test10(*args,a,b **kwargs):\u001b[0m\n\u001b[1;37m                         ^\u001b[0m\n\u001b[1;31mSyntaxError\u001b[0m\u001b[1;31m:\u001b[0m invalid syntax\n"
     ]
    }
   ],
   "source": [
    "def test10(*args,a,b **kwargs):\n",
    "    return a, args, kwargs"
   ]
  },
  {
   "cell_type": "code",
   "execution_count": 40,
   "id": "bd740313-2ce3-42d3-8f7a-4d9bfb3e7720",
   "metadata": {},
   "outputs": [],
   "source": [
    "a = 'Hello'"
   ]
  },
  {
   "cell_type": "code",
   "execution_count": 41,
   "id": "b56dbd95-9c1c-4a7c-8291-01f5f51eb384",
   "metadata": {},
   "outputs": [
    {
     "data": {
      "text/plain": [
       "'Hello'"
      ]
     },
     "execution_count": 41,
     "metadata": {},
     "output_type": "execute_result"
    }
   ],
   "source": [
    "a"
   ]
  },
  {
   "cell_type": "code",
   "execution_count": 45,
   "id": "b6e2b75a-3d6b-443d-a29b-fef4beb44adc",
   "metadata": {},
   "outputs": [],
   "source": [
    "def xyz():\n",
    "    l = [] # Local variable\n",
    "    return l"
   ]
  },
  {
   "cell_type": "code",
   "execution_count": 43,
   "id": "7647b3e6-80be-439e-b6b9-44db2dd7ad1c",
   "metadata": {},
   "outputs": [
    {
     "ename": "NameError",
     "evalue": "name 'l' is not defined",
     "output_type": "error",
     "traceback": [
      "\u001b[1;31m---------------------------------------------------------------------------\u001b[0m",
      "\u001b[1;31mNameError\u001b[0m                                 Traceback (most recent call last)",
      "Cell \u001b[1;32mIn[43], line 1\u001b[0m\n\u001b[1;32m----> 1\u001b[0m l\n",
      "\u001b[1;31mNameError\u001b[0m: name 'l' is not defined"
     ]
    }
   ],
   "source": [
    "l"
   ]
  },
  {
   "cell_type": "code",
   "execution_count": 48,
   "id": "ceb5e95a-9f74-42cd-ae4c-7f9277311e2e",
   "metadata": {},
   "outputs": [],
   "source": [
    "k = [1,2,34] # Global variable"
   ]
  },
  {
   "cell_type": "code",
   "execution_count": 49,
   "id": "3e752183-4b2f-4d89-9457-4bd399cdcef4",
   "metadata": {},
   "outputs": [
    {
     "data": {
      "text/plain": [
       "[1, 2, 34]"
      ]
     },
     "execution_count": 49,
     "metadata": {},
     "output_type": "execute_result"
    }
   ],
   "source": [
    "k"
   ]
  },
  {
   "cell_type": "code",
   "execution_count": null,
   "id": "3996cc7b-83fd-41f5-b69b-adc4d2b27916",
   "metadata": {},
   "outputs": [],
   "source": []
  }
 ],
 "metadata": {
  "kernelspec": {
   "display_name": "Python 3 (ipykernel)",
   "language": "python",
   "name": "python3"
  },
  "language_info": {
   "codemirror_mode": {
    "name": "ipython",
    "version": 3
   },
   "file_extension": ".py",
   "mimetype": "text/x-python",
   "name": "python",
   "nbconvert_exporter": "python",
   "pygments_lexer": "ipython3",
   "version": "3.12.4"
  }
 },
 "nbformat": 4,
 "nbformat_minor": 5
}
