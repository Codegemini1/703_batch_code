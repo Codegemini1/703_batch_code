{
 "cells": [
  {
   "cell_type": "code",
   "execution_count": 1,
   "id": "5b38a425-7f04-4774-b153-db7d6fcbe441",
   "metadata": {},
   "outputs": [
    {
     "data": {
      "text/plain": [
       "0"
      ]
     },
     "execution_count": 1,
     "metadata": {},
     "output_type": "execute_result"
    }
   ],
   "source": [
    "10 % 2"
   ]
  },
  {
   "cell_type": "code",
   "execution_count": 2,
   "id": "c496ee49-f130-4d4e-a170-1069e52f4f6d",
   "metadata": {},
   "outputs": [
    {
     "data": {
      "text/plain": [
       "1"
      ]
     },
     "execution_count": 2,
     "metadata": {},
     "output_type": "execute_result"
    }
   ],
   "source": [
    "9 % 2"
   ]
  },
  {
   "cell_type": "code",
   "execution_count": 3,
   "id": "30e15c4e-50e3-4f5a-991a-f8f4344de24e",
   "metadata": {},
   "outputs": [
    {
     "data": {
      "text/plain": [
       "1"
      ]
     },
     "execution_count": 3,
     "metadata": {},
     "output_type": "execute_result"
    }
   ],
   "source": [
    "37823 % 2"
   ]
  },
  {
   "cell_type": "code",
   "execution_count": 4,
   "id": "1f2ba5fe-84ee-4e71-8ad9-dfab500a1309",
   "metadata": {},
   "outputs": [
    {
     "data": {
      "text/plain": [
       "0"
      ]
     },
     "execution_count": 4,
     "metadata": {},
     "output_type": "execute_result"
    }
   ],
   "source": [
    "222 % 2"
   ]
  },
  {
   "cell_type": "code",
   "execution_count": 5,
   "id": "8a269295-75bd-4014-b122-fa7078474c17",
   "metadata": {},
   "outputs": [],
   "source": [
    "num = 10"
   ]
  },
  {
   "cell_type": "code",
   "execution_count": 7,
   "id": "fa7116ab-b75e-4b81-8175-4995be86b39a",
   "metadata": {},
   "outputs": [
    {
     "name": "stdout",
     "output_type": "stream",
     "text": [
      "Even Number 10\n"
     ]
    }
   ],
   "source": [
    "if num % 2 == 0:\n",
    "    print('Even Number', num)\n",
    "else:\n",
    "    print('Odd Number', num)"
   ]
  },
  {
   "cell_type": "code",
   "execution_count": 6,
   "id": "b6bf4367-e47e-4e90-8fd5-0eb636e74ab8",
   "metadata": {},
   "outputs": [
    {
     "data": {
      "text/plain": [
       "0"
      ]
     },
     "execution_count": 6,
     "metadata": {},
     "output_type": "execute_result"
    }
   ],
   "source": [
    "num % 2"
   ]
  },
  {
   "cell_type": "code",
   "execution_count": 8,
   "id": "8c9fe30c-002d-4f12-a608-97510c2d8bde",
   "metadata": {},
   "outputs": [
    {
     "name": "stdout",
     "output_type": "stream",
     "text": [
      "Odd Number 3\n"
     ]
    }
   ],
   "source": [
    "num = 3\n",
    "if num % 2 == 0:\n",
    "    print('Even Number', num)\n",
    "else:\n",
    "    print('Odd Number', num)"
   ]
  },
  {
   "cell_type": "code",
   "execution_count": 10,
   "id": "4cac99c4-4a6b-4557-b489-afe774eb0637",
   "metadata": {},
   "outputs": [
    {
     "name": "stdout",
     "output_type": "stream",
     "text": [
      "Odd Num 3\n"
     ]
    }
   ],
   "source": [
    "num = 3\n",
    "if num % 2 == 1:\n",
    "    print('Odd Num', num)\n",
    "else:\n",
    "    print('EvenNumber', num)"
   ]
  },
  {
   "cell_type": "code",
   "execution_count": 11,
   "id": "9c39cedd-8c44-44b4-9858-fcab69e819c8",
   "metadata": {},
   "outputs": [],
   "source": [
    "l = [1,3,6,3,7,8,2,5]"
   ]
  },
  {
   "cell_type": "code",
   "execution_count": 12,
   "id": "8d827b65-fe89-437b-985e-656ee327ac9d",
   "metadata": {},
   "outputs": [
    {
     "name": "stdout",
     "output_type": "stream",
     "text": [
      "1\n",
      "3\n",
      "6\n",
      "3\n",
      "7\n",
      "8\n",
      "2\n",
      "5\n"
     ]
    }
   ],
   "source": [
    "for i in l:\n",
    "    print(i)"
   ]
  },
  {
   "cell_type": "code",
   "execution_count": 13,
   "id": "d1320410-10d0-4326-8d12-583eede13c69",
   "metadata": {
    "scrolled": true
   },
   "outputs": [
    {
     "name": "stdout",
     "output_type": "stream",
     "text": [
      "6\n",
      "8\n",
      "2\n"
     ]
    }
   ],
   "source": [
    "for i in l:\n",
    "    if i % 2 == 0:\n",
    "        print(i)"
   ]
  },
  {
   "cell_type": "code",
   "execution_count": 14,
   "id": "3368da11-ccf4-494f-833e-6f786d4c95b9",
   "metadata": {},
   "outputs": [
    {
     "data": {
      "text/plain": [
       "[1, 3, 6, 3, 7, 8, 2, 5]"
      ]
     },
     "execution_count": 14,
     "metadata": {},
     "output_type": "execute_result"
    }
   ],
   "source": [
    "l"
   ]
  },
  {
   "cell_type": "code",
   "execution_count": null,
   "id": "28e134eb-cd07-4050-a465-c8246b70db8a",
   "metadata": {},
   "outputs": [],
   "source": [
    "l.append()"
   ]
  },
  {
   "cell_type": "code",
   "execution_count": 15,
   "id": "ddabf58f-0fe8-4af1-b02c-a0fce83bc5a7",
   "metadata": {},
   "outputs": [
    {
     "data": {
      "text/plain": [
       "1"
      ]
     },
     "execution_count": 15,
     "metadata": {},
     "output_type": "execute_result"
    }
   ],
   "source": [
    "l.count(1)"
   ]
  },
  {
   "cell_type": "code",
   "execution_count": 16,
   "id": "deb45720-2dea-4783-8e73-595d4ea995d5",
   "metadata": {},
   "outputs": [
    {
     "data": {
      "text/plain": [
       "5"
      ]
     },
     "execution_count": 16,
     "metadata": {},
     "output_type": "execute_result"
    }
   ],
   "source": [
    "len('hello')"
   ]
  },
  {
   "cell_type": "markdown",
   "id": "4a13e929-39c9-49c1-a6b7-1205f27b5b3b",
   "metadata": {},
   "source": [
    "# Defining function"
   ]
  },
  {
   "cell_type": "code",
   "execution_count": 17,
   "id": "d908e19a-3572-460c-b83d-75fc0fae3f27",
   "metadata": {},
   "outputs": [],
   "source": [
    "def test():\n",
    "    print('Hello')"
   ]
  },
  {
   "cell_type": "code",
   "execution_count": 18,
   "id": "7c7bd947-e6bf-48c8-a27b-1827afdc08ca",
   "metadata": {},
   "outputs": [
    {
     "name": "stdout",
     "output_type": "stream",
     "text": [
      "Hello\n"
     ]
    }
   ],
   "source": [
    "test()"
   ]
  },
  {
   "cell_type": "code",
   "execution_count": 19,
   "id": "52c2b9d0-087a-47e8-b3d0-cd0d7fc72c96",
   "metadata": {},
   "outputs": [],
   "source": [
    "def code1():\n",
    "    print('This is my code1 function')"
   ]
  },
  {
   "cell_type": "code",
   "execution_count": 20,
   "id": "438f75f7-c765-4c23-ba24-0d01d5445758",
   "metadata": {},
   "outputs": [
    {
     "name": "stdout",
     "output_type": "stream",
     "text": [
      "This is my code1 function\n"
     ]
    }
   ],
   "source": [
    "code1()"
   ]
  },
  {
   "cell_type": "markdown",
   "id": "a51e08b3-ffa3-42eb-8469-9b2ff83d230a",
   "metadata": {},
   "source": [
    "# How to write dockstring / Description of function"
   ]
  },
  {
   "cell_type": "code",
   "execution_count": 21,
   "id": "55909986-0854-4162-9951-b82c1d3f481c",
   "metadata": {},
   "outputs": [],
   "source": [
    "def hello():\n",
    "    \"\"\"This is my hello function.\n",
    "    This is going to write hello python name\"\"\"\n",
    "    print('hello python name')"
   ]
  },
  {
   "cell_type": "code",
   "execution_count": 22,
   "id": "3a128c7f-d865-4dac-9bf9-dd2b0ae06e8c",
   "metadata": {},
   "outputs": [
    {
     "name": "stdout",
     "output_type": "stream",
     "text": [
      "hello python name\n"
     ]
    }
   ],
   "source": [
    "hello()"
   ]
  },
  {
   "cell_type": "raw",
   "id": "e22093b0-362e-41fc-a56a-a13c045ff783",
   "metadata": {},
   "source": [
    "# Questions\n",
    "1. What is funcion ?\n",
    "--> Function is going to excute specefic task.\n",
    "-->  excute Block of code\n",
    "\n",
    "2. How to write function dockstring/description?\n",
    "--> In a triple qutotes we will write it down.\n",
    "\n",
    "3. How to create function ?\n",
    "--> By writing down def then function name () : then block of code"
   ]
  },
  {
   "cell_type": "code",
   "execution_count": 24,
   "id": "2d90b958-3b21-4aa0-8ff3-99fc3d1aeec2",
   "metadata": {},
   "outputs": [
    {
     "data": {
      "text/plain": [
       "int"
      ]
     },
     "execution_count": 24,
     "metadata": {},
     "output_type": "execute_result"
    }
   ],
   "source": [
    "type(10)"
   ]
  },
  {
   "cell_type": "code",
   "execution_count": 25,
   "id": "98d0389c-1550-428a-b901-5a7e9b4e7124",
   "metadata": {},
   "outputs": [
    {
     "data": {
      "text/plain": [
       "str"
      ]
     },
     "execution_count": 25,
     "metadata": {},
     "output_type": "execute_result"
    }
   ],
   "source": [
    "type('Hello')"
   ]
  },
  {
   "cell_type": "code",
   "execution_count": 26,
   "id": "3dfd1670-48c0-4462-85f3-03a65e3f0b6a",
   "metadata": {},
   "outputs": [
    {
     "name": "stdout",
     "output_type": "stream",
     "text": [
      "Hello\n",
      "This is my code1 function\n"
     ]
    },
    {
     "ename": "TypeError",
     "evalue": "unsupported operand type(s) for +: 'NoneType' and 'NoneType'",
     "output_type": "error",
     "traceback": [
      "\u001b[1;31m---------------------------------------------------------------------------\u001b[0m",
      "\u001b[1;31mTypeError\u001b[0m                                 Traceback (most recent call last)",
      "Cell \u001b[1;32mIn[26], line 1\u001b[0m\n\u001b[1;32m----> 1\u001b[0m test() \u001b[38;5;241m+\u001b[39m code1()\n",
      "\u001b[1;31mTypeError\u001b[0m: unsupported operand type(s) for +: 'NoneType' and 'NoneType'"
     ]
    }
   ],
   "source": [
    "test() + code1()"
   ]
  },
  {
   "cell_type": "code",
   "execution_count": 27,
   "id": "214d2d7d-c6c9-46c2-bc4d-af0e693555cc",
   "metadata": {},
   "outputs": [
    {
     "name": "stdout",
     "output_type": "stream",
     "text": [
      "Hello\n"
     ]
    }
   ],
   "source": [
    "test()"
   ]
  },
  {
   "cell_type": "code",
   "execution_count": 28,
   "id": "13767c2d-194f-44f4-b3e0-3360077cbeb5",
   "metadata": {},
   "outputs": [
    {
     "name": "stdout",
     "output_type": "stream",
     "text": [
      "Hello\n"
     ]
    },
    {
     "data": {
      "text/plain": [
       "NoneType"
      ]
     },
     "execution_count": 28,
     "metadata": {},
     "output_type": "execute_result"
    }
   ],
   "source": [
    "type(test())"
   ]
  },
  {
   "cell_type": "code",
   "execution_count": 29,
   "id": "c4b67a8d-38bf-4d03-bb81-9082568268cb",
   "metadata": {},
   "outputs": [
    {
     "name": "stdout",
     "output_type": "stream",
     "text": [
      "This is my code1 function\n"
     ]
    },
    {
     "data": {
      "text/plain": [
       "NoneType"
      ]
     },
     "execution_count": 29,
     "metadata": {},
     "output_type": "execute_result"
    }
   ],
   "source": [
    "type(code1())"
   ]
  },
  {
   "cell_type": "code",
   "execution_count": 30,
   "id": "6076c360-313d-40f4-98e1-7d30845ce376",
   "metadata": {},
   "outputs": [],
   "source": [
    "def test2():\n",
    "    print(5)"
   ]
  },
  {
   "cell_type": "code",
   "execution_count": 31,
   "id": "b1ca826e-ce36-477f-9efa-b67da465863d",
   "metadata": {},
   "outputs": [
    {
     "name": "stdout",
     "output_type": "stream",
     "text": [
      "5\n"
     ]
    }
   ],
   "source": [
    "test2()"
   ]
  },
  {
   "cell_type": "code",
   "execution_count": 32,
   "id": "a266699f-fa69-4b90-aab3-98d247ab30c4",
   "metadata": {},
   "outputs": [
    {
     "name": "stdout",
     "output_type": "stream",
     "text": [
      "5\n"
     ]
    },
    {
     "data": {
      "text/plain": [
       "NoneType"
      ]
     },
     "execution_count": 32,
     "metadata": {},
     "output_type": "execute_result"
    }
   ],
   "source": [
    "type(test2())"
   ]
  },
  {
   "cell_type": "code",
   "execution_count": 33,
   "id": "6bc1e5e2-ec30-414e-b633-1e2f7c6c816c",
   "metadata": {},
   "outputs": [],
   "source": [
    "def test3():\n",
    "    return 5"
   ]
  },
  {
   "cell_type": "code",
   "execution_count": 34,
   "id": "2b5e2347-d01a-47b1-a57a-853fc402c3f4",
   "metadata": {},
   "outputs": [
    {
     "data": {
      "text/plain": [
       "5"
      ]
     },
     "execution_count": 34,
     "metadata": {},
     "output_type": "execute_result"
    }
   ],
   "source": [
    "test3()"
   ]
  },
  {
   "cell_type": "code",
   "execution_count": 35,
   "id": "52a1ba87-aa6b-465f-847e-263285a6ff0c",
   "metadata": {},
   "outputs": [
    {
     "data": {
      "text/plain": [
       "int"
      ]
     },
     "execution_count": 35,
     "metadata": {},
     "output_type": "execute_result"
    }
   ],
   "source": [
    "type(test3())"
   ]
  },
  {
   "cell_type": "code",
   "execution_count": 36,
   "id": "b0daa3da-6e5b-437b-9c4a-6557ffdca6c8",
   "metadata": {},
   "outputs": [],
   "source": [
    "def test4():\n",
    "    return 10"
   ]
  },
  {
   "cell_type": "code",
   "execution_count": 37,
   "id": "185fc161-e9fc-41bc-bdcb-92d53ee052e5",
   "metadata": {},
   "outputs": [
    {
     "data": {
      "text/plain": [
       "10"
      ]
     },
     "execution_count": 37,
     "metadata": {},
     "output_type": "execute_result"
    }
   ],
   "source": [
    "test4()"
   ]
  },
  {
   "cell_type": "code",
   "execution_count": 38,
   "id": "0aab8433-b236-4953-8bf4-72ee710eb789",
   "metadata": {},
   "outputs": [
    {
     "data": {
      "text/plain": [
       "15"
      ]
     },
     "execution_count": 38,
     "metadata": {},
     "output_type": "execute_result"
    }
   ],
   "source": [
    "test3() + test4()"
   ]
  },
  {
   "cell_type": "code",
   "execution_count": 39,
   "id": "350b56ed-45ee-437a-bbf0-e5496b08a69d",
   "metadata": {},
   "outputs": [],
   "source": [
    "# Argument in function"
   ]
  },
  {
   "cell_type": "code",
   "execution_count": 40,
   "id": "05ebf9ed-d9d2-41ac-835f-0e9bb38e8167",
   "metadata": {},
   "outputs": [],
   "source": [
    "def test5(a):\n",
    "    return a"
   ]
  },
  {
   "cell_type": "code",
   "execution_count": 42,
   "id": "23dd301e-0110-4c42-acac-8555f8be8b6f",
   "metadata": {},
   "outputs": [
    {
     "data": {
      "text/plain": [
       "10"
      ]
     },
     "execution_count": 42,
     "metadata": {},
     "output_type": "execute_result"
    }
   ],
   "source": [
    "test5(10)"
   ]
  },
  {
   "cell_type": "code",
   "execution_count": 43,
   "id": "210a28cf-7a50-4efe-9e51-123f0bd36c53",
   "metadata": {},
   "outputs": [
    {
     "data": {
      "text/plain": [
       "'Hello'"
      ]
     },
     "execution_count": 43,
     "metadata": {},
     "output_type": "execute_result"
    }
   ],
   "source": [
    "test5('Hello')"
   ]
  },
  {
   "cell_type": "code",
   "execution_count": 44,
   "id": "3eb97aaa-64c3-4bb5-8c7b-79267e6937b2",
   "metadata": {},
   "outputs": [
    {
     "ename": "TypeError",
     "evalue": "test5() takes 1 positional argument but 2 were given",
     "output_type": "error",
     "traceback": [
      "\u001b[1;31m---------------------------------------------------------------------------\u001b[0m",
      "\u001b[1;31mTypeError\u001b[0m                                 Traceback (most recent call last)",
      "Cell \u001b[1;32mIn[44], line 1\u001b[0m\n\u001b[1;32m----> 1\u001b[0m test5(\u001b[38;5;241m10\u001b[39m,\u001b[38;5;241m5\u001b[39m)\n",
      "\u001b[1;31mTypeError\u001b[0m: test5() takes 1 positional argument but 2 were given"
     ]
    }
   ],
   "source": [
    "test5(10,5)"
   ]
  },
  {
   "cell_type": "code",
   "execution_count": 45,
   "id": "777da072-00e3-4e81-bf5f-fe879dc73ad7",
   "metadata": {},
   "outputs": [],
   "source": [
    "def test7(a,b):\n",
    "    return a, b"
   ]
  },
  {
   "cell_type": "code",
   "execution_count": 46,
   "id": "bbf33b7e-e3ca-4cf9-a238-87aa3ab85be3",
   "metadata": {},
   "outputs": [
    {
     "data": {
      "text/plain": [
       "(5, 1)"
      ]
     },
     "execution_count": 46,
     "metadata": {},
     "output_type": "execute_result"
    }
   ],
   "source": [
    "test7(5,1)"
   ]
  },
  {
   "cell_type": "code",
   "execution_count": 47,
   "id": "b1f1b788-9b52-4d1f-96e1-dfb35f536c51",
   "metadata": {},
   "outputs": [],
   "source": [
    "def test8(a,b):\n",
    "    return a + b"
   ]
  },
  {
   "cell_type": "code",
   "execution_count": 48,
   "id": "dfccc54e-4680-49db-8758-8c3e86e7954d",
   "metadata": {},
   "outputs": [
    {
     "data": {
      "text/plain": [
       "6"
      ]
     },
     "execution_count": 48,
     "metadata": {},
     "output_type": "execute_result"
    }
   ],
   "source": [
    "test8(1,5)"
   ]
  },
  {
   "cell_type": "code",
   "execution_count": 49,
   "id": "e4715852-cbfa-47c5-abc7-b99f2cf2ddcd",
   "metadata": {},
   "outputs": [],
   "source": [
    "def test9(a,b):\n",
    "    total = a + b\n",
    "    return total"
   ]
  },
  {
   "cell_type": "code",
   "execution_count": 50,
   "id": "6ea39590-2518-49a6-8193-1a2d53b8fef1",
   "metadata": {},
   "outputs": [
    {
     "data": {
      "text/plain": [
       "18"
      ]
     },
     "execution_count": 50,
     "metadata": {},
     "output_type": "execute_result"
    }
   ],
   "source": [
    "test9(13,5)"
   ]
  },
  {
   "cell_type": "code",
   "execution_count": 51,
   "id": "f899749c-928f-4911-b719-20f7e7354f9c",
   "metadata": {},
   "outputs": [],
   "source": [
    "# Square of number"
   ]
  },
  {
   "cell_type": "code",
   "execution_count": 52,
   "id": "d625aad5-2368-4d73-80e9-407fe33fbbe3",
   "metadata": {},
   "outputs": [
    {
     "data": {
      "text/plain": [
       "4"
      ]
     },
     "execution_count": 52,
     "metadata": {},
     "output_type": "execute_result"
    }
   ],
   "source": [
    "2 * 2"
   ]
  },
  {
   "cell_type": "code",
   "execution_count": 53,
   "id": "36cd456e-50b5-4b4b-97ff-863f6d5e61e4",
   "metadata": {},
   "outputs": [
    {
     "data": {
      "text/plain": [
       "4"
      ]
     },
     "execution_count": 53,
     "metadata": {},
     "output_type": "execute_result"
    }
   ],
   "source": [
    "2 ** 2"
   ]
  },
  {
   "cell_type": "code",
   "execution_count": 54,
   "id": "4ef08913-811b-42ed-8186-f8fa42ea918e",
   "metadata": {},
   "outputs": [],
   "source": [
    "def square(a):\n",
    "    return a * a"
   ]
  },
  {
   "cell_type": "code",
   "execution_count": 55,
   "id": "d952e69e-3d56-41eb-8239-5c4bb1b51f20",
   "metadata": {},
   "outputs": [
    {
     "data": {
      "text/plain": [
       "49"
      ]
     },
     "execution_count": 55,
     "metadata": {},
     "output_type": "execute_result"
    }
   ],
   "source": [
    "square(7)"
   ]
  },
  {
   "cell_type": "code",
   "execution_count": 56,
   "id": "fbfb0055-4826-45ea-926b-a94213104bc3",
   "metadata": {},
   "outputs": [],
   "source": [
    "# Create function for Addition of two numnbers\n",
    "# Create function for Sub of two numnbers\n",
    "# Create function for Multiplication of two numnbers\n",
    "# Create function for Cube of numnbers"
   ]
  },
  {
   "cell_type": "code",
   "execution_count": null,
   "id": "39e0104a-03b4-419c-ae94-9279a450dfc6",
   "metadata": {},
   "outputs": [],
   "source": []
  }
 ],
 "metadata": {
  "kernelspec": {
   "display_name": "Python 3 (ipykernel)",
   "language": "python",
   "name": "python3"
  },
  "language_info": {
   "codemirror_mode": {
    "name": "ipython",
    "version": 3
   },
   "file_extension": ".py",
   "mimetype": "text/x-python",
   "name": "python",
   "nbconvert_exporter": "python",
   "pygments_lexer": "ipython3",
   "version": "3.12.4"
  }
 },
 "nbformat": 4,
 "nbformat_minor": 5
}
